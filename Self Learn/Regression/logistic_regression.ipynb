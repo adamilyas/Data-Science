{
 "cells": [
  {
   "cell_type": "code",
   "execution_count": 2,
   "metadata": {},
   "outputs": [],
   "source": [
    "import pandas as pd\n",
    "import numpy as np\n",
    "import matplotlib.pyplot as plt\n",
    "import seaborn as sns\n",
    "\n",
    "%matplotlib inline"
   ]
  },
  {
   "cell_type": "code",
   "execution_count": 16,
   "metadata": {},
   "outputs": [],
   "source": [
    "from sklearn.model_selection import train_test_split\n",
    "from sklearn.linear_model import LogisticRegression, LogisticRegressionCV\n",
    "from sklearn.preprocessing import minmax_scale\n",
    "from sklearn import metrics"
   ]
  },
  {
   "cell_type": "code",
   "execution_count": 6,
   "metadata": {},
   "outputs": [
    {
     "data": {
      "text/html": [
       "<div>\n",
       "<style scoped>\n",
       "    .dataframe tbody tr th:only-of-type {\n",
       "        vertical-align: middle;\n",
       "    }\n",
       "\n",
       "    .dataframe tbody tr th {\n",
       "        vertical-align: top;\n",
       "    }\n",
       "\n",
       "    .dataframe thead th {\n",
       "        text-align: right;\n",
       "    }\n",
       "</style>\n",
       "<table border=\"1\" class=\"dataframe\">\n",
       "  <thead>\n",
       "    <tr style=\"text-align: right;\">\n",
       "      <th></th>\n",
       "      <th>red</th>\n",
       "      <th>green</th>\n",
       "      <th>blue</th>\n",
       "      <th>class</th>\n",
       "    </tr>\n",
       "  </thead>\n",
       "  <tbody>\n",
       "    <tr>\n",
       "      <th>0</th>\n",
       "      <td>137.601168</td>\n",
       "      <td>164.151861</td>\n",
       "      <td>76.379085</td>\n",
       "      <td>0</td>\n",
       "    </tr>\n",
       "    <tr>\n",
       "      <th>1</th>\n",
       "      <td>87.610809</td>\n",
       "      <td>135.854727</td>\n",
       "      <td>41.928933</td>\n",
       "      <td>0</td>\n",
       "    </tr>\n",
       "    <tr>\n",
       "      <th>2</th>\n",
       "      <td>66.430575</td>\n",
       "      <td>154.891591</td>\n",
       "      <td>40.473052</td>\n",
       "      <td>0</td>\n",
       "    </tr>\n",
       "    <tr>\n",
       "      <th>3</th>\n",
       "      <td>79.411056</td>\n",
       "      <td>121.858225</td>\n",
       "      <td>51.353796</td>\n",
       "      <td>0</td>\n",
       "    </tr>\n",
       "    <tr>\n",
       "      <th>4</th>\n",
       "      <td>147.551549</td>\n",
       "      <td>173.542708</td>\n",
       "      <td>99.561643</td>\n",
       "      <td>0</td>\n",
       "    </tr>\n",
       "  </tbody>\n",
       "</table>\n",
       "</div>"
      ],
      "text/plain": [
       "          red       green       blue  class\n",
       "0  137.601168  164.151861  76.379085      0\n",
       "1   87.610809  135.854727  41.928933      0\n",
       "2   66.430575  154.891591  40.473052      0\n",
       "3   79.411056  121.858225  51.353796      0\n",
       "4  147.551549  173.542708  99.561643      0"
      ]
     },
     "execution_count": 6,
     "metadata": {},
     "output_type": "execute_result"
    }
   ],
   "source": [
    "df = pd.read_csv('feature.csv')\n",
    "df.head()"
   ]
  },
  {
   "cell_type": "code",
   "execution_count": 7,
   "metadata": {},
   "outputs": [],
   "source": [
    "X = df.loc[:, df.columns != 'class']\n",
    "y = df['class']"
   ]
  },
  {
   "cell_type": "code",
   "execution_count": 10,
   "metadata": {},
   "outputs": [
    {
     "data": {
      "text/plain": [
       "array([ True, False, False])"
      ]
     },
     "execution_count": 10,
     "metadata": {},
     "output_type": "execute_result"
    }
   ],
   "source": [
    "np.array([1,2,3]) == 1"
   ]
  },
  {
   "cell_type": "code",
   "execution_count": 14,
   "metadata": {},
   "outputs": [
    {
     "data": {
      "image/png": "[encoded data removed]",
      "text/plain": [
       "<Figure size 1080x360 with 3 Axes>"
      ]
     },
     "metadata": {},
     "output_type": "display_data"
    }
   ],
   "source": [
    "# Set figure size (width, height)\n",
    "fig, axes = plt.subplots(1, 3,figsize=(15, 5))\n",
    "\n",
    "def plot_vs(df, feature1, feature2, i):\n",
    "    interest, others = df[df['class'] == 0], df[df['class'] != 0]\n",
    "    axes[i].scatter(interest[f'{feature1}'], interest[f'{feature2}'], c='g', marker ='x', label='class 0')\n",
    "    axes[i].scatter(others[f'{feature1}'], others[f'{feature2}'], c='r', marker ='o', label='class 1 + class 2')\n",
    "    axes[i].set_xlabel(f'{feature1}')\n",
    "    axes[i].set_ylabel(f'{feature2}')\n",
    "    axes[i].legend()\n",
    "    axes[i].set_title(f'{feature2} vs {feature1}')\n",
    "\n",
    "plot_vs(df, 'red', 'green', 0)\n",
    "plot_vs(df, 'blue', 'green', 1)\n",
    "plot_vs(df, 'red', 'blue', 2)"
   ]
  },
  {
   "cell_type": "code",
   "execution_count": 21,
   "metadata": {},
   "outputs": [],
   "source": [
    "X = minmax_scale(X)"
   ]
  },
  {
   "cell_type": "code",
   "execution_count": 188,
   "metadata": {},
   "outputs": [],
   "source": [
    "class logmodel:\n",
    "    def __init__(self, step_size=20, n_iter=3000):\n",
    "        self.step_size = step_size\n",
    "        self.n_iter = n_iter\n",
    "        self.loss_list = []\n",
    "        self.weights = []\n",
    "        \n",
    "    def __sigmoid(self, z):\n",
    "        return 1/(1+np.exp(-z))\n",
    "    \n",
    "    def __gradient(self, X,y,w):\n",
    "        N, d = X.shape\n",
    "        grad=np.zeros((1,d))\n",
    "        for i in range(N):\n",
    "            grad=grad+(self.__sigmoid(np.dot(X[i,:],np.transpose(w)))-y[i])*X[i,:]\n",
    "        grad=np.dot(1/N,grad)\n",
    "        return grad\n",
    "    \n",
    "    def logisticRegression_func(self,X,y):\n",
    "        \"\"\"\n",
    "        K: no. of iteration\n",
    "        \"\"\"\n",
    "        N, d = X.shape\n",
    "        # Initialize w as 1xd array.\n",
    "        w = np.zeros((1,d))\n",
    "        loss = float('inf')\n",
    "        loss_list = []\n",
    "        for i in range(self.n_iter):\n",
    "            grad=self.__gradient(X,y,w)\n",
    "            w = w-self.step_size * grad\n",
    "            l = self.__sigmoid(np.dot(X,np.transpose(w)))\n",
    "            loss = -np.dot(np.squeeze(np.asarray(y)),np.log(l))-np.dot(1-np.squeeze(np.asarray(y)),np.log(1-l))\n",
    "            loss_list.append(loss/N)\n",
    "        self.loss_list.append(loss_list)\n",
    "        \n",
    "        return w\n",
    "    \n",
    "    def fit(self,X,y):\n",
    "        self.label_names = np.unique(y)\n",
    "        for k in np.unique(y):\n",
    "            y_prime = np.array([1 if label == k else 0 for label in y])\n",
    "            w = self.logisticRegression_func(X,y_prime)\n",
    "            self.weights.append(w)\n",
    "            \n",
    "    def predict(self, X, show_prob=False):\n",
    "        k = len(np.unique(self.label_names)) # no. of classes\n",
    "        N, d = X.shape # 55, 3\n",
    "        \n",
    "        y_predict = np.zeros((N,k))\n",
    "        for i, w in enumerate(self.weights):\n",
    "            y_predict[:, i] = self.__sigmoid(np.dot(X,np.transpose(w))).flatten()\n",
    "        \n",
    "        if show_prob:\n",
    "            return y_predict\n",
    "        else:\n",
    "            return np.apply_along_axis(np.argmax, 1, y_predict)"
   ]
  },
  {
   "cell_type": "code",
   "execution_count": 197,
   "metadata": {},
   "outputs": [
    {
     "data": {
      "text/plain": [
       "[array([[-13.84805274,  31.45188231, -30.87106413]]),\n",
       " array([[ 16.66479488, -21.56013425,   6.07162006]]),\n",
       " array([[-2.94361947, -7.2939109 , 11.79381593]])]"
      ]
     },
     "execution_count": 197,
     "metadata": {},
     "output_type": "execute_result"
    }
   ],
   "source": [
    "lm = logmodel()\n",
    "lm.fit(X,y)\n",
    "weights = lm.weights\n",
    "weights"
   ]
  },
  {
   "cell_type": "code",
   "execution_count": 198,
   "metadata": {},
   "outputs": [
    {
     "data": {
      "text/plain": [
       "array([0, 0, 0, 0, 0, 0, 0, 0, 0, 0, 0, 0, 0, 0, 2, 0, 0, 0, 0, 0, 1, 1,\n",
       "       2, 1, 1, 1, 1, 0, 2, 2, 1, 1, 1, 2, 0, 2, 1, 2, 2, 1, 2, 2, 2, 1,\n",
       "       2, 2, 1, 2, 2, 2, 2, 2, 0, 0, 2])"
      ]
     },
     "execution_count": 198,
     "metadata": {},
     "output_type": "execute_result"
    }
   ],
   "source": [
    "y_predict = lm.predict(X)\n",
    "y_predict"
   ]
  },
  {
   "cell_type": "code",
   "execution_count": 199,
   "metadata": {},
   "outputs": [
    {
     "data": {
      "text/plain": [
       "(0.2545454545454545, 0.7454545454545455)"
      ]
     },
     "execution_count": 199,
     "metadata": {},
     "output_type": "execute_result"
    }
   ],
   "source": [
    "acc = np.mean(y_predict == y)\n",
    "error = 1 - acc\n",
    "error, acc"
   ]
  },
  {
   "cell_type": "code",
   "execution_count": 200,
   "metadata": {},
   "outputs": [
    {
     "name": "stdout",
     "output_type": "stream",
     "text": [
      "             precision    recall  f1-score   support\n",
      "\n",
      "          0       0.83      0.95      0.88        20\n",
      "          1       0.85      0.55      0.67        20\n",
      "          2       0.58      0.73      0.65        15\n",
      "\n",
      "avg / total       0.77      0.75      0.74        55\n",
      "\n"
     ]
    }
   ],
   "source": [
    "print(metrics.classification_report(y_pred=y_predict, y_true=y))"
   ]
  },
  {
   "cell_type": "code",
   "execution_count": null,
   "metadata": {},
   "outputs": [],
   "source": []
  },
  {
   "cell_type": "code",
   "execution_count": null,
   "metadata": {},
   "outputs": [],
   "source": []
  },
  {
   "cell_type": "code",
   "execution_count": null,
   "metadata": {},
   "outputs": [],
   "source": []
  },
  {
   "cell_type": "code",
   "execution_count": null,
   "metadata": {},
   "outputs": [],
   "source": []
  },
  {
   "cell_type": "code",
   "execution_count": null,
   "metadata": {},
   "outputs": [],
   "source": []
  }
 ],
 "metadata": {
  "kernelspec": {
   "display_name": "Python 3",
   "language": "python",
   "name": "python3"
  },
  "language_info": {
   "codemirror_mode": {
    "name": "ipython",
    "version": 3
   },
   "file_extension": ".py",
   "mimetype": "text/x-python",
   "name": "python",
   "nbconvert_exporter": "python",
   "pygments_lexer": "ipython3",
   "version": "3.6.5"
  }
 },
 "nbformat": 4,
 "nbformat_minor": 2
}
