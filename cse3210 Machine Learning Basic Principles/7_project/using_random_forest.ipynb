{
 "cells": [
  {
   "cell_type": "markdown",
   "metadata": {},
   "source": [
    "# random forest"
   ]
  },
  {
   "cell_type": "code",
   "execution_count": 1,
   "metadata": {},
   "outputs": [],
   "source": [
    "import pandas as pd\n",
    "import numpy as np\n",
    "import matplotlib.pyplot as plt\n",
    "import seaborn as sns\n",
    "\n",
    "%matplotlib inline"
   ]
  },
  {
   "cell_type": "code",
   "execution_count": 2,
   "metadata": {},
   "outputs": [],
   "source": [
    "from sklearn import preprocessing\n",
    "\n",
    "from sklearn.ensemble import RandomForestClassifier\n",
    "from sklearn.model_selection import train_test_split\n",
    "\n",
    "# model validation\n",
    "from sklearn.metrics import accuracy_score"
   ]
  },
  {
   "cell_type": "code",
   "execution_count": 3,
   "metadata": {},
   "outputs": [],
   "source": [
    "train_labels = pd.read_csv(\"./data/train_labels.csv\", header=None)\n",
    "train_data = pd.read_csv(\"./data/train_data.csv\", header=None)"
   ]
  },
  {
   "cell_type": "code",
   "execution_count": 4,
   "metadata": {},
   "outputs": [
    {
     "data": {
      "text/html": [
       "<div>\n",
       "<style scoped>\n",
       "    .dataframe tbody tr th:only-of-type {\n",
       "        vertical-align: middle;\n",
       "    }\n",
       "\n",
       "    .dataframe tbody tr th {\n",
       "        vertical-align: top;\n",
       "    }\n",
       "\n",
       "    .dataframe thead th {\n",
       "        text-align: right;\n",
       "    }\n",
       "</style>\n",
       "<table border=\"1\" class=\"dataframe\">\n",
       "  <thead>\n",
       "    <tr style=\"text-align: right;\">\n",
       "      <th></th>\n",
       "      <th>0</th>\n",
       "      <th>1</th>\n",
       "      <th>2</th>\n",
       "      <th>3</th>\n",
       "      <th>4</th>\n",
       "      <th>5</th>\n",
       "      <th>6</th>\n",
       "      <th>7</th>\n",
       "      <th>8</th>\n",
       "      <th>9</th>\n",
       "      <th>...</th>\n",
       "      <th>254</th>\n",
       "      <th>255</th>\n",
       "      <th>256</th>\n",
       "      <th>257</th>\n",
       "      <th>258</th>\n",
       "      <th>259</th>\n",
       "      <th>260</th>\n",
       "      <th>261</th>\n",
       "      <th>262</th>\n",
       "      <th>263</th>\n",
       "    </tr>\n",
       "  </thead>\n",
       "  <tbody>\n",
       "    <tr>\n",
       "      <th>0</th>\n",
       "      <td>-1.571333</td>\n",
       "      <td>-1.423949</td>\n",
       "      <td>-0.935285</td>\n",
       "      <td>-1.169432</td>\n",
       "      <td>-0.772396</td>\n",
       "      <td>-1.258998</td>\n",
       "      <td>-0.811812</td>\n",
       "      <td>-0.985136</td>\n",
       "      <td>-0.581884</td>\n",
       "      <td>-0.756522</td>\n",
       "      <td>...</td>\n",
       "      <td>1.279245</td>\n",
       "      <td>1.266232</td>\n",
       "      <td>-0.158097</td>\n",
       "      <td>0.297566</td>\n",
       "      <td>0.164625</td>\n",
       "      <td>0.499226</td>\n",
       "      <td>0.921775</td>\n",
       "      <td>-0.185416</td>\n",
       "      <td>0.092879</td>\n",
       "      <td>0.006096</td>\n",
       "    </tr>\n",
       "    <tr>\n",
       "      <th>1</th>\n",
       "      <td>-0.602171</td>\n",
       "      <td>0.267213</td>\n",
       "      <td>0.055395</td>\n",
       "      <td>-0.711935</td>\n",
       "      <td>-1.073589</td>\n",
       "      <td>-0.876857</td>\n",
       "      <td>-0.373028</td>\n",
       "      <td>0.155161</td>\n",
       "      <td>0.399480</td>\n",
       "      <td>0.963212</td>\n",
       "      <td>...</td>\n",
       "      <td>-0.897103</td>\n",
       "      <td>-0.852736</td>\n",
       "      <td>0.074136</td>\n",
       "      <td>1.103637</td>\n",
       "      <td>0.111916</td>\n",
       "      <td>-0.726099</td>\n",
       "      <td>0.269456</td>\n",
       "      <td>-1.177036</td>\n",
       "      <td>-0.694615</td>\n",
       "      <td>-0.223800</td>\n",
       "    </tr>\n",
       "    <tr>\n",
       "      <th>2</th>\n",
       "      <td>-0.584983</td>\n",
       "      <td>0.148239</td>\n",
       "      <td>0.606352</td>\n",
       "      <td>0.806748</td>\n",
       "      <td>0.075890</td>\n",
       "      <td>-0.140405</td>\n",
       "      <td>-0.116555</td>\n",
       "      <td>0.220999</td>\n",
       "      <td>-0.266751</td>\n",
       "      <td>-0.562176</td>\n",
       "      <td>...</td>\n",
       "      <td>-0.406852</td>\n",
       "      <td>1.244176</td>\n",
       "      <td>0.375294</td>\n",
       "      <td>1.291144</td>\n",
       "      <td>0.824687</td>\n",
       "      <td>2.770780</td>\n",
       "      <td>-0.179373</td>\n",
       "      <td>-0.786025</td>\n",
       "      <td>0.560227</td>\n",
       "      <td>-0.548004</td>\n",
       "    </tr>\n",
       "    <tr>\n",
       "      <th>3</th>\n",
       "      <td>0.193432</td>\n",
       "      <td>1.292285</td>\n",
       "      <td>0.854470</td>\n",
       "      <td>0.486911</td>\n",
       "      <td>0.341579</td>\n",
       "      <td>0.529897</td>\n",
       "      <td>0.640292</td>\n",
       "      <td>0.450361</td>\n",
       "      <td>0.375602</td>\n",
       "      <td>0.654629</td>\n",
       "      <td>...</td>\n",
       "      <td>-0.975856</td>\n",
       "      <td>0.528008</td>\n",
       "      <td>-0.661580</td>\n",
       "      <td>0.903560</td>\n",
       "      <td>-1.144311</td>\n",
       "      <td>0.899273</td>\n",
       "      <td>-1.229087</td>\n",
       "      <td>0.110236</td>\n",
       "      <td>2.960029</td>\n",
       "      <td>-0.956088</td>\n",
       "    </tr>\n",
       "    <tr>\n",
       "      <th>4</th>\n",
       "      <td>-0.825078</td>\n",
       "      <td>-0.712986</td>\n",
       "      <td>-0.865418</td>\n",
       "      <td>-1.029277</td>\n",
       "      <td>-1.073589</td>\n",
       "      <td>-1.243794</td>\n",
       "      <td>-0.874860</td>\n",
       "      <td>-1.021802</td>\n",
       "      <td>-0.959120</td>\n",
       "      <td>-0.545164</td>\n",
       "      <td>...</td>\n",
       "      <td>-0.189255</td>\n",
       "      <td>1.433153</td>\n",
       "      <td>-0.525024</td>\n",
       "      <td>-1.507232</td>\n",
       "      <td>-0.966014</td>\n",
       "      <td>-0.535219</td>\n",
       "      <td>-0.432634</td>\n",
       "      <td>-1.336981</td>\n",
       "      <td>-1.421282</td>\n",
       "      <td>0.632431</td>\n",
       "    </tr>\n",
       "  </tbody>\n",
       "</table>\n",
       "<p>5 rows × 264 columns</p>\n",
       "</div>"
      ],
      "text/plain": [
       "        0         1         2         3         4         5         6    \\\n",
       "0 -1.571333 -1.423949 -0.935285 -1.169432 -0.772396 -1.258998 -0.811812   \n",
       "1 -0.602171  0.267213  0.055395 -0.711935 -1.073589 -0.876857 -0.373028   \n",
       "2 -0.584983  0.148239  0.606352  0.806748  0.075890 -0.140405 -0.116555   \n",
       "3  0.193432  1.292285  0.854470  0.486911  0.341579  0.529897  0.640292   \n",
       "4 -0.825078 -0.712986 -0.865418 -1.029277 -1.073589 -1.243794 -0.874860   \n",
       "\n",
       "        7         8         9      ...          254       255       256  \\\n",
       "0 -0.985136 -0.581884 -0.756522    ...     1.279245  1.266232 -0.158097   \n",
       "1  0.155161  0.399480  0.963212    ...    -0.897103 -0.852736  0.074136   \n",
       "2  0.220999 -0.266751 -0.562176    ...    -0.406852  1.244176  0.375294   \n",
       "3  0.450361  0.375602  0.654629    ...    -0.975856  0.528008 -0.661580   \n",
       "4 -1.021802 -0.959120 -0.545164    ...    -0.189255  1.433153 -0.525024   \n",
       "\n",
       "        257       258       259       260       261       262       263  \n",
       "0  0.297566  0.164625  0.499226  0.921775 -0.185416  0.092879  0.006096  \n",
       "1  1.103637  0.111916 -0.726099  0.269456 -1.177036 -0.694615 -0.223800  \n",
       "2  1.291144  0.824687  2.770780 -0.179373 -0.786025  0.560227 -0.548004  \n",
       "3  0.903560 -1.144311  0.899273 -1.229087  0.110236  2.960029 -0.956088  \n",
       "4 -1.507232 -0.966014 -0.535219 -0.432634 -1.336981 -1.421282  0.632431  \n",
       "\n",
       "[5 rows x 264 columns]"
      ]
     },
     "execution_count": 4,
     "metadata": {},
     "output_type": "execute_result"
    }
   ],
   "source": [
    "# scale\n",
    "scaled_features = preprocessing.scale(train_data)\n",
    "pd.DataFrame(scaled_features).head()"
   ]
  },
  {
   "cell_type": "code",
   "execution_count": 5,
   "metadata": {},
   "outputs": [],
   "source": [
    "X_train, X_test, y_train, y_test = train_test_split(scaled_features, train_labels[0], test_size=0.30)"
   ]
  },
  {
   "cell_type": "markdown",
   "metadata": {},
   "source": [
    "There are three features worth exploring with the sklearn RandomForestClassifier, in order of importance:\n",
    "\n",
    "- `n_estimators`\n",
    "- `max_features`\n",
    "- `criterion`\n",
    "\n",
    "n_estimators is not really worth optimizing. The more estimators you give it, the better it will do. 500 or 1000 is usually sufficient."
   ]
  },
  {
   "cell_type": "code",
   "execution_count": 6,
   "metadata": {},
   "outputs": [
    {
     "data": {
      "text/plain": [
       "RandomForestClassifier(bootstrap=True, class_weight=None, criterion='gini',\n",
       "            max_depth=None, max_features='auto', max_leaf_nodes=None,\n",
       "            min_impurity_decrease=0.0, min_impurity_split=None,\n",
       "            min_samples_leaf=1, min_samples_split=2,\n",
       "            min_weight_fraction_leaf=0.0, n_estimators=1000, n_jobs=1,\n",
       "            oob_score=False, random_state=None, verbose=0,\n",
       "            warm_start=False)"
      ]
     },
     "execution_count": 6,
     "metadata": {},
     "output_type": "execute_result"
    }
   ],
   "source": [
    "rfc = RandomForestClassifier(n_estimators=1000)\n",
    "rfc.fit(X_train,y_train)"
   ]
  },
  {
   "cell_type": "code",
   "execution_count": 7,
   "metadata": {},
   "outputs": [
    {
     "data": {
      "text/plain": [
       "0.6103896103896104"
      ]
     },
     "execution_count": 7,
     "metadata": {},
     "output_type": "execute_result"
    }
   ],
   "source": [
    "predictions = rfc.predict(X_test)\n",
    "accuracy_score(y_true=y_test, y_pred=predictions)"
   ]
  },
  {
   "cell_type": "markdown",
   "metadata": {},
   "source": [
    "### grid search"
   ]
  },
  {
   "cell_type": "code",
   "execution_count": 11,
   "metadata": {},
   "outputs": [],
   "source": [
    "from sklearn.model_selection import GridSearchCV"
   ]
  },
  {
   "cell_type": "code",
   "execution_count": 14,
   "metadata": {},
   "outputs": [
    {
     "data": {
      "text/plain": [
       "GridSearchCV(cv=5, error_score='raise',\n",
       "       estimator=RandomForestClassifier(bootstrap=True, class_weight=None, criterion='gini',\n",
       "            max_depth=None, max_features='auto', max_leaf_nodes=None,\n",
       "            min_impurity_decrease=0.0, min_impurity_split=None,\n",
       "            min_samples_leaf=1, min_samples_split=2,\n",
       "            min_weight_fraction_leaf=0.0, n_estimators=1000, n_jobs=1,\n",
       "            oob_score=False, random_state=None, verbose=0,\n",
       "            warm_start=False),\n",
       "       fit_params=None, iid=True, n_jobs=1,\n",
       "       param_grid={'max_depth': [3, None], 'max_features': [1, 3, 10], 'min_samples_split': [2, 3, 10], 'bootstrap': [True, False], 'criterion': ['gini', 'entropy']},\n",
       "       pre_dispatch='2*n_jobs', refit=True, return_train_score='warn',\n",
       "       scoring=None, verbose=0)"
      ]
     },
     "execution_count": 14,
     "metadata": {},
     "output_type": "execute_result"
    }
   ],
   "source": [
    "# # use a full grid over all parameters\n",
    "# param_grid = {\"max_depth\": [3, None],\n",
    "#               \"max_features\": [1, 3, 10],\n",
    "#               \"min_samples_split\": [2, 3, 10],\n",
    "#               \"bootstrap\": [True, False],\n",
    "#               \"criterion\": [\"gini\", \"entropy\"]}\n",
    "\n",
    "# # run grid search\n",
    "# rfc = RandomForestClassifier(n_estimators=1000)\n",
    "\n",
    "# grid_search = GridSearchCV(rfc, param_grid=param_grid, cv=5)\n",
    "# grid_search.fit(X_train,y_train)"
   ]
  },
  {
   "cell_type": "markdown",
   "metadata": {},
   "source": [
    "`estimator=RandomForestClassifier(bootstrap=True, class_weight=None, criterion='gini',\n",
    "            max_depth=None, max_features='auto', max_leaf_nodes=None,\n",
    "            min_impurity_decrease=0.0, min_impurity_split=None,\n",
    "            min_samples_leaf=1, min_samples_split=2,\n",
    "            min_weight_fraction_leaf=0.0, n_estimators=1000, n_jobs=1,\n",
    "            oob_score=False, random_state=None, verbose=0,\n",
    "            warm_start=False),`"
   ]
  },
  {
   "cell_type": "code",
   "execution_count": 16,
   "metadata": {},
   "outputs": [
    {
     "data": {
      "text/plain": [
       "{'cv': 5,\n",
       " 'error_score': 'raise',\n",
       " 'estimator__bootstrap': True,\n",
       " 'estimator__class_weight': None,\n",
       " 'estimator__criterion': 'gini',\n",
       " 'estimator__max_depth': None,\n",
       " 'estimator__max_features': 'auto',\n",
       " 'estimator__max_leaf_nodes': None,\n",
       " 'estimator__min_impurity_decrease': 0.0,\n",
       " 'estimator__min_impurity_split': None,\n",
       " 'estimator__min_samples_leaf': 1,\n",
       " 'estimator__min_samples_split': 2,\n",
       " 'estimator__min_weight_fraction_leaf': 0.0,\n",
       " 'estimator__n_estimators': 1000,\n",
       " 'estimator__n_jobs': 1,\n",
       " 'estimator__oob_score': False,\n",
       " 'estimator__random_state': None,\n",
       " 'estimator__verbose': 0,\n",
       " 'estimator__warm_start': False,\n",
       " 'estimator': RandomForestClassifier(bootstrap=True, class_weight=None, criterion='gini',\n",
       "             max_depth=None, max_features='auto', max_leaf_nodes=None,\n",
       "             min_impurity_decrease=0.0, min_impurity_split=None,\n",
       "             min_samples_leaf=1, min_samples_split=2,\n",
       "             min_weight_fraction_leaf=0.0, n_estimators=1000, n_jobs=1,\n",
       "             oob_score=False, random_state=None, verbose=0,\n",
       "             warm_start=False),\n",
       " 'fit_params': None,\n",
       " 'iid': True,\n",
       " 'n_jobs': 1,\n",
       " 'param_grid': {'max_depth': [3, None],\n",
       "  'max_features': [1, 3, 10],\n",
       "  'min_samples_split': [2, 3, 10],\n",
       "  'bootstrap': [True, False],\n",
       "  'criterion': ['gini', 'entropy']},\n",
       " 'pre_dispatch': '2*n_jobs',\n",
       " 'refit': True,\n",
       " 'return_train_score': 'warn',\n",
       " 'scoring': None,\n",
       " 'verbose': 0}"
      ]
     },
     "execution_count": 16,
     "metadata": {},
     "output_type": "execute_result"
    }
   ],
   "source": [
    "grid_search.get_params()"
   ]
  },
  {
   "cell_type": "code",
   "execution_count": 18,
   "metadata": {},
   "outputs": [
    {
     "data": {
      "text/plain": [
       "0.6157372039724981"
      ]
     },
     "execution_count": 18,
     "metadata": {},
     "output_type": "execute_result"
    }
   ],
   "source": [
    "new_pred = grid_search.predict(X_test)\n",
    "accuracy_score(y_true=y_test, y_pred=new_pred)"
   ]
  },
  {
   "cell_type": "code",
   "execution_count": 19,
   "metadata": {},
   "outputs": [
    {
     "data": {
      "text/plain": [
       "1.2302562626206417"
      ]
     },
     "execution_count": 19,
     "metadata": {},
     "output_type": "execute_result"
    }
   ],
   "source": [
    "from sklearn.metrics import log_loss\n",
    "\n",
    "new_proba = grid_search.predict_proba(X_test)\n",
    "log_loss(y_true=y_test, y_pred=new_proba)"
   ]
  },
  {
   "cell_type": "code",
   "execution_count": 20,
   "metadata": {},
   "outputs": [
    {
     "data": {
      "text/plain": [
       "array([[0.181, 0.166, 0.138, ..., 0.04 , 0.047, 0.056],\n",
       "       [0.346, 0.159, 0.066, ..., 0.033, 0.022, 0.021],\n",
       "       [0.695, 0.177, 0.021, ..., 0.015, 0.005, 0.011],\n",
       "       ...,\n",
       "       [0.724, 0.069, 0.016, ..., 0.043, 0.001, 0.013],\n",
       "       [0.585, 0.167, 0.007, ..., 0.036, 0.002, 0.011],\n",
       "       [0.673, 0.104, 0.015, ..., 0.043, 0.002, 0.009]])"
      ]
     },
     "execution_count": 20,
     "metadata": {},
     "output_type": "execute_result"
    }
   ],
   "source": [
    "new_proba"
   ]
  },
  {
   "cell_type": "markdown",
   "metadata": {},
   "source": [
    "### on submission data"
   ]
  },
  {
   "cell_type": "code",
   "execution_count": 27,
   "metadata": {},
   "outputs": [],
   "source": [
    "submission_data = pd.read_csv(\"./data/test_data.csv\", header=None)\n",
    "submission_proba = grid_search.predict_proba(submission_data)"
   ]
  },
  {
   "cell_type": "code",
   "execution_count": 36,
   "metadata": {},
   "outputs": [
    {
     "name": "stdout",
     "output_type": "stream",
     "text": [
      "(6544, 1)\n"
     ]
    },
    {
     "data": {
      "text/html": [
       "<div>\n",
       "<style scoped>\n",
       "    .dataframe tbody tr th:only-of-type {\n",
       "        vertical-align: middle;\n",
       "    }\n",
       "\n",
       "    .dataframe tbody tr th {\n",
       "        vertical-align: top;\n",
       "    }\n",
       "\n",
       "    .dataframe thead th {\n",
       "        text-align: right;\n",
       "    }\n",
       "</style>\n",
       "<table border=\"1\" class=\"dataframe\">\n",
       "  <thead>\n",
       "    <tr style=\"text-align: right;\">\n",
       "      <th></th>\n",
       "      <th>Sample_id</th>\n",
       "    </tr>\n",
       "  </thead>\n",
       "  <tbody>\n",
       "    <tr>\n",
       "      <th>0</th>\n",
       "      <td>1</td>\n",
       "    </tr>\n",
       "    <tr>\n",
       "      <th>1</th>\n",
       "      <td>2</td>\n",
       "    </tr>\n",
       "    <tr>\n",
       "      <th>2</th>\n",
       "      <td>3</td>\n",
       "    </tr>\n",
       "    <tr>\n",
       "      <th>3</th>\n",
       "      <td>4</td>\n",
       "    </tr>\n",
       "    <tr>\n",
       "      <th>4</th>\n",
       "      <td>5</td>\n",
       "    </tr>\n",
       "  </tbody>\n",
       "</table>\n",
       "</div>"
      ],
      "text/plain": [
       "   Sample_id\n",
       "0          1\n",
       "1          2\n",
       "2          3\n",
       "3          4\n",
       "4          5"
      ]
     },
     "execution_count": 36,
     "metadata": {},
     "output_type": "execute_result"
    }
   ],
   "source": [
    "dummy = pd.read_csv(\"./data/dummy_solution_accuracy.csv\")\n",
    "dummy.drop(\"Sample_label\", inplace=True, axis=1)\n",
    "print(dummy.shape)\n",
    "dummy.head()"
   ]
  },
  {
   "cell_type": "code",
   "execution_count": 37,
   "metadata": {},
   "outputs": [
    {
     "data": {
      "text/plain": [
       "(6544,)"
      ]
     },
     "execution_count": 37,
     "metadata": {},
     "output_type": "execute_result"
    }
   ],
   "source": [
    "submission_proba[:, 0].shape"
   ]
  },
  {
   "cell_type": "code",
   "execution_count": 38,
   "metadata": {},
   "outputs": [],
   "source": [
    "submission2 = dummy.copy()"
   ]
  },
  {
   "cell_type": "code",
   "execution_count": 39,
   "metadata": {},
   "outputs": [],
   "source": [
    "for i in range(10):\n",
    "    submission2[f'Class_{i+1}'] = submission_proba[:, i]"
   ]
  },
  {
   "cell_type": "code",
   "execution_count": 40,
   "metadata": {},
   "outputs": [
    {
     "data": {
      "text/html": [
       "<div>\n",
       "<style scoped>\n",
       "    .dataframe tbody tr th:only-of-type {\n",
       "        vertical-align: middle;\n",
       "    }\n",
       "\n",
       "    .dataframe tbody tr th {\n",
       "        vertical-align: top;\n",
       "    }\n",
       "\n",
       "    .dataframe thead th {\n",
       "        text-align: right;\n",
       "    }\n",
       "</style>\n",
       "<table border=\"1\" class=\"dataframe\">\n",
       "  <thead>\n",
       "    <tr style=\"text-align: right;\">\n",
       "      <th></th>\n",
       "      <th>Sample_id</th>\n",
       "      <th>Class_1</th>\n",
       "      <th>Class_2</th>\n",
       "      <th>Class_3</th>\n",
       "      <th>Class_4</th>\n",
       "      <th>Class_5</th>\n",
       "      <th>Class_6</th>\n",
       "      <th>Class_7</th>\n",
       "      <th>Class_8</th>\n",
       "      <th>Class_9</th>\n",
       "      <th>Class_10</th>\n",
       "    </tr>\n",
       "  </thead>\n",
       "  <tbody>\n",
       "    <tr>\n",
       "      <th>0</th>\n",
       "      <td>1</td>\n",
       "      <td>0.234</td>\n",
       "      <td>0.175</td>\n",
       "      <td>0.215</td>\n",
       "      <td>0.007</td>\n",
       "      <td>0.154</td>\n",
       "      <td>0.059</td>\n",
       "      <td>0.012</td>\n",
       "      <td>0.131</td>\n",
       "      <td>0.009</td>\n",
       "      <td>0.004</td>\n",
       "    </tr>\n",
       "    <tr>\n",
       "      <th>1</th>\n",
       "      <td>2</td>\n",
       "      <td>0.232</td>\n",
       "      <td>0.178</td>\n",
       "      <td>0.213</td>\n",
       "      <td>0.007</td>\n",
       "      <td>0.156</td>\n",
       "      <td>0.058</td>\n",
       "      <td>0.012</td>\n",
       "      <td>0.130</td>\n",
       "      <td>0.010</td>\n",
       "      <td>0.004</td>\n",
       "    </tr>\n",
       "    <tr>\n",
       "      <th>2</th>\n",
       "      <td>3</td>\n",
       "      <td>0.238</td>\n",
       "      <td>0.169</td>\n",
       "      <td>0.210</td>\n",
       "      <td>0.006</td>\n",
       "      <td>0.159</td>\n",
       "      <td>0.056</td>\n",
       "      <td>0.012</td>\n",
       "      <td>0.138</td>\n",
       "      <td>0.008</td>\n",
       "      <td>0.004</td>\n",
       "    </tr>\n",
       "    <tr>\n",
       "      <th>3</th>\n",
       "      <td>4</td>\n",
       "      <td>0.246</td>\n",
       "      <td>0.169</td>\n",
       "      <td>0.204</td>\n",
       "      <td>0.005</td>\n",
       "      <td>0.164</td>\n",
       "      <td>0.048</td>\n",
       "      <td>0.013</td>\n",
       "      <td>0.141</td>\n",
       "      <td>0.006</td>\n",
       "      <td>0.004</td>\n",
       "    </tr>\n",
       "    <tr>\n",
       "      <th>4</th>\n",
       "      <td>5</td>\n",
       "      <td>0.246</td>\n",
       "      <td>0.167</td>\n",
       "      <td>0.202</td>\n",
       "      <td>0.006</td>\n",
       "      <td>0.165</td>\n",
       "      <td>0.049</td>\n",
       "      <td>0.014</td>\n",
       "      <td>0.141</td>\n",
       "      <td>0.006</td>\n",
       "      <td>0.004</td>\n",
       "    </tr>\n",
       "  </tbody>\n",
       "</table>\n",
       "</div>"
      ],
      "text/plain": [
       "   Sample_id  Class_1  Class_2  Class_3  Class_4  Class_5  Class_6  Class_7  \\\n",
       "0          1    0.234    0.175    0.215    0.007    0.154    0.059    0.012   \n",
       "1          2    0.232    0.178    0.213    0.007    0.156    0.058    0.012   \n",
       "2          3    0.238    0.169    0.210    0.006    0.159    0.056    0.012   \n",
       "3          4    0.246    0.169    0.204    0.005    0.164    0.048    0.013   \n",
       "4          5    0.246    0.167    0.202    0.006    0.165    0.049    0.014   \n",
       "\n",
       "   Class_8  Class_9  Class_10  \n",
       "0    0.131    0.009     0.004  \n",
       "1    0.130    0.010     0.004  \n",
       "2    0.138    0.008     0.004  \n",
       "3    0.141    0.006     0.004  \n",
       "4    0.141    0.006     0.004  "
      ]
     },
     "execution_count": 40,
     "metadata": {},
     "output_type": "execute_result"
    }
   ],
   "source": [
    "submission2.head()"
   ]
  },
  {
   "cell_type": "code",
   "execution_count": 41,
   "metadata": {},
   "outputs": [],
   "source": [
    "submission2.to_csv(\"./submission/logloss_random_forest.csv\", index=False)"
   ]
  },
  {
   "cell_type": "code",
   "execution_count": null,
   "metadata": {},
   "outputs": [],
   "source": []
  }
 ],
 "metadata": {
  "kernelspec": {
   "display_name": "Python 3",
   "language": "python",
   "name": "python3"
  },
  "language_info": {
   "codemirror_mode": {
    "name": "ipython",
    "version": 3
   },
   "file_extension": ".py",
   "mimetype": "text/x-python",
   "name": "python",
   "nbconvert_exporter": "python",
   "pygments_lexer": "ipython3",
   "version": "3.6.5"
  }
 },
 "nbformat": 4,
 "nbformat_minor": 2
}
