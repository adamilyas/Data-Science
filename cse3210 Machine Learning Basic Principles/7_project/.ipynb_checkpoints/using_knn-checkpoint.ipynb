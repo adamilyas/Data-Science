{
 "cells": [
  {
   "cell_type": "markdown",
   "metadata": {},
   "source": [
    "# Using K nearest neigbours"
   ]
  },
  {
   "cell_type": "code",
   "execution_count": 1,
   "metadata": {},
   "outputs": [],
   "source": [
    "import pandas as pd\n",
    "import numpy as np\n",
    "import matplotlib.pyplot as plt\n",
    "import seaborn as sns\n",
    "\n",
    "%matplotlib inline"
   ]
  },
  {
   "cell_type": "code",
   "execution_count": 28,
   "metadata": {},
   "outputs": [],
   "source": [
    "from sklearn import preprocessing\n",
    "\n",
    "from sklearn.model_selection import train_test_split\n",
    "from sklearn.neighbors import KNeighborsClassifier\n",
    "\n",
    "# model validation\n",
    "from sklearn.metrics import accuracy_score\n",
    "# model validation\n",
    "from sklearn.metrics import log_loss"
   ]
  },
  {
   "cell_type": "code",
   "execution_count": 3,
   "metadata": {},
   "outputs": [],
   "source": [
    "train_labels = pd.read_csv(\"./data/train_labels.csv\", header=None)\n",
    "train_data = pd.read_csv(\"./data/train_data.csv\", header=None)"
   ]
  },
  {
   "cell_type": "markdown",
   "metadata": {},
   "source": [
    "### Scale\n",
    "\n",
    "Center to the mean and component wise scale to unit variance."
   ]
  },
  {
   "cell_type": "code",
   "execution_count": 4,
   "metadata": {},
   "outputs": [
    {
     "data": {
      "text/html": [
       "<div>\n",
       "<style scoped>\n",
       "    .dataframe tbody tr th:only-of-type {\n",
       "        vertical-align: middle;\n",
       "    }\n",
       "\n",
       "    .dataframe tbody tr th {\n",
       "        vertical-align: top;\n",
       "    }\n",
       "\n",
       "    .dataframe thead th {\n",
       "        text-align: right;\n",
       "    }\n",
       "</style>\n",
       "<table border=\"1\" class=\"dataframe\">\n",
       "  <thead>\n",
       "    <tr style=\"text-align: right;\">\n",
       "      <th></th>\n",
       "      <th>0</th>\n",
       "      <th>1</th>\n",
       "      <th>2</th>\n",
       "      <th>3</th>\n",
       "      <th>4</th>\n",
       "      <th>5</th>\n",
       "      <th>6</th>\n",
       "      <th>7</th>\n",
       "      <th>8</th>\n",
       "      <th>9</th>\n",
       "      <th>...</th>\n",
       "      <th>254</th>\n",
       "      <th>255</th>\n",
       "      <th>256</th>\n",
       "      <th>257</th>\n",
       "      <th>258</th>\n",
       "      <th>259</th>\n",
       "      <th>260</th>\n",
       "      <th>261</th>\n",
       "      <th>262</th>\n",
       "      <th>263</th>\n",
       "    </tr>\n",
       "  </thead>\n",
       "  <tbody>\n",
       "    <tr>\n",
       "      <th>0</th>\n",
       "      <td>-1.571333</td>\n",
       "      <td>-1.423949</td>\n",
       "      <td>-0.935285</td>\n",
       "      <td>-1.169432</td>\n",
       "      <td>-0.772396</td>\n",
       "      <td>-1.258998</td>\n",
       "      <td>-0.811812</td>\n",
       "      <td>-0.985136</td>\n",
       "      <td>-0.581884</td>\n",
       "      <td>-0.756522</td>\n",
       "      <td>...</td>\n",
       "      <td>1.279245</td>\n",
       "      <td>1.266232</td>\n",
       "      <td>-0.158097</td>\n",
       "      <td>0.297566</td>\n",
       "      <td>0.164625</td>\n",
       "      <td>0.499226</td>\n",
       "      <td>0.921775</td>\n",
       "      <td>-0.185416</td>\n",
       "      <td>0.092879</td>\n",
       "      <td>0.006096</td>\n",
       "    </tr>\n",
       "    <tr>\n",
       "      <th>1</th>\n",
       "      <td>-0.602171</td>\n",
       "      <td>0.267213</td>\n",
       "      <td>0.055395</td>\n",
       "      <td>-0.711935</td>\n",
       "      <td>-1.073589</td>\n",
       "      <td>-0.876857</td>\n",
       "      <td>-0.373028</td>\n",
       "      <td>0.155161</td>\n",
       "      <td>0.399480</td>\n",
       "      <td>0.963212</td>\n",
       "      <td>...</td>\n",
       "      <td>-0.897103</td>\n",
       "      <td>-0.852736</td>\n",
       "      <td>0.074136</td>\n",
       "      <td>1.103637</td>\n",
       "      <td>0.111916</td>\n",
       "      <td>-0.726099</td>\n",
       "      <td>0.269456</td>\n",
       "      <td>-1.177036</td>\n",
       "      <td>-0.694615</td>\n",
       "      <td>-0.223800</td>\n",
       "    </tr>\n",
       "    <tr>\n",
       "      <th>2</th>\n",
       "      <td>-0.584983</td>\n",
       "      <td>0.148239</td>\n",
       "      <td>0.606352</td>\n",
       "      <td>0.806748</td>\n",
       "      <td>0.075890</td>\n",
       "      <td>-0.140405</td>\n",
       "      <td>-0.116555</td>\n",
       "      <td>0.220999</td>\n",
       "      <td>-0.266751</td>\n",
       "      <td>-0.562176</td>\n",
       "      <td>...</td>\n",
       "      <td>-0.406852</td>\n",
       "      <td>1.244176</td>\n",
       "      <td>0.375294</td>\n",
       "      <td>1.291144</td>\n",
       "      <td>0.824687</td>\n",
       "      <td>2.770780</td>\n",
       "      <td>-0.179373</td>\n",
       "      <td>-0.786025</td>\n",
       "      <td>0.560227</td>\n",
       "      <td>-0.548004</td>\n",
       "    </tr>\n",
       "    <tr>\n",
       "      <th>3</th>\n",
       "      <td>0.193432</td>\n",
       "      <td>1.292285</td>\n",
       "      <td>0.854470</td>\n",
       "      <td>0.486911</td>\n",
       "      <td>0.341579</td>\n",
       "      <td>0.529897</td>\n",
       "      <td>0.640292</td>\n",
       "      <td>0.450361</td>\n",
       "      <td>0.375602</td>\n",
       "      <td>0.654629</td>\n",
       "      <td>...</td>\n",
       "      <td>-0.975856</td>\n",
       "      <td>0.528008</td>\n",
       "      <td>-0.661580</td>\n",
       "      <td>0.903560</td>\n",
       "      <td>-1.144311</td>\n",
       "      <td>0.899273</td>\n",
       "      <td>-1.229087</td>\n",
       "      <td>0.110236</td>\n",
       "      <td>2.960029</td>\n",
       "      <td>-0.956088</td>\n",
       "    </tr>\n",
       "    <tr>\n",
       "      <th>4</th>\n",
       "      <td>-0.825078</td>\n",
       "      <td>-0.712986</td>\n",
       "      <td>-0.865418</td>\n",
       "      <td>-1.029277</td>\n",
       "      <td>-1.073589</td>\n",
       "      <td>-1.243794</td>\n",
       "      <td>-0.874860</td>\n",
       "      <td>-1.021802</td>\n",
       "      <td>-0.959120</td>\n",
       "      <td>-0.545164</td>\n",
       "      <td>...</td>\n",
       "      <td>-0.189255</td>\n",
       "      <td>1.433153</td>\n",
       "      <td>-0.525024</td>\n",
       "      <td>-1.507232</td>\n",
       "      <td>-0.966014</td>\n",
       "      <td>-0.535219</td>\n",
       "      <td>-0.432634</td>\n",
       "      <td>-1.336981</td>\n",
       "      <td>-1.421282</td>\n",
       "      <td>0.632431</td>\n",
       "    </tr>\n",
       "  </tbody>\n",
       "</table>\n",
       "<p>5 rows × 264 columns</p>\n",
       "</div>"
      ],
      "text/plain": [
       "        0         1         2         3         4         5         6    \\\n",
       "0 -1.571333 -1.423949 -0.935285 -1.169432 -0.772396 -1.258998 -0.811812   \n",
       "1 -0.602171  0.267213  0.055395 -0.711935 -1.073589 -0.876857 -0.373028   \n",
       "2 -0.584983  0.148239  0.606352  0.806748  0.075890 -0.140405 -0.116555   \n",
       "3  0.193432  1.292285  0.854470  0.486911  0.341579  0.529897  0.640292   \n",
       "4 -0.825078 -0.712986 -0.865418 -1.029277 -1.073589 -1.243794 -0.874860   \n",
       "\n",
       "        7         8         9      ...          254       255       256  \\\n",
       "0 -0.985136 -0.581884 -0.756522    ...     1.279245  1.266232 -0.158097   \n",
       "1  0.155161  0.399480  0.963212    ...    -0.897103 -0.852736  0.074136   \n",
       "2  0.220999 -0.266751 -0.562176    ...    -0.406852  1.244176  0.375294   \n",
       "3  0.450361  0.375602  0.654629    ...    -0.975856  0.528008 -0.661580   \n",
       "4 -1.021802 -0.959120 -0.545164    ...    -0.189255  1.433153 -0.525024   \n",
       "\n",
       "        257       258       259       260       261       262       263  \n",
       "0  0.297566  0.164625  0.499226  0.921775 -0.185416  0.092879  0.006096  \n",
       "1  1.103637  0.111916 -0.726099  0.269456 -1.177036 -0.694615 -0.223800  \n",
       "2  1.291144  0.824687  2.770780 -0.179373 -0.786025  0.560227 -0.548004  \n",
       "3  0.903560 -1.144311  0.899273 -1.229087  0.110236  2.960029 -0.956088  \n",
       "4 -1.507232 -0.966014 -0.535219 -0.432634 -1.336981 -1.421282  0.632431  \n",
       "\n",
       "[5 rows x 264 columns]"
      ]
     },
     "execution_count": 4,
     "metadata": {},
     "output_type": "execute_result"
    }
   ],
   "source": [
    "# scale\n",
    "scaled_features = preprocessing.scale(train_data)\n",
    "pd.DataFrame(scaled_features).head()"
   ]
  },
  {
   "cell_type": "code",
   "execution_count": 5,
   "metadata": {},
   "outputs": [],
   "source": [
    "X_train, X_test, y_train, y_test = train_test_split(scaled_features, train_labels[0], test_size=0.30)"
   ]
  },
  {
   "cell_type": "markdown",
   "metadata": {},
   "source": [
    "**Create a KNN model instance with n_neighbors=1**"
   ]
  },
  {
   "cell_type": "code",
   "execution_count": 6,
   "metadata": {},
   "outputs": [
    {
     "data": {
      "text/plain": [
       "0.4988540870893812"
      ]
     },
     "execution_count": 6,
     "metadata": {},
     "output_type": "execute_result"
    }
   ],
   "source": [
    "knn = KNeighborsClassifier(n_neighbors=1)\n",
    "knn.fit(X_train,y_train)\n",
    "pred = knn.predict(X_test)\n",
    "accuracy_score(y_true=y_test, y_pred=pred)\n",
    "\n",
    "# sucks"
   ]
  },
  {
   "cell_type": "markdown",
   "metadata": {},
   "source": [
    "# Choosing a K Value\n",
    "Let's go ahead and use the elbow method to pick a good K Value!\n",
    "\n",
    "** Create a for loop that trains various KNN models with different k values, then keep track of the error_rate for each of these models with a list. Refer to the lecture if you are confused on this step.**"
   ]
  },
  {
   "cell_type": "code",
   "execution_count": 29,
   "metadata": {},
   "outputs": [],
   "source": [
    "error_rate = []\n",
    "accuracy = []\n",
    "log_loss_list = []\n",
    "\n",
    "# Will take some time\n",
    "for i in range(1,40):    \n",
    "    knn = KNeighborsClassifier(n_neighbors=i)\n",
    "    knn.fit(X_train,y_train)\n",
    "    pred_i = knn.predict(X_test)\n",
    "    proba_i = knn.predict_proba(X_test)\n",
    "    \n",
    "    error_rate.append(np.mean(pred_i != y_test))\n",
    "    accuracy.append(np.mean(pred_i == y_test))\n",
    "    log_loss_list.append(log_loss(y_true=y_test, y_pred=proba_i))"
   ]
  },
  {
   "cell_type": "code",
   "execution_count": 31,
   "metadata": {},
   "outputs": [
    {
     "name": "stdout",
     "output_type": "stream",
     "text": [
      "Max accuracy = 0.5912910618792971 when k = 13\n",
      "Min log loss = 2.2254568047920857 when k = 35\n"
     ]
    },
    {
     "data": {
      "image/png": "[encoded data removed]",
      "text/plain": [
       "<Figure size 1152x432 with 3 Axes>"
      ]
     },
     "metadata": {},
     "output_type": "display_data"
    }
   ],
   "source": [
    "fig, axes = plt.subplots(nrows=1,ncols=3, figsize=(16,6))\n",
    "\n",
    "axes[0].plot(range(1,40),accuracy,color='blue', linestyle='dashed', marker='o',\n",
    "         markerfacecolor='red', markersize=10)\n",
    "axes[0].set_title('Accuracy vs. K Value')\n",
    "axes[0].set_xlabel('K')\n",
    "axes[0].set_ylabel('Accuracy')\n",
    "\n",
    "axes[1].plot(range(1,40),error_rate,color='blue', linestyle='dashed', marker='o',\n",
    "         markerfacecolor='red', markersize=10)\n",
    "axes[1].set_title('Error Rate vs. K Value')\n",
    "axes[1].set_xlabel('K')\n",
    "axes[1].set_ylabel('Error Rate')\n",
    "\n",
    "axes[2].plot(range(1,40),log_loss_list,color='blue', linestyle='dashed', marker='o',\n",
    "         markerfacecolor='red', markersize=10)\n",
    "axes[2].set_title('Log loss vs. K Value')\n",
    "axes[2].set_xlabel('K')\n",
    "axes[2].set_ylabel('Log loss')\n",
    "\n",
    "best = max(accuracy)\n",
    "smallest = min(log_loss_list)\n",
    "print(f'Max accuracy = {best} when k = {accuracy.index(best)-1}')\n",
    "print(f'Min log loss = {smallest} when k = {log_loss_list.index(smallest)-1}')"
   ]
  },
  {
   "cell_type": "code",
   "execution_count": 32,
   "metadata": {},
   "outputs": [
    {
     "data": {
      "text/plain": [
       "0.5912910618792971"
      ]
     },
     "execution_count": 32,
     "metadata": {},
     "output_type": "execute_result"
    }
   ],
   "source": [
    "# NOW WITH K=15\n",
    "\n",
    "k = 15\n",
    "knn = KNeighborsClassifier(n_neighbors=k)\n",
    "\n",
    "knn.fit(X_train,y_train)\n",
    "pred = knn.predict(X_test)\n",
    "accuracy_score(y_true=y_test, y_pred=pred)"
   ]
  },
  {
   "cell_type": "code",
   "execution_count": 33,
   "metadata": {},
   "outputs": [],
   "source": [
    "pred_proba = knn.predict_proba(X_test)"
   ]
  },
  {
   "cell_type": "code",
   "execution_count": 39,
   "metadata": {},
   "outputs": [
    {
     "data": {
      "text/plain": [
       "2.339856261984364"
      ]
     },
     "execution_count": 39,
     "metadata": {},
     "output_type": "execute_result"
    }
   ],
   "source": [
    "## k = 35\n",
    "knn = KNeighborsClassifier(n_neighbors=k)\n",
    "\n",
    "knn.fit(X_train,y_train)\n",
    "pred_with_proba = knn.predict_proba(X_test)\n",
    "log_loss(y_true=y_test, y_pred=pred_with_proba)"
   ]
  },
  {
   "cell_type": "markdown",
   "metadata": {},
   "source": [
    "# proba on submission data\n",
    "\n",
    "### train on full data set"
   ]
  },
  {
   "cell_type": "code",
   "execution_count": 41,
   "metadata": {},
   "outputs": [
    {
     "data": {
      "text/plain": [
       "(6544, 264)"
      ]
     },
     "execution_count": 41,
     "metadata": {},
     "output_type": "execute_result"
    }
   ],
   "source": [
    "test_data = pd.read_csv(\"./data/test_data.csv\", header=None)\n",
    "test_data.shape"
   ]
  },
  {
   "cell_type": "code",
   "execution_count": 42,
   "metadata": {},
   "outputs": [],
   "source": [
    "## k = 35\n",
    "knn = KNeighborsClassifier(n_neighbors=k)\n",
    "knn.fit(scaled_features, train_labels[0])\n",
    "\n",
    "submission_proba = knn.predict_proba(test_data)"
   ]
  },
  {
   "cell_type": "code",
   "execution_count": 44,
   "metadata": {},
   "outputs": [
    {
     "data": {
      "text/html": [
       "<div>\n",
       "<style scoped>\n",
       "    .dataframe tbody tr th:only-of-type {\n",
       "        vertical-align: middle;\n",
       "    }\n",
       "\n",
       "    .dataframe tbody tr th {\n",
       "        vertical-align: top;\n",
       "    }\n",
       "\n",
       "    .dataframe thead th {\n",
       "        text-align: right;\n",
       "    }\n",
       "</style>\n",
       "<table border=\"1\" class=\"dataframe\">\n",
       "  <thead>\n",
       "    <tr style=\"text-align: right;\">\n",
       "      <th></th>\n",
       "      <th>Sample_id</th>\n",
       "      <th>Class_1</th>\n",
       "      <th>Class_2</th>\n",
       "      <th>Class_3</th>\n",
       "      <th>Class_4</th>\n",
       "      <th>Class_5</th>\n",
       "      <th>Class_6</th>\n",
       "      <th>Class_7</th>\n",
       "      <th>Class_8</th>\n",
       "      <th>Class_9</th>\n",
       "      <th>Class_10</th>\n",
       "    </tr>\n",
       "  </thead>\n",
       "  <tbody>\n",
       "    <tr>\n",
       "      <th>0</th>\n",
       "      <td>1</td>\n",
       "      <td>0.514286</td>\n",
       "      <td>0.000000</td>\n",
       "      <td>0.200000</td>\n",
       "      <td>0.0</td>\n",
       "      <td>0.142857</td>\n",
       "      <td>0.114286</td>\n",
       "      <td>0.0</td>\n",
       "      <td>0.028571</td>\n",
       "      <td>0.0</td>\n",
       "      <td>0.0</td>\n",
       "    </tr>\n",
       "    <tr>\n",
       "      <th>1</th>\n",
       "      <td>2</td>\n",
       "      <td>0.400000</td>\n",
       "      <td>0.114286</td>\n",
       "      <td>0.228571</td>\n",
       "      <td>0.0</td>\n",
       "      <td>0.085714</td>\n",
       "      <td>0.142857</td>\n",
       "      <td>0.0</td>\n",
       "      <td>0.028571</td>\n",
       "      <td>0.0</td>\n",
       "      <td>0.0</td>\n",
       "    </tr>\n",
       "    <tr>\n",
       "      <th>2</th>\n",
       "      <td>3</td>\n",
       "      <td>0.371429</td>\n",
       "      <td>0.171429</td>\n",
       "      <td>0.171429</td>\n",
       "      <td>0.0</td>\n",
       "      <td>0.114286</td>\n",
       "      <td>0.142857</td>\n",
       "      <td>0.0</td>\n",
       "      <td>0.028571</td>\n",
       "      <td>0.0</td>\n",
       "      <td>0.0</td>\n",
       "    </tr>\n",
       "    <tr>\n",
       "      <th>3</th>\n",
       "      <td>4</td>\n",
       "      <td>0.857143</td>\n",
       "      <td>0.000000</td>\n",
       "      <td>0.028571</td>\n",
       "      <td>0.0</td>\n",
       "      <td>0.085714</td>\n",
       "      <td>0.000000</td>\n",
       "      <td>0.0</td>\n",
       "      <td>0.028571</td>\n",
       "      <td>0.0</td>\n",
       "      <td>0.0</td>\n",
       "    </tr>\n",
       "    <tr>\n",
       "      <th>4</th>\n",
       "      <td>5</td>\n",
       "      <td>0.742857</td>\n",
       "      <td>0.000000</td>\n",
       "      <td>0.114286</td>\n",
       "      <td>0.0</td>\n",
       "      <td>0.085714</td>\n",
       "      <td>0.028571</td>\n",
       "      <td>0.0</td>\n",
       "      <td>0.028571</td>\n",
       "      <td>0.0</td>\n",
       "      <td>0.0</td>\n",
       "    </tr>\n",
       "  </tbody>\n",
       "</table>\n",
       "</div>"
      ],
      "text/plain": [
       "   Sample_id   Class_1   Class_2   Class_3  Class_4   Class_5   Class_6  \\\n",
       "0          1  0.514286  0.000000  0.200000      0.0  0.142857  0.114286   \n",
       "1          2  0.400000  0.114286  0.228571      0.0  0.085714  0.142857   \n",
       "2          3  0.371429  0.171429  0.171429      0.0  0.114286  0.142857   \n",
       "3          4  0.857143  0.000000  0.028571      0.0  0.085714  0.000000   \n",
       "4          5  0.742857  0.000000  0.114286      0.0  0.085714  0.028571   \n",
       "\n",
       "   Class_7   Class_8  Class_9  Class_10  \n",
       "0      0.0  0.028571      0.0       0.0  \n",
       "1      0.0  0.028571      0.0       0.0  \n",
       "2      0.0  0.028571      0.0       0.0  \n",
       "3      0.0  0.028571      0.0       0.0  \n",
       "4      0.0  0.028571      0.0       0.0  "
      ]
     },
     "execution_count": 44,
     "metadata": {},
     "output_type": "execute_result"
    }
   ],
   "source": [
    "dummy = pd.read_csv(\"./data/dummy_solution_accuracy.csv\")\n",
    "dummy.drop(\"Sample_label\", inplace=True, axis=1)\n",
    "\n",
    "submission2 = dummy.copy()\n",
    "for i in range(10):\n",
    "    submission2[f'Class_{i+1}'] = submission_proba[:, i]\n",
    "    \n",
    "submission2.head()"
   ]
  },
  {
   "cell_type": "code",
   "execution_count": 45,
   "metadata": {},
   "outputs": [],
   "source": [
    "submission2.to_csv(\"./submission/logloss_knn.csv\", index=False)"
   ]
  },
  {
   "cell_type": "code",
   "execution_count": null,
   "metadata": {},
   "outputs": [],
   "source": []
  },
  {
   "cell_type": "code",
   "execution_count": null,
   "metadata": {},
   "outputs": [],
   "source": []
  },
  {
   "cell_type": "code",
   "execution_count": null,
   "metadata": {},
   "outputs": [],
   "source": []
  }
 ],
 "metadata": {
  "kernelspec": {
   "display_name": "Python 3",
   "language": "python",
   "name": "python3"
  },
  "language_info": {
   "codemirror_mode": {
    "name": "ipython",
    "version": 3
   },
   "file_extension": ".py",
   "mimetype": "text/x-python",
   "name": "python",
   "nbconvert_exporter": "python",
   "pygments_lexer": "ipython3",
   "version": "3.6.5"
  }
 },
 "nbformat": 4,
 "nbformat_minor": 2
}
