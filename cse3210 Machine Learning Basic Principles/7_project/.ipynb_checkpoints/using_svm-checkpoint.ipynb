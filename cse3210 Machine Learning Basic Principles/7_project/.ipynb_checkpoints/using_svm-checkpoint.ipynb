{
 "cells": [
  {
   "cell_type": "markdown",
   "metadata": {},
   "source": [
    "# Support vector machine"
   ]
  },
  {
   "cell_type": "code",
   "execution_count": 8,
   "metadata": {},
   "outputs": [],
   "source": [
    "import pandas as pd\n",
    "import numpy as np\n",
    "import matplotlib.pyplot as plt\n",
    "import seaborn as sns\n",
    "\n",
    "%matplotlib inline"
   ]
  },
  {
   "cell_type": "code",
   "execution_count": 9,
   "metadata": {},
   "outputs": [],
   "source": [
    "from sklearn import preprocessing\n",
    "\n",
    "from sklearn.svm import SVC\n",
    "from sklearn.model_selection import train_test_split\n",
    "\n",
    "# model validation\n",
    "from sklearn.metrics import accuracy_score"
   ]
  },
  {
   "cell_type": "code",
   "execution_count": 10,
   "metadata": {},
   "outputs": [],
   "source": [
    "train_labels = pd.read_csv(\"./data/train_labels.csv\", header=None)\n",
    "train_data = pd.read_csv(\"./data/train_data.csv\", header=None)"
   ]
  },
  {
   "cell_type": "code",
   "execution_count": 11,
   "metadata": {},
   "outputs": [
    {
     "data": {
      "text/html": [
       "<div>\n",
       "<style scoped>\n",
       "    .dataframe tbody tr th:only-of-type {\n",
       "        vertical-align: middle;\n",
       "    }\n",
       "\n",
       "    .dataframe tbody tr th {\n",
       "        vertical-align: top;\n",
       "    }\n",
       "\n",
       "    .dataframe thead th {\n",
       "        text-align: right;\n",
       "    }\n",
       "</style>\n",
       "<table border=\"1\" class=\"dataframe\">\n",
       "  <thead>\n",
       "    <tr style=\"text-align: right;\">\n",
       "      <th></th>\n",
       "      <th>0</th>\n",
       "      <th>1</th>\n",
       "      <th>2</th>\n",
       "      <th>3</th>\n",
       "      <th>4</th>\n",
       "      <th>5</th>\n",
       "      <th>6</th>\n",
       "      <th>7</th>\n",
       "      <th>8</th>\n",
       "      <th>9</th>\n",
       "      <th>...</th>\n",
       "      <th>254</th>\n",
       "      <th>255</th>\n",
       "      <th>256</th>\n",
       "      <th>257</th>\n",
       "      <th>258</th>\n",
       "      <th>259</th>\n",
       "      <th>260</th>\n",
       "      <th>261</th>\n",
       "      <th>262</th>\n",
       "      <th>263</th>\n",
       "    </tr>\n",
       "  </thead>\n",
       "  <tbody>\n",
       "    <tr>\n",
       "      <th>0</th>\n",
       "      <td>-1.571333</td>\n",
       "      <td>-1.423949</td>\n",
       "      <td>-0.935285</td>\n",
       "      <td>-1.169432</td>\n",
       "      <td>-0.772396</td>\n",
       "      <td>-1.258998</td>\n",
       "      <td>-0.811812</td>\n",
       "      <td>-0.985136</td>\n",
       "      <td>-0.581884</td>\n",
       "      <td>-0.756522</td>\n",
       "      <td>...</td>\n",
       "      <td>1.279245</td>\n",
       "      <td>1.266232</td>\n",
       "      <td>-0.158097</td>\n",
       "      <td>0.297566</td>\n",
       "      <td>0.164625</td>\n",
       "      <td>0.499226</td>\n",
       "      <td>0.921775</td>\n",
       "      <td>-0.185416</td>\n",
       "      <td>0.092879</td>\n",
       "      <td>0.006096</td>\n",
       "    </tr>\n",
       "    <tr>\n",
       "      <th>1</th>\n",
       "      <td>-0.602171</td>\n",
       "      <td>0.267213</td>\n",
       "      <td>0.055395</td>\n",
       "      <td>-0.711935</td>\n",
       "      <td>-1.073589</td>\n",
       "      <td>-0.876857</td>\n",
       "      <td>-0.373028</td>\n",
       "      <td>0.155161</td>\n",
       "      <td>0.399480</td>\n",
       "      <td>0.963212</td>\n",
       "      <td>...</td>\n",
       "      <td>-0.897103</td>\n",
       "      <td>-0.852736</td>\n",
       "      <td>0.074136</td>\n",
       "      <td>1.103637</td>\n",
       "      <td>0.111916</td>\n",
       "      <td>-0.726099</td>\n",
       "      <td>0.269456</td>\n",
       "      <td>-1.177036</td>\n",
       "      <td>-0.694615</td>\n",
       "      <td>-0.223800</td>\n",
       "    </tr>\n",
       "    <tr>\n",
       "      <th>2</th>\n",
       "      <td>-0.584983</td>\n",
       "      <td>0.148239</td>\n",
       "      <td>0.606352</td>\n",
       "      <td>0.806748</td>\n",
       "      <td>0.075890</td>\n",
       "      <td>-0.140405</td>\n",
       "      <td>-0.116555</td>\n",
       "      <td>0.220999</td>\n",
       "      <td>-0.266751</td>\n",
       "      <td>-0.562176</td>\n",
       "      <td>...</td>\n",
       "      <td>-0.406852</td>\n",
       "      <td>1.244176</td>\n",
       "      <td>0.375294</td>\n",
       "      <td>1.291144</td>\n",
       "      <td>0.824687</td>\n",
       "      <td>2.770780</td>\n",
       "      <td>-0.179373</td>\n",
       "      <td>-0.786025</td>\n",
       "      <td>0.560227</td>\n",
       "      <td>-0.548004</td>\n",
       "    </tr>\n",
       "    <tr>\n",
       "      <th>3</th>\n",
       "      <td>0.193432</td>\n",
       "      <td>1.292285</td>\n",
       "      <td>0.854470</td>\n",
       "      <td>0.486911</td>\n",
       "      <td>0.341579</td>\n",
       "      <td>0.529897</td>\n",
       "      <td>0.640292</td>\n",
       "      <td>0.450361</td>\n",
       "      <td>0.375602</td>\n",
       "      <td>0.654629</td>\n",
       "      <td>...</td>\n",
       "      <td>-0.975856</td>\n",
       "      <td>0.528008</td>\n",
       "      <td>-0.661580</td>\n",
       "      <td>0.903560</td>\n",
       "      <td>-1.144311</td>\n",
       "      <td>0.899273</td>\n",
       "      <td>-1.229087</td>\n",
       "      <td>0.110236</td>\n",
       "      <td>2.960029</td>\n",
       "      <td>-0.956088</td>\n",
       "    </tr>\n",
       "    <tr>\n",
       "      <th>4</th>\n",
       "      <td>-0.825078</td>\n",
       "      <td>-0.712986</td>\n",
       "      <td>-0.865418</td>\n",
       "      <td>-1.029277</td>\n",
       "      <td>-1.073589</td>\n",
       "      <td>-1.243794</td>\n",
       "      <td>-0.874860</td>\n",
       "      <td>-1.021802</td>\n",
       "      <td>-0.959120</td>\n",
       "      <td>-0.545164</td>\n",
       "      <td>...</td>\n",
       "      <td>-0.189255</td>\n",
       "      <td>1.433153</td>\n",
       "      <td>-0.525024</td>\n",
       "      <td>-1.507232</td>\n",
       "      <td>-0.966014</td>\n",
       "      <td>-0.535219</td>\n",
       "      <td>-0.432634</td>\n",
       "      <td>-1.336981</td>\n",
       "      <td>-1.421282</td>\n",
       "      <td>0.632431</td>\n",
       "    </tr>\n",
       "  </tbody>\n",
       "</table>\n",
       "<p>5 rows × 264 columns</p>\n",
       "</div>"
      ],
      "text/plain": [
       "        0         1         2         3         4         5         6    \\\n",
       "0 -1.571333 -1.423949 -0.935285 -1.169432 -0.772396 -1.258998 -0.811812   \n",
       "1 -0.602171  0.267213  0.055395 -0.711935 -1.073589 -0.876857 -0.373028   \n",
       "2 -0.584983  0.148239  0.606352  0.806748  0.075890 -0.140405 -0.116555   \n",
       "3  0.193432  1.292285  0.854470  0.486911  0.341579  0.529897  0.640292   \n",
       "4 -0.825078 -0.712986 -0.865418 -1.029277 -1.073589 -1.243794 -0.874860   \n",
       "\n",
       "        7         8         9      ...          254       255       256  \\\n",
       "0 -0.985136 -0.581884 -0.756522    ...     1.279245  1.266232 -0.158097   \n",
       "1  0.155161  0.399480  0.963212    ...    -0.897103 -0.852736  0.074136   \n",
       "2  0.220999 -0.266751 -0.562176    ...    -0.406852  1.244176  0.375294   \n",
       "3  0.450361  0.375602  0.654629    ...    -0.975856  0.528008 -0.661580   \n",
       "4 -1.021802 -0.959120 -0.545164    ...    -0.189255  1.433153 -0.525024   \n",
       "\n",
       "        257       258       259       260       261       262       263  \n",
       "0  0.297566  0.164625  0.499226  0.921775 -0.185416  0.092879  0.006096  \n",
       "1  1.103637  0.111916 -0.726099  0.269456 -1.177036 -0.694615 -0.223800  \n",
       "2  1.291144  0.824687  2.770780 -0.179373 -0.786025  0.560227 -0.548004  \n",
       "3  0.903560 -1.144311  0.899273 -1.229087  0.110236  2.960029 -0.956088  \n",
       "4 -1.507232 -0.966014 -0.535219 -0.432634 -1.336981 -1.421282  0.632431  \n",
       "\n",
       "[5 rows x 264 columns]"
      ]
     },
     "execution_count": 11,
     "metadata": {},
     "output_type": "execute_result"
    }
   ],
   "source": [
    "# scale\n",
    "scaled_features = preprocessing.scale(train_data)\n",
    "pd.DataFrame(scaled_features).head()"
   ]
  },
  {
   "cell_type": "code",
   "execution_count": 12,
   "metadata": {},
   "outputs": [],
   "source": [
    "X_train, X_test, y_train, y_test = train_test_split(scaled_features, train_labels[0], test_size=0.30)"
   ]
  },
  {
   "cell_type": "code",
   "execution_count": 13,
   "metadata": {},
   "outputs": [
    {
     "data": {
      "text/plain": [
       "SVC(C=1.0, cache_size=200, class_weight=None, coef0=0.0,\n",
       "  decision_function_shape='ovr', degree=3, gamma='auto', kernel='rbf',\n",
       "  max_iter=-1, probability=False, random_state=None, shrinking=True,\n",
       "  tol=0.001, verbose=False)"
      ]
     },
     "execution_count": 13,
     "metadata": {},
     "output_type": "execute_result"
    }
   ],
   "source": [
    "svc_model = SVC()\n",
    "svc_model.fit(X_train,y_train)"
   ]
  },
  {
   "cell_type": "code",
   "execution_count": 15,
   "metadata": {},
   "outputs": [
    {
     "data": {
      "text/plain": [
       "0.6371275783040489"
      ]
     },
     "execution_count": 15,
     "metadata": {},
     "output_type": "execute_result"
    }
   ],
   "source": [
    "predictions = svc_model.predict(X_test)\n",
    "accuracy_score(y_true=y_test, y_pred=predictions)"
   ]
  },
  {
   "cell_type": "code",
   "execution_count": 16,
   "metadata": {},
   "outputs": [],
   "source": [
    "from sklearn.model_selection import GridSearchCV"
   ]
  },
  {
   "cell_type": "code",
   "execution_count": 17,
   "metadata": {},
   "outputs": [],
   "source": [
    "param_grid = {'C': [0.1,1, 10, 100], 'gamma': [1,0.1,0.01,0.001]} "
   ]
  },
  {
   "cell_type": "code",
   "execution_count": 18,
   "metadata": {},
   "outputs": [
    {
     "name": "stdout",
     "output_type": "stream",
     "text": [
      "Fitting 3 folds for each of 16 candidates, totalling 48 fits\n",
      "[CV] C=0.1, gamma=1 ..................................................\n",
      "[CV] ................................... C=0.1, gamma=1, total=   5.8s\n",
      "[CV] C=0.1, gamma=1 ..................................................\n"
     ]
    },
    {
     "name": "stderr",
     "output_type": "stream",
     "text": [
      "[Parallel(n_jobs=1)]: Done   1 out of   1 | elapsed:    7.3s remaining:    0.0s\n"
     ]
    },
    {
     "name": "stdout",
     "output_type": "stream",
     "text": [
      "[CV] ................................... C=0.1, gamma=1, total=   5.5s\n",
      "[CV] C=0.1, gamma=1 ..................................................\n",
      "[CV] ................................... C=0.1, gamma=1, total=   5.4s\n",
      "[CV] C=0.1, gamma=0.1 ................................................\n",
      "[CV] ................................. C=0.1, gamma=0.1, total=   5.3s\n",
      "[CV] C=0.1, gamma=0.1 ................................................\n",
      "[CV] ................................. C=0.1, gamma=0.1, total=   5.3s\n",
      "[CV] C=0.1, gamma=0.1 ................................................\n",
      "[CV] ................................. C=0.1, gamma=0.1, total=   5.7s\n",
      "[CV] C=0.1, gamma=0.01 ...............................................\n",
      "[CV] ................................ C=0.1, gamma=0.01, total=   4.0s\n",
      "[CV] C=0.1, gamma=0.01 ...............................................\n",
      "[CV] ................................ C=0.1, gamma=0.01, total=   3.5s\n",
      "[CV] C=0.1, gamma=0.01 ...............................................\n",
      "[CV] ................................ C=0.1, gamma=0.01, total=   3.5s\n",
      "[CV] C=0.1, gamma=0.001 ..............................................\n",
      "[CV] ............................... C=0.1, gamma=0.001, total=   2.2s\n",
      "[CV] C=0.1, gamma=0.001 ..............................................\n",
      "[CV] ............................... C=0.1, gamma=0.001, total=   2.3s\n",
      "[CV] C=0.1, gamma=0.001 ..............................................\n",
      "[CV] ............................... C=0.1, gamma=0.001, total=   2.1s\n",
      "[CV] C=1, gamma=1 ....................................................\n",
      "[CV] ..................................... C=1, gamma=1, total=   6.5s\n",
      "[CV] C=1, gamma=1 ....................................................\n",
      "[CV] ..................................... C=1, gamma=1, total=   5.5s\n",
      "[CV] C=1, gamma=1 ....................................................\n",
      "[CV] ..................................... C=1, gamma=1, total=   6.0s\n",
      "[CV] C=1, gamma=0.1 ..................................................\n",
      "[CV] ................................... C=1, gamma=0.1, total=   5.9s\n",
      "[CV] C=1, gamma=0.1 ..................................................\n",
      "[CV] ................................... C=1, gamma=0.1, total=   5.7s\n",
      "[CV] C=1, gamma=0.1 ..................................................\n",
      "[CV] ................................... C=1, gamma=0.1, total=   5.5s\n",
      "[CV] C=1, gamma=0.01 .................................................\n",
      "[CV] .................................. C=1, gamma=0.01, total=   3.8s\n",
      "[CV] C=1, gamma=0.01 .................................................\n",
      "[CV] .................................. C=1, gamma=0.01, total=   3.7s\n",
      "[CV] C=1, gamma=0.01 .................................................\n",
      "[CV] .................................. C=1, gamma=0.01, total=   3.6s\n",
      "[CV] C=1, gamma=0.001 ................................................\n",
      "[CV] ................................. C=1, gamma=0.001, total=   1.9s\n",
      "[CV] C=1, gamma=0.001 ................................................\n",
      "[CV] ................................. C=1, gamma=0.001, total=   1.9s\n",
      "[CV] C=1, gamma=0.001 ................................................\n",
      "[CV] ................................. C=1, gamma=0.001, total=   1.9s\n",
      "[CV] C=10, gamma=1 ...................................................\n",
      "[CV] .................................... C=10, gamma=1, total=   5.5s\n",
      "[CV] C=10, gamma=1 ...................................................\n",
      "[CV] .................................... C=10, gamma=1, total=   5.2s\n",
      "[CV] C=10, gamma=1 ...................................................\n",
      "[CV] .................................... C=10, gamma=1, total=   5.2s\n",
      "[CV] C=10, gamma=0.1 .................................................\n",
      "[CV] .................................. C=10, gamma=0.1, total=   6.0s\n",
      "[CV] C=10, gamma=0.1 .................................................\n",
      "[CV] .................................. C=10, gamma=0.1, total=   6.0s\n",
      "[CV] C=10, gamma=0.1 .................................................\n",
      "[CV] .................................. C=10, gamma=0.1, total=   5.4s\n",
      "[CV] C=10, gamma=0.01 ................................................\n",
      "[CV] ................................. C=10, gamma=0.01, total=   4.2s\n",
      "[CV] C=10, gamma=0.01 ................................................\n",
      "[CV] ................................. C=10, gamma=0.01, total=   4.1s\n",
      "[CV] C=10, gamma=0.01 ................................................\n",
      "[CV] ................................. C=10, gamma=0.01, total=   4.4s\n",
      "[CV] C=10, gamma=0.001 ...............................................\n",
      "[CV] ................................ C=10, gamma=0.001, total=   2.1s\n",
      "[CV] C=10, gamma=0.001 ...............................................\n",
      "[CV] ................................ C=10, gamma=0.001, total=   2.0s\n",
      "[CV] C=10, gamma=0.001 ...............................................\n",
      "[CV] ................................ C=10, gamma=0.001, total=   2.2s\n",
      "[CV] C=100, gamma=1 ..................................................\n",
      "[CV] ................................... C=100, gamma=1, total=   5.3s\n",
      "[CV] C=100, gamma=1 ..................................................\n",
      "[CV] ................................... C=100, gamma=1, total=   5.3s\n",
      "[CV] C=100, gamma=1 ..................................................\n",
      "[CV] ................................... C=100, gamma=1, total=   5.9s\n",
      "[CV] C=100, gamma=0.1 ................................................\n",
      "[CV] ................................. C=100, gamma=0.1, total=   5.6s\n",
      "[CV] C=100, gamma=0.1 ................................................\n",
      "[CV] ................................. C=100, gamma=0.1, total=   6.3s\n",
      "[CV] C=100, gamma=0.1 ................................................\n",
      "[CV] ................................. C=100, gamma=0.1, total=   6.4s\n",
      "[CV] C=100, gamma=0.01 ...............................................\n",
      "[CV] ................................ C=100, gamma=0.01, total=   4.6s\n",
      "[CV] C=100, gamma=0.01 ...............................................\n",
      "[CV] ................................ C=100, gamma=0.01, total=   4.2s\n",
      "[CV] C=100, gamma=0.01 ...............................................\n",
      "[CV] ................................ C=100, gamma=0.01, total=   4.3s\n",
      "[CV] C=100, gamma=0.001 ..............................................\n",
      "[CV] ............................... C=100, gamma=0.001, total=   2.0s\n",
      "[CV] C=100, gamma=0.001 ..............................................\n",
      "[CV] ............................... C=100, gamma=0.001, total=   2.0s\n",
      "[CV] C=100, gamma=0.001 ..............................................\n",
      "[CV] ............................... C=100, gamma=0.001, total=   2.1s\n"
     ]
    },
    {
     "name": "stderr",
     "output_type": "stream",
     "text": [
      "[Parallel(n_jobs=1)]: Done  48 out of  48 | elapsed:  4.5min finished\n"
     ]
    },
    {
     "data": {
      "text/plain": [
       "GridSearchCV(cv=None, error_score='raise',\n",
       "       estimator=SVC(C=1.0, cache_size=200, class_weight=None, coef0=0.0,\n",
       "  decision_function_shape='ovr', degree=3, gamma='auto', kernel='rbf',\n",
       "  max_iter=-1, probability=False, random_state=None, shrinking=True,\n",
       "  tol=0.001, verbose=False),\n",
       "       fit_params=None, iid=True, n_jobs=1,\n",
       "       param_grid={'C': [0.1, 1, 10, 100], 'gamma': [1, 0.1, 0.01, 0.001]},\n",
       "       pre_dispatch='2*n_jobs', refit=True, return_train_score='warn',\n",
       "       scoring=None, verbose=2)"
      ]
     },
     "execution_count": 18,
     "metadata": {},
     "output_type": "execute_result"
    }
   ],
   "source": [
    "grid = GridSearchCV(SVC(),param_grid,refit=True,verbose=2)\n",
    "grid.fit(X_train,y_train)"
   ]
  },
  {
   "cell_type": "code",
   "execution_count": 19,
   "metadata": {},
   "outputs": [],
   "source": [
    "grid_predictions = grid.predict(X_test)"
   ]
  },
  {
   "cell_type": "code",
   "execution_count": 20,
   "metadata": {},
   "outputs": [
    {
     "data": {
      "text/plain": [
       "0.6699770817417876"
      ]
     },
     "execution_count": 20,
     "metadata": {},
     "output_type": "execute_result"
    }
   ],
   "source": [
    "accuracy_score(y_true=y_test, y_pred=grid_predictions)"
   ]
  },
  {
   "cell_type": "code",
   "execution_count": 40,
   "metadata": {},
   "outputs": [
    {
     "name": "stdout",
     "output_type": "stream",
     "text": [
      "             precision    recall  f1-score   support\n",
      "\n",
      "          1       0.68      0.90      0.78       636\n",
      "          2       0.68      0.58      0.63       202\n",
      "          3       0.66      0.70      0.68        97\n",
      "          4       0.64      0.55      0.59        77\n",
      "          5       0.55      0.15      0.24        71\n",
      "          6       0.53      0.38      0.44        84\n",
      "          7       0.00      0.00      0.00        27\n",
      "          8       0.86      0.41      0.56        61\n",
      "          9       0.56      0.29      0.38        31\n",
      "         10       0.00      0.00      0.00        23\n",
      "\n",
      "avg / total       0.64      0.67      0.64      1309\n",
      "\n"
     ]
    }
   ],
   "source": [
    "from sklearn.metrics import classification_report\n",
    "print(classification_report(y_test,grid_predictions))"
   ]
  },
  {
   "cell_type": "code",
   "execution_count": null,
   "metadata": {},
   "outputs": [],
   "source": []
  },
  {
   "cell_type": "code",
   "execution_count": null,
   "metadata": {},
   "outputs": [],
   "source": []
  },
  {
   "cell_type": "code",
   "execution_count": null,
   "metadata": {},
   "outputs": [],
   "source": []
  },
  {
   "cell_type": "markdown",
   "metadata": {},
   "source": [
    "### train using full data set"
   ]
  },
  {
   "cell_type": "code",
   "execution_count": 38,
   "metadata": {},
   "outputs": [
    {
     "name": "stdout",
     "output_type": "stream",
     "text": [
      "Fitting 3 folds for each of 9 candidates, totalling 27 fits\n",
      "[CV] C=5, gamma=0.005 ................................................\n",
      "[CV] ................................. C=5, gamma=0.005, total=   5.4s\n",
      "[CV] C=5, gamma=0.005 ................................................\n"
     ]
    },
    {
     "name": "stderr",
     "output_type": "stream",
     "text": [
      "[Parallel(n_jobs=1)]: Done   1 out of   1 | elapsed:    7.8s remaining:    0.0s\n"
     ]
    },
    {
     "name": "stdout",
     "output_type": "stream",
     "text": [
      "[CV] ................................. C=5, gamma=0.005, total=   6.0s\n",
      "[CV] C=5, gamma=0.005 ................................................\n",
      "[CV] ................................. C=5, gamma=0.005, total=   5.7s\n",
      "[CV] C=5, gamma=0.001 ................................................\n",
      "[CV] ................................. C=5, gamma=0.001, total=   4.0s\n",
      "[CV] C=5, gamma=0.001 ................................................\n",
      "[CV] ................................. C=5, gamma=0.001, total=   3.8s\n",
      "[CV] C=5, gamma=0.001 ................................................\n",
      "[CV] ................................. C=5, gamma=0.001, total=   3.5s\n",
      "[CV] C=5, gamma=0.0005 ...............................................\n",
      "[CV] ................................ C=5, gamma=0.0005, total=   3.4s\n",
      "[CV] C=5, gamma=0.0005 ...............................................\n",
      "[CV] ................................ C=5, gamma=0.0005, total=   3.6s\n",
      "[CV] C=5, gamma=0.0005 ...............................................\n",
      "[CV] ................................ C=5, gamma=0.0005, total=   3.7s\n",
      "[CV] C=10, gamma=0.005 ...............................................\n",
      "[CV] ................................ C=10, gamma=0.005, total=   5.8s\n",
      "[CV] C=10, gamma=0.005 ...............................................\n",
      "[CV] ................................ C=10, gamma=0.005, total=   5.6s\n",
      "[CV] C=10, gamma=0.005 ...............................................\n",
      "[CV] ................................ C=10, gamma=0.005, total=   5.6s\n",
      "[CV] C=10, gamma=0.001 ...............................................\n",
      "[CV] ................................ C=10, gamma=0.001, total=   3.6s\n",
      "[CV] C=10, gamma=0.001 ...............................................\n",
      "[CV] ................................ C=10, gamma=0.001, total=   3.5s\n",
      "[CV] C=10, gamma=0.001 ...............................................\n",
      "[CV] ................................ C=10, gamma=0.001, total=   3.6s\n",
      "[CV] C=10, gamma=0.0005 ..............................................\n",
      "[CV] ............................... C=10, gamma=0.0005, total=   3.7s\n",
      "[CV] C=10, gamma=0.0005 ..............................................\n",
      "[CV] ............................... C=10, gamma=0.0005, total=   3.4s\n",
      "[CV] C=10, gamma=0.0005 ..............................................\n",
      "[CV] ............................... C=10, gamma=0.0005, total=   3.6s\n",
      "[CV] C=50, gamma=0.005 ...............................................\n",
      "[CV] ................................ C=50, gamma=0.005, total=   6.0s\n",
      "[CV] C=50, gamma=0.005 ...............................................\n",
      "[CV] ................................ C=50, gamma=0.005, total=   5.9s\n",
      "[CV] C=50, gamma=0.005 ...............................................\n",
      "[CV] ................................ C=50, gamma=0.005, total=   5.8s\n",
      "[CV] C=50, gamma=0.001 ...............................................\n",
      "[CV] ................................ C=50, gamma=0.001, total=   4.2s\n",
      "[CV] C=50, gamma=0.001 ...............................................\n",
      "[CV] ................................ C=50, gamma=0.001, total=   3.9s\n",
      "[CV] C=50, gamma=0.001 ...............................................\n",
      "[CV] ................................ C=50, gamma=0.001, total=   4.2s\n",
      "[CV] C=50, gamma=0.0005 ..............................................\n",
      "[CV] ............................... C=50, gamma=0.0005, total=   3.7s\n",
      "[CV] C=50, gamma=0.0005 ..............................................\n",
      "[CV] ............................... C=50, gamma=0.0005, total=   3.5s\n",
      "[CV] C=50, gamma=0.0005 ..............................................\n",
      "[CV] ............................... C=50, gamma=0.0005, total=   3.7s\n"
     ]
    },
    {
     "name": "stderr",
     "output_type": "stream",
     "text": [
      "[Parallel(n_jobs=1)]: Done  27 out of  27 | elapsed:  3.0min finished\n"
     ]
    },
    {
     "data": {
      "text/plain": [
       "GridSearchCV(cv=None, error_score='raise',\n",
       "       estimator=SVC(C=1.0, cache_size=200, class_weight=None, coef0=0.0,\n",
       "  decision_function_shape='ovr', degree=3, gamma='auto', kernel='rbf',\n",
       "  max_iter=-1, probability=False, random_state=None, shrinking=True,\n",
       "  tol=0.001, verbose=False),\n",
       "       fit_params=None, iid=True, n_jobs=1,\n",
       "       param_grid={'C': [5, 10, 50], 'gamma': [0.005, 0.001, 0.0005]},\n",
       "       pre_dispatch='2*n_jobs', refit=True, return_train_score='warn',\n",
       "       scoring=None, verbose=2)"
      ]
     },
     "execution_count": 38,
     "metadata": {},
     "output_type": "execute_result"
    }
   ],
   "source": [
    "param_grid = {'C': [0.1,1, 10, 100], 'gamma': [1,0.1,0.01,0.001]} \n",
    "\n",
    "grid = GridSearchCV(SVC(),param_grid,refit=True,verbose=2)\n",
    "grid.fit(scaled_features, train_labels[0])"
   ]
  },
  {
   "cell_type": "code",
   "execution_count": 39,
   "metadata": {},
   "outputs": [
    {
     "data": {
      "text/plain": [
       "{'C': 5, 'gamma': 0.001}"
      ]
     },
     "execution_count": 39,
     "metadata": {},
     "output_type": "execute_result"
    }
   ],
   "source": [
    "grid.best_params_"
   ]
  },
  {
   "cell_type": "markdown",
   "metadata": {},
   "source": [
    "### test on submission data"
   ]
  },
  {
   "cell_type": "code",
   "execution_count": 41,
   "metadata": {},
   "outputs": [
    {
     "data": {
      "text/html": [
       "<div>\n",
       "<style scoped>\n",
       "    .dataframe tbody tr th:only-of-type {\n",
       "        vertical-align: middle;\n",
       "    }\n",
       "\n",
       "    .dataframe tbody tr th {\n",
       "        vertical-align: top;\n",
       "    }\n",
       "\n",
       "    .dataframe thead th {\n",
       "        text-align: right;\n",
       "    }\n",
       "</style>\n",
       "<table border=\"1\" class=\"dataframe\">\n",
       "  <thead>\n",
       "    <tr style=\"text-align: right;\">\n",
       "      <th></th>\n",
       "      <th>0</th>\n",
       "      <th>1</th>\n",
       "      <th>2</th>\n",
       "      <th>3</th>\n",
       "      <th>4</th>\n",
       "      <th>5</th>\n",
       "      <th>6</th>\n",
       "      <th>7</th>\n",
       "      <th>8</th>\n",
       "      <th>9</th>\n",
       "      <th>...</th>\n",
       "      <th>254</th>\n",
       "      <th>255</th>\n",
       "      <th>256</th>\n",
       "      <th>257</th>\n",
       "      <th>258</th>\n",
       "      <th>259</th>\n",
       "      <th>260</th>\n",
       "      <th>261</th>\n",
       "      <th>262</th>\n",
       "      <th>263</th>\n",
       "    </tr>\n",
       "  </thead>\n",
       "  <tbody>\n",
       "    <tr>\n",
       "      <th>0</th>\n",
       "      <td>0.043826</td>\n",
       "      <td>-0.809767</td>\n",
       "      <td>-0.945635</td>\n",
       "      <td>-0.571495</td>\n",
       "      <td>-0.451566</td>\n",
       "      <td>-0.539191</td>\n",
       "      <td>-0.568266</td>\n",
       "      <td>-0.369424</td>\n",
       "      <td>-0.299865</td>\n",
       "      <td>0.101217</td>\n",
       "      <td>...</td>\n",
       "      <td>0.988079</td>\n",
       "      <td>0.406270</td>\n",
       "      <td>1.051041</td>\n",
       "      <td>0.315653</td>\n",
       "      <td>1.091843</td>\n",
       "      <td>1.080988</td>\n",
       "      <td>0.829564</td>\n",
       "      <td>1.646998</td>\n",
       "      <td>0.159933</td>\n",
       "      <td>1.253805</td>\n",
       "    </tr>\n",
       "    <tr>\n",
       "      <th>1</th>\n",
       "      <td>-0.764994</td>\n",
       "      <td>-0.760131</td>\n",
       "      <td>-1.318111</td>\n",
       "      <td>-0.279499</td>\n",
       "      <td>-1.052338</td>\n",
       "      <td>-0.936280</td>\n",
       "      <td>-1.156958</td>\n",
       "      <td>-1.194894</td>\n",
       "      <td>-1.448273</td>\n",
       "      <td>-1.322496</td>\n",
       "      <td>...</td>\n",
       "      <td>-1.008087</td>\n",
       "      <td>-0.546926</td>\n",
       "      <td>0.945286</td>\n",
       "      <td>-0.057584</td>\n",
       "      <td>-0.624147</td>\n",
       "      <td>0.383785</td>\n",
       "      <td>0.286891</td>\n",
       "      <td>1.209392</td>\n",
       "      <td>1.329834</td>\n",
       "      <td>0.436842</td>\n",
       "    </tr>\n",
       "    <tr>\n",
       "      <th>2</th>\n",
       "      <td>-1.111097</td>\n",
       "      <td>-0.395324</td>\n",
       "      <td>-0.271093</td>\n",
       "      <td>-0.399065</td>\n",
       "      <td>-0.108006</td>\n",
       "      <td>-0.318027</td>\n",
       "      <td>-0.471264</td>\n",
       "      <td>-0.778783</td>\n",
       "      <td>-0.784574</td>\n",
       "      <td>-0.720827</td>\n",
       "      <td>...</td>\n",
       "      <td>-0.645886</td>\n",
       "      <td>0.708601</td>\n",
       "      <td>-0.063793</td>\n",
       "      <td>-0.748778</td>\n",
       "      <td>-1.639754</td>\n",
       "      <td>-0.541667</td>\n",
       "      <td>-0.921541</td>\n",
       "      <td>-0.184411</td>\n",
       "      <td>-0.864731</td>\n",
       "      <td>-0.883554</td>\n",
       "    </tr>\n",
       "    <tr>\n",
       "      <th>3</th>\n",
       "      <td>-0.238746</td>\n",
       "      <td>0.154644</td>\n",
       "      <td>0.249435</td>\n",
       "      <td>-0.011017</td>\n",
       "      <td>0.363870</td>\n",
       "      <td>0.735586</td>\n",
       "      <td>0.085907</td>\n",
       "      <td>0.430105</td>\n",
       "      <td>0.388821</td>\n",
       "      <td>1.164532</td>\n",
       "      <td>...</td>\n",
       "      <td>-0.687927</td>\n",
       "      <td>1.859212</td>\n",
       "      <td>-1.102982</td>\n",
       "      <td>0.289751</td>\n",
       "      <td>-0.835946</td>\n",
       "      <td>0.829969</td>\n",
       "      <td>-2.591491</td>\n",
       "      <td>-0.123660</td>\n",
       "      <td>0.844177</td>\n",
       "      <td>-1.695492</td>\n",
       "    </tr>\n",
       "    <tr>\n",
       "      <th>4</th>\n",
       "      <td>-1.176840</td>\n",
       "      <td>-1.313125</td>\n",
       "      <td>-1.168628</td>\n",
       "      <td>-1.241462</td>\n",
       "      <td>-1.013563</td>\n",
       "      <td>-0.950830</td>\n",
       "      <td>-0.793338</td>\n",
       "      <td>-0.848165</td>\n",
       "      <td>-0.870585</td>\n",
       "      <td>-0.550140</td>\n",
       "      <td>...</td>\n",
       "      <td>-0.943363</td>\n",
       "      <td>0.394816</td>\n",
       "      <td>-1.090551</td>\n",
       "      <td>1.650060</td>\n",
       "      <td>-1.533462</td>\n",
       "      <td>-1.704437</td>\n",
       "      <td>-1.215077</td>\n",
       "      <td>-0.021176</td>\n",
       "      <td>-0.107274</td>\n",
       "      <td>-0.871699</td>\n",
       "    </tr>\n",
       "  </tbody>\n",
       "</table>\n",
       "<p>5 rows × 264 columns</p>\n",
       "</div>"
      ],
      "text/plain": [
       "        0         1         2         3         4         5         6    \\\n",
       "0  0.043826 -0.809767 -0.945635 -0.571495 -0.451566 -0.539191 -0.568266   \n",
       "1 -0.764994 -0.760131 -1.318111 -0.279499 -1.052338 -0.936280 -1.156958   \n",
       "2 -1.111097 -0.395324 -0.271093 -0.399065 -0.108006 -0.318027 -0.471264   \n",
       "3 -0.238746  0.154644  0.249435 -0.011017  0.363870  0.735586  0.085907   \n",
       "4 -1.176840 -1.313125 -1.168628 -1.241462 -1.013563 -0.950830 -0.793338   \n",
       "\n",
       "        7         8         9      ...          254       255       256  \\\n",
       "0 -0.369424 -0.299865  0.101217    ...     0.988079  0.406270  1.051041   \n",
       "1 -1.194894 -1.448273 -1.322496    ...    -1.008087 -0.546926  0.945286   \n",
       "2 -0.778783 -0.784574 -0.720827    ...    -0.645886  0.708601 -0.063793   \n",
       "3  0.430105  0.388821  1.164532    ...    -0.687927  1.859212 -1.102982   \n",
       "4 -0.848165 -0.870585 -0.550140    ...    -0.943363  0.394816 -1.090551   \n",
       "\n",
       "        257       258       259       260       261       262       263  \n",
       "0  0.315653  1.091843  1.080988  0.829564  1.646998  0.159933  1.253805  \n",
       "1 -0.057584 -0.624147  0.383785  0.286891  1.209392  1.329834  0.436842  \n",
       "2 -0.748778 -1.639754 -0.541667 -0.921541 -0.184411 -0.864731 -0.883554  \n",
       "3  0.289751 -0.835946  0.829969 -2.591491 -0.123660  0.844177 -1.695492  \n",
       "4  1.650060 -1.533462 -1.704437 -1.215077 -0.021176 -0.107274 -0.871699  \n",
       "\n",
       "[5 rows x 264 columns]"
      ]
     },
     "execution_count": 41,
     "metadata": {},
     "output_type": "execute_result"
    }
   ],
   "source": [
    "test_data = pd.read_csv(\"./data/test_data.csv\", header=None)\n",
    "scaled_test_data = preprocessing.scale(test_data)\n",
    "pd.DataFrame(scaled_test_data).head()"
   ]
  },
  {
   "cell_type": "code",
   "execution_count": 42,
   "metadata": {},
   "outputs": [],
   "source": [
    "submission_predictions = grid.predict(scaled_test_data)"
   ]
  },
  {
   "cell_type": "code",
   "execution_count": 43,
   "metadata": {},
   "outputs": [
    {
     "data": {
      "text/plain": [
       "array([ 1,  2,  3,  4,  5,  6,  7,  8,  9, 10])"
      ]
     },
     "execution_count": 43,
     "metadata": {},
     "output_type": "execute_result"
    }
   ],
   "source": [
    "np.unique(submission_predictions)"
   ]
  },
  {
   "cell_type": "code",
   "execution_count": 46,
   "metadata": {},
   "outputs": [
    {
     "data": {
      "text/html": [
       "<div>\n",
       "<style scoped>\n",
       "    .dataframe tbody tr th:only-of-type {\n",
       "        vertical-align: middle;\n",
       "    }\n",
       "\n",
       "    .dataframe tbody tr th {\n",
       "        vertical-align: top;\n",
       "    }\n",
       "\n",
       "    .dataframe thead th {\n",
       "        text-align: right;\n",
       "    }\n",
       "</style>\n",
       "<table border=\"1\" class=\"dataframe\">\n",
       "  <thead>\n",
       "    <tr style=\"text-align: right;\">\n",
       "      <th></th>\n",
       "      <th>Sample_id</th>\n",
       "      <th>Sample_label</th>\n",
       "    </tr>\n",
       "  </thead>\n",
       "  <tbody>\n",
       "    <tr>\n",
       "      <th>0</th>\n",
       "      <td>1</td>\n",
       "      <td>3</td>\n",
       "    </tr>\n",
       "    <tr>\n",
       "      <th>1</th>\n",
       "      <td>2</td>\n",
       "      <td>9</td>\n",
       "    </tr>\n",
       "    <tr>\n",
       "      <th>2</th>\n",
       "      <td>3</td>\n",
       "      <td>1</td>\n",
       "    </tr>\n",
       "    <tr>\n",
       "      <th>3</th>\n",
       "      <td>4</td>\n",
       "      <td>1</td>\n",
       "    </tr>\n",
       "    <tr>\n",
       "      <th>4</th>\n",
       "      <td>5</td>\n",
       "      <td>1</td>\n",
       "    </tr>\n",
       "  </tbody>\n",
       "</table>\n",
       "</div>"
      ],
      "text/plain": [
       "   Sample_id  Sample_label\n",
       "0          1             3\n",
       "1          2             9\n",
       "2          3             1\n",
       "3          4             1\n",
       "4          5             1"
      ]
     },
     "execution_count": 46,
     "metadata": {},
     "output_type": "execute_result"
    }
   ],
   "source": [
    "template = pd.read_csv(\"./data/dummy_solution_accuracy.csv\")\n",
    "submission = template.copy()\n",
    "submission[\"Sample_label\"] = submission_predictions\n",
    "submission.head()"
   ]
  },
  {
   "cell_type": "code",
   "execution_count": 47,
   "metadata": {},
   "outputs": [],
   "source": [
    "submission.to_csv(\"./submission/accuracy_submission_svm.csv\", index=False)"
   ]
  },
  {
   "cell_type": "code",
   "execution_count": null,
   "metadata": {},
   "outputs": [],
   "source": []
  },
  {
   "cell_type": "code",
   "execution_count": 52,
   "metadata": {},
   "outputs": [
    {
     "name": "stdout",
     "output_type": "stream",
     "text": [
      "Fitting 3 folds for each of 16 candidates, totalling 48 fits\n",
      "[CV] C=0.1, gamma=1 ..................................................\n",
      "[CV] ................................... C=0.1, gamma=1, total=  50.5s\n",
      "[CV] C=0.1, gamma=1 ..................................................\n"
     ]
    },
    {
     "name": "stderr",
     "output_type": "stream",
     "text": [
      "[Parallel(n_jobs=1)]: Done   1 out of   1 | elapsed:   53.4s remaining:    0.0s\n"
     ]
    },
    {
     "name": "stdout",
     "output_type": "stream",
     "text": [
      "[CV] ................................... C=0.1, gamma=1, total=  48.1s\n",
      "[CV] C=0.1, gamma=1 ..................................................\n",
      "[CV] ................................... C=0.1, gamma=1, total=  48.5s\n",
      "[CV] C=0.1, gamma=0.1 ................................................\n",
      "[CV] ................................. C=0.1, gamma=0.1, total=  48.7s\n",
      "[CV] C=0.1, gamma=0.1 ................................................\n",
      "[CV] ................................. C=0.1, gamma=0.1, total=  53.5s\n",
      "[CV] C=0.1, gamma=0.1 ................................................\n",
      "[CV] ................................. C=0.1, gamma=0.1, total=  52.0s\n",
      "[CV] C=0.1, gamma=0.01 ...............................................\n",
      "[CV] ................................ C=0.1, gamma=0.01, total=  28.9s\n",
      "[CV] C=0.1, gamma=0.01 ...............................................\n",
      "[CV] ................................ C=0.1, gamma=0.01, total=  27.0s\n",
      "[CV] C=0.1, gamma=0.01 ...............................................\n",
      "[CV] ................................ C=0.1, gamma=0.01, total=  28.3s\n",
      "[CV] C=0.1, gamma=0.001 ..............................................\n",
      "[CV] ............................... C=0.1, gamma=0.001, total=  16.6s\n",
      "[CV] C=0.1, gamma=0.001 ..............................................\n",
      "[CV] ............................... C=0.1, gamma=0.001, total=  17.1s\n",
      "[CV] C=0.1, gamma=0.001 ..............................................\n",
      "[CV] ............................... C=0.1, gamma=0.001, total=  18.4s\n",
      "[CV] C=1, gamma=1 ....................................................\n",
      "[CV] ..................................... C=1, gamma=1, total=  48.0s\n",
      "[CV] C=1, gamma=1 ....................................................\n",
      "[CV] ..................................... C=1, gamma=1, total=  49.2s\n",
      "[CV] C=1, gamma=1 ....................................................\n",
      "[CV] ..................................... C=1, gamma=1, total=  47.8s\n",
      "[CV] C=1, gamma=0.1 ..................................................\n",
      "[CV] ................................... C=1, gamma=0.1, total=  45.4s\n",
      "[CV] C=1, gamma=0.1 ..................................................\n",
      "[CV] ................................... C=1, gamma=0.1, total=  45.4s\n",
      "[CV] C=1, gamma=0.1 ..................................................\n",
      "[CV] ................................... C=1, gamma=0.1, total=  45.3s\n",
      "[CV] C=1, gamma=0.01 .................................................\n",
      "[CV] .................................. C=1, gamma=0.01, total=  28.4s\n",
      "[CV] C=1, gamma=0.01 .................................................\n",
      "[CV] .................................. C=1, gamma=0.01, total=  30.2s\n",
      "[CV] C=1, gamma=0.01 .................................................\n",
      "[CV] .................................. C=1, gamma=0.01, total=  32.5s\n",
      "[CV] C=1, gamma=0.001 ................................................\n",
      "[CV] ................................. C=1, gamma=0.001, total=  15.9s\n",
      "[CV] C=1, gamma=0.001 ................................................\n",
      "[CV] ................................. C=1, gamma=0.001, total=  15.5s\n",
      "[CV] C=1, gamma=0.001 ................................................\n",
      "[CV] ................................. C=1, gamma=0.001, total=  15.5s\n",
      "[CV] C=10, gamma=1 ...................................................\n",
      "[CV] .................................... C=10, gamma=1, total=  48.4s\n",
      "[CV] C=10, gamma=1 ...................................................\n",
      "[CV] .................................... C=10, gamma=1, total=  48.7s\n",
      "[CV] C=10, gamma=1 ...................................................\n",
      "[CV] .................................... C=10, gamma=1, total=  51.4s\n",
      "[CV] C=10, gamma=0.1 .................................................\n",
      "[CV] .................................. C=10, gamma=0.1, total=  52.8s\n",
      "[CV] C=10, gamma=0.1 .................................................\n",
      "[CV] .................................. C=10, gamma=0.1, total=  51.2s\n",
      "[CV] C=10, gamma=0.1 .................................................\n",
      "[CV] .................................. C=10, gamma=0.1, total=  48.5s\n",
      "[CV] C=10, gamma=0.01 ................................................\n",
      "[CV] ................................. C=10, gamma=0.01, total=  37.6s\n",
      "[CV] C=10, gamma=0.01 ................................................\n",
      "[CV] ................................. C=10, gamma=0.01, total=  37.5s\n",
      "[CV] C=10, gamma=0.01 ................................................\n",
      "[CV] ................................. C=10, gamma=0.01, total=  36.6s\n",
      "[CV] C=10, gamma=0.001 ...............................................\n",
      "[CV] ................................ C=10, gamma=0.001, total=  15.6s\n",
      "[CV] C=10, gamma=0.001 ...............................................\n",
      "[CV] ................................ C=10, gamma=0.001, total=  15.8s\n",
      "[CV] C=10, gamma=0.001 ...............................................\n",
      "[CV] ................................ C=10, gamma=0.001, total=  15.4s\n",
      "[CV] C=100, gamma=1 ..................................................\n",
      "[CV] ................................... C=100, gamma=1, total=  53.8s\n",
      "[CV] C=100, gamma=1 ..................................................\n",
      "[CV] ................................... C=100, gamma=1, total=  51.7s\n",
      "[CV] C=100, gamma=1 ..................................................\n",
      "[CV] ................................... C=100, gamma=1, total=  50.7s\n",
      "[CV] C=100, gamma=0.1 ................................................\n",
      "[CV] ................................. C=100, gamma=0.1, total=  48.4s\n",
      "[CV] C=100, gamma=0.1 ................................................\n",
      "[CV] ................................. C=100, gamma=0.1, total=  52.8s\n",
      "[CV] C=100, gamma=0.1 ................................................\n",
      "[CV] ................................. C=100, gamma=0.1, total=  49.6s\n",
      "[CV] C=100, gamma=0.01 ...............................................\n",
      "[CV] ................................ C=100, gamma=0.01, total=  36.9s\n",
      "[CV] C=100, gamma=0.01 ...............................................\n",
      "[CV] ................................ C=100, gamma=0.01, total=  39.0s\n",
      "[CV] C=100, gamma=0.01 ...............................................\n",
      "[CV] ................................ C=100, gamma=0.01, total=  38.8s\n",
      "[CV] C=100, gamma=0.001 ..............................................\n",
      "[CV] ............................... C=100, gamma=0.001, total=  15.3s\n",
      "[CV] C=100, gamma=0.001 ..............................................\n",
      "[CV] ............................... C=100, gamma=0.001, total=  16.5s\n",
      "[CV] C=100, gamma=0.001 ..............................................\n",
      "[CV] ............................... C=100, gamma=0.001, total=  19.8s\n"
     ]
    },
    {
     "name": "stderr",
     "output_type": "stream",
     "text": [
      "[Parallel(n_jobs=1)]: Done  48 out of  48 | elapsed: 31.9min finished\n"
     ]
    },
    {
     "data": {
      "text/plain": [
       "GridSearchCV(cv=None, error_score='raise',\n",
       "       estimator=SVC(C=1.0, cache_size=200, class_weight=None, coef0=0.0,\n",
       "  decision_function_shape='ovr', degree=3, gamma='auto', kernel='rbf',\n",
       "  max_iter=-1, probability=True, random_state=None, shrinking=True,\n",
       "  tol=0.001, verbose=False),\n",
       "       fit_params=None, iid=True, n_jobs=1,\n",
       "       param_grid={'C': [0.1, 1, 10, 100], 'gamma': [1, 0.1, 0.01, 0.001]},\n",
       "       pre_dispatch='2*n_jobs', refit=True, return_train_score='warn',\n",
       "       scoring=None, verbose=2)"
      ]
     },
     "execution_count": 52,
     "metadata": {},
     "output_type": "execute_result"
    }
   ],
   "source": [
    "param_grid = {'C': [0.1,1, 10, 100], 'gamma': [1,0.1,0.01,0.001]} \n",
    "\n",
    "grid_prob = GridSearchCV(SVC(probability=True),param_grid,refit=True,verbose=2)\n",
    "grid_prob.fit(scaled_features, train_labels[0])"
   ]
  },
  {
   "cell_type": "markdown",
   "metadata": {},
   "source": [
    "### on submission data"
   ]
  },
  {
   "cell_type": "code",
   "execution_count": 56,
   "metadata": {},
   "outputs": [],
   "source": [
    "submission_data = pd.read_csv(\"./data/test_data.csv\", header=None)\n",
    "submission_proba = grid_prob.predict_proba(submission_data)"
   ]
  },
  {
   "cell_type": "code",
   "execution_count": 57,
   "metadata": {},
   "outputs": [
    {
     "name": "stdout",
     "output_type": "stream",
     "text": [
      "(6544, 1)\n"
     ]
    },
    {
     "data": {
      "text/html": [
       "<div>\n",
       "<style scoped>\n",
       "    .dataframe tbody tr th:only-of-type {\n",
       "        vertical-align: middle;\n",
       "    }\n",
       "\n",
       "    .dataframe tbody tr th {\n",
       "        vertical-align: top;\n",
       "    }\n",
       "\n",
       "    .dataframe thead th {\n",
       "        text-align: right;\n",
       "    }\n",
       "</style>\n",
       "<table border=\"1\" class=\"dataframe\">\n",
       "  <thead>\n",
       "    <tr style=\"text-align: right;\">\n",
       "      <th></th>\n",
       "      <th>Sample_id</th>\n",
       "    </tr>\n",
       "  </thead>\n",
       "  <tbody>\n",
       "    <tr>\n",
       "      <th>0</th>\n",
       "      <td>1</td>\n",
       "    </tr>\n",
       "    <tr>\n",
       "      <th>1</th>\n",
       "      <td>2</td>\n",
       "    </tr>\n",
       "    <tr>\n",
       "      <th>2</th>\n",
       "      <td>3</td>\n",
       "    </tr>\n",
       "    <tr>\n",
       "      <th>3</th>\n",
       "      <td>4</td>\n",
       "    </tr>\n",
       "    <tr>\n",
       "      <th>4</th>\n",
       "      <td>5</td>\n",
       "    </tr>\n",
       "  </tbody>\n",
       "</table>\n",
       "</div>"
      ],
      "text/plain": [
       "   Sample_id\n",
       "0          1\n",
       "1          2\n",
       "2          3\n",
       "3          4\n",
       "4          5"
      ]
     },
     "execution_count": 57,
     "metadata": {},
     "output_type": "execute_result"
    }
   ],
   "source": [
    "dummy = pd.read_csv(\"./data/dummy_solution_accuracy.csv\")\n",
    "dummy.drop(\"Sample_label\", inplace=True, axis=1)\n",
    "print(dummy.shape)\n",
    "dummy.head()"
   ]
  },
  {
   "cell_type": "code",
   "execution_count": 58,
   "metadata": {},
   "outputs": [],
   "source": [
    "submission2 = dummy.copy()"
   ]
  },
  {
   "cell_type": "code",
   "execution_count": 59,
   "metadata": {},
   "outputs": [],
   "source": [
    "for i in range(10):\n",
    "    submission2[f'Class_{i+1}'] = submission_proba[:, i]"
   ]
  },
  {
   "cell_type": "code",
   "execution_count": 60,
   "metadata": {},
   "outputs": [
    {
     "data": {
      "text/html": [
       "<div>\n",
       "<style scoped>\n",
       "    .dataframe tbody tr th:only-of-type {\n",
       "        vertical-align: middle;\n",
       "    }\n",
       "\n",
       "    .dataframe tbody tr th {\n",
       "        vertical-align: top;\n",
       "    }\n",
       "\n",
       "    .dataframe thead th {\n",
       "        text-align: right;\n",
       "    }\n",
       "</style>\n",
       "<table border=\"1\" class=\"dataframe\">\n",
       "  <thead>\n",
       "    <tr style=\"text-align: right;\">\n",
       "      <th></th>\n",
       "      <th>Sample_id</th>\n",
       "      <th>Class_1</th>\n",
       "      <th>Class_2</th>\n",
       "      <th>Class_3</th>\n",
       "      <th>Class_4</th>\n",
       "      <th>Class_5</th>\n",
       "      <th>Class_6</th>\n",
       "      <th>Class_7</th>\n",
       "      <th>Class_8</th>\n",
       "      <th>Class_9</th>\n",
       "      <th>Class_10</th>\n",
       "    </tr>\n",
       "  </thead>\n",
       "  <tbody>\n",
       "    <tr>\n",
       "      <th>0</th>\n",
       "      <td>1</td>\n",
       "      <td>0.374756</td>\n",
       "      <td>0.519683</td>\n",
       "      <td>0.027261</td>\n",
       "      <td>0.006329</td>\n",
       "      <td>0.020247</td>\n",
       "      <td>0.001659</td>\n",
       "      <td>0.035121</td>\n",
       "      <td>0.000478</td>\n",
       "      <td>0.008594</td>\n",
       "      <td>0.005872</td>\n",
       "    </tr>\n",
       "    <tr>\n",
       "      <th>1</th>\n",
       "      <td>2</td>\n",
       "      <td>0.374756</td>\n",
       "      <td>0.519683</td>\n",
       "      <td>0.027261</td>\n",
       "      <td>0.006329</td>\n",
       "      <td>0.020247</td>\n",
       "      <td>0.001659</td>\n",
       "      <td>0.035121</td>\n",
       "      <td>0.000478</td>\n",
       "      <td>0.008594</td>\n",
       "      <td>0.005872</td>\n",
       "    </tr>\n",
       "    <tr>\n",
       "      <th>2</th>\n",
       "      <td>3</td>\n",
       "      <td>0.374756</td>\n",
       "      <td>0.519683</td>\n",
       "      <td>0.027261</td>\n",
       "      <td>0.006329</td>\n",
       "      <td>0.020247</td>\n",
       "      <td>0.001659</td>\n",
       "      <td>0.035121</td>\n",
       "      <td>0.000478</td>\n",
       "      <td>0.008594</td>\n",
       "      <td>0.005872</td>\n",
       "    </tr>\n",
       "    <tr>\n",
       "      <th>3</th>\n",
       "      <td>4</td>\n",
       "      <td>0.374756</td>\n",
       "      <td>0.519683</td>\n",
       "      <td>0.027261</td>\n",
       "      <td>0.006329</td>\n",
       "      <td>0.020247</td>\n",
       "      <td>0.001659</td>\n",
       "      <td>0.035121</td>\n",
       "      <td>0.000478</td>\n",
       "      <td>0.008594</td>\n",
       "      <td>0.005872</td>\n",
       "    </tr>\n",
       "    <tr>\n",
       "      <th>4</th>\n",
       "      <td>5</td>\n",
       "      <td>0.374756</td>\n",
       "      <td>0.519683</td>\n",
       "      <td>0.027261</td>\n",
       "      <td>0.006329</td>\n",
       "      <td>0.020247</td>\n",
       "      <td>0.001659</td>\n",
       "      <td>0.035121</td>\n",
       "      <td>0.000478</td>\n",
       "      <td>0.008594</td>\n",
       "      <td>0.005872</td>\n",
       "    </tr>\n",
       "  </tbody>\n",
       "</table>\n",
       "</div>"
      ],
      "text/plain": [
       "   Sample_id   Class_1   Class_2   Class_3   Class_4   Class_5   Class_6  \\\n",
       "0          1  0.374756  0.519683  0.027261  0.006329  0.020247  0.001659   \n",
       "1          2  0.374756  0.519683  0.027261  0.006329  0.020247  0.001659   \n",
       "2          3  0.374756  0.519683  0.027261  0.006329  0.020247  0.001659   \n",
       "3          4  0.374756  0.519683  0.027261  0.006329  0.020247  0.001659   \n",
       "4          5  0.374756  0.519683  0.027261  0.006329  0.020247  0.001659   \n",
       "\n",
       "    Class_7   Class_8   Class_9  Class_10  \n",
       "0  0.035121  0.000478  0.008594  0.005872  \n",
       "1  0.035121  0.000478  0.008594  0.005872  \n",
       "2  0.035121  0.000478  0.008594  0.005872  \n",
       "3  0.035121  0.000478  0.008594  0.005872  \n",
       "4  0.035121  0.000478  0.008594  0.005872  "
      ]
     },
     "execution_count": 60,
     "metadata": {},
     "output_type": "execute_result"
    }
   ],
   "source": [
    "submission2.head()"
   ]
  },
  {
   "cell_type": "code",
   "execution_count": 61,
   "metadata": {},
   "outputs": [],
   "source": [
    "submission2.to_csv(\"./submission/logloss_svm.csv\", index=False)"
   ]
  },
  {
   "cell_type": "code",
   "execution_count": null,
   "metadata": {},
   "outputs": [],
   "source": []
  }
 ],
 "metadata": {
  "kernelspec": {
   "display_name": "Python 3",
   "language": "python",
   "name": "python3"
  },
  "language_info": {
   "codemirror_mode": {
    "name": "ipython",
    "version": 3
   },
   "file_extension": ".py",
   "mimetype": "text/x-python",
   "name": "python",
   "nbconvert_exporter": "python",
   "pygments_lexer": "ipython3",
   "version": "3.6.5"
  }
 },
 "nbformat": 4,
 "nbformat_minor": 2
}
