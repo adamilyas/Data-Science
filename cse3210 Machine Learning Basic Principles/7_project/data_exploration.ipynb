{
 "cells": [
  {
   "cell_type": "code",
   "execution_count": 1,
   "metadata": {},
   "outputs": [],
   "source": [
    "import pandas as pd\n",
    "import numpy as np\n",
    "import matplotlib.pyplot as plt\n",
    "import seaborn as sns\n",
    "\n",
    "%matplotlib inline"
   ]
  },
  {
   "cell_type": "code",
   "execution_count": 2,
   "metadata": {},
   "outputs": [],
   "source": [
    "from scipy import stats\n",
    "from sklearn import preprocessing\n",
    "\n",
    "from sklearn.linear_model import LogisticRegression\n",
    "from sklearn.model_selection import train_test_split"
   ]
  },
  {
   "cell_type": "markdown",
   "metadata": {},
   "source": [
    "\n",
    "|label|1|2|3|4|5|6|7|8|9|10|\n",
    "|-|-|\n",
    "|genre|'Pop_Rock'|'Electronic'|'Rap'|'Jazz'|'Latin'|'RnB'|'International'|'Country'|'Reggae'|'Blues'|"
   ]
  },
  {
   "cell_type": "markdown",
   "metadata": {},
   "source": [
    "### training data"
   ]
  },
  {
   "cell_type": "code",
   "execution_count": 3,
   "metadata": {},
   "outputs": [
    {
     "name": "stdout",
     "output_type": "stream",
     "text": [
      "(4363, 1)\n"
     ]
    },
    {
     "data": {
      "text/html": [
       "<div>\n",
       "<style scoped>\n",
       "    .dataframe tbody tr th:only-of-type {\n",
       "        vertical-align: middle;\n",
       "    }\n",
       "\n",
       "    .dataframe tbody tr th {\n",
       "        vertical-align: top;\n",
       "    }\n",
       "\n",
       "    .dataframe thead th {\n",
       "        text-align: right;\n",
       "    }\n",
       "</style>\n",
       "<table border=\"1\" class=\"dataframe\">\n",
       "  <thead>\n",
       "    <tr style=\"text-align: right;\">\n",
       "      <th></th>\n",
       "      <th>0</th>\n",
       "    </tr>\n",
       "  </thead>\n",
       "  <tbody>\n",
       "    <tr>\n",
       "      <th>0</th>\n",
       "      <td>1</td>\n",
       "    </tr>\n",
       "    <tr>\n",
       "      <th>1</th>\n",
       "      <td>1</td>\n",
       "    </tr>\n",
       "    <tr>\n",
       "      <th>2</th>\n",
       "      <td>1</td>\n",
       "    </tr>\n",
       "    <tr>\n",
       "      <th>3</th>\n",
       "      <td>1</td>\n",
       "    </tr>\n",
       "    <tr>\n",
       "      <th>4</th>\n",
       "      <td>1</td>\n",
       "    </tr>\n",
       "  </tbody>\n",
       "</table>\n",
       "</div>"
      ],
      "text/plain": [
       "   0\n",
       "0  1\n",
       "1  1\n",
       "2  1\n",
       "3  1\n",
       "4  1"
      ]
     },
     "execution_count": 3,
     "metadata": {},
     "output_type": "execute_result"
    }
   ],
   "source": [
    "train_labels = pd.read_csv(\"./data/train_labels.csv\", header=None)\n",
    "print(train_labels.shape)\n",
    "train_labels.head()"
   ]
  },
  {
   "cell_type": "code",
   "execution_count": 4,
   "metadata": {},
   "outputs": [
    {
     "name": "stdout",
     "output_type": "stream",
     "text": [
      "(4363, 264)\n"
     ]
    },
    {
     "data": {
      "text/html": [
       "<div>\n",
       "<style scoped>\n",
       "    .dataframe tbody tr th:only-of-type {\n",
       "        vertical-align: middle;\n",
       "    }\n",
       "\n",
       "    .dataframe tbody tr th {\n",
       "        vertical-align: top;\n",
       "    }\n",
       "\n",
       "    .dataframe thead th {\n",
       "        text-align: right;\n",
       "    }\n",
       "</style>\n",
       "<table border=\"1\" class=\"dataframe\">\n",
       "  <thead>\n",
       "    <tr style=\"text-align: right;\">\n",
       "      <th></th>\n",
       "      <th>0</th>\n",
       "      <th>1</th>\n",
       "      <th>2</th>\n",
       "      <th>3</th>\n",
       "      <th>4</th>\n",
       "      <th>5</th>\n",
       "      <th>6</th>\n",
       "      <th>7</th>\n",
       "      <th>8</th>\n",
       "      <th>9</th>\n",
       "      <th>...</th>\n",
       "      <th>254</th>\n",
       "      <th>255</th>\n",
       "      <th>256</th>\n",
       "      <th>257</th>\n",
       "      <th>258</th>\n",
       "      <th>259</th>\n",
       "      <th>260</th>\n",
       "      <th>261</th>\n",
       "      <th>262</th>\n",
       "      <th>263</th>\n",
       "    </tr>\n",
       "  </thead>\n",
       "  <tbody>\n",
       "    <tr>\n",
       "      <th>0</th>\n",
       "      <td>1040.7</td>\n",
       "      <td>2315.6</td>\n",
       "      <td>2839.1</td>\n",
       "      <td>2552.2</td>\n",
       "      <td>2290.4</td>\n",
       "      <td>1913.8</td>\n",
       "      <td>2152.6</td>\n",
       "      <td>1930.3</td>\n",
       "      <td>2079.3</td>\n",
       "      <td>1706.7</td>\n",
       "      <td>...</td>\n",
       "      <td>0.216490</td>\n",
       "      <td>0.36548</td>\n",
       "      <td>0.093584</td>\n",
       "      <td>0.166870</td>\n",
       "      <td>0.083426</td>\n",
       "      <td>0.118090</td>\n",
       "      <td>0.089792</td>\n",
       "      <td>0.074371</td>\n",
       "      <td>0.073162</td>\n",
       "      <td>0.059463</td>\n",
       "    </tr>\n",
       "    <tr>\n",
       "      <th>1</th>\n",
       "      <td>2309.4</td>\n",
       "      <td>4780.4</td>\n",
       "      <td>4055.7</td>\n",
       "      <td>3120.5</td>\n",
       "      <td>1979.9</td>\n",
       "      <td>2343.6</td>\n",
       "      <td>2634.2</td>\n",
       "      <td>3208.5</td>\n",
       "      <td>3078.0</td>\n",
       "      <td>3374.7</td>\n",
       "      <td>...</td>\n",
       "      <td>0.100670</td>\n",
       "      <td>0.14739</td>\n",
       "      <td>0.102560</td>\n",
       "      <td>0.213040</td>\n",
       "      <td>0.082041</td>\n",
       "      <td>0.080967</td>\n",
       "      <td>0.076450</td>\n",
       "      <td>0.052523</td>\n",
       "      <td>0.052357</td>\n",
       "      <td>0.055297</td>\n",
       "    </tr>\n",
       "    <tr>\n",
       "      <th>2</th>\n",
       "      <td>2331.9</td>\n",
       "      <td>4607.0</td>\n",
       "      <td>4732.3</td>\n",
       "      <td>5007.0</td>\n",
       "      <td>3164.9</td>\n",
       "      <td>3171.9</td>\n",
       "      <td>2915.7</td>\n",
       "      <td>3282.3</td>\n",
       "      <td>2400.0</td>\n",
       "      <td>1895.2</td>\n",
       "      <td>...</td>\n",
       "      <td>0.126760</td>\n",
       "      <td>0.36321</td>\n",
       "      <td>0.114200</td>\n",
       "      <td>0.223780</td>\n",
       "      <td>0.100770</td>\n",
       "      <td>0.186910</td>\n",
       "      <td>0.067270</td>\n",
       "      <td>0.061138</td>\n",
       "      <td>0.085509</td>\n",
       "      <td>0.049422</td>\n",
       "    </tr>\n",
       "    <tr>\n",
       "      <th>3</th>\n",
       "      <td>3350.9</td>\n",
       "      <td>6274.4</td>\n",
       "      <td>5037.0</td>\n",
       "      <td>4609.7</td>\n",
       "      <td>3438.8</td>\n",
       "      <td>3925.8</td>\n",
       "      <td>3746.4</td>\n",
       "      <td>3539.4</td>\n",
       "      <td>3053.7</td>\n",
       "      <td>3075.4</td>\n",
       "      <td>...</td>\n",
       "      <td>0.096479</td>\n",
       "      <td>0.28950</td>\n",
       "      <td>0.074124</td>\n",
       "      <td>0.201580</td>\n",
       "      <td>0.049032</td>\n",
       "      <td>0.130210</td>\n",
       "      <td>0.045800</td>\n",
       "      <td>0.080885</td>\n",
       "      <td>0.148910</td>\n",
       "      <td>0.042027</td>\n",
       "    </tr>\n",
       "    <tr>\n",
       "      <th>4</th>\n",
       "      <td>2017.6</td>\n",
       "      <td>3351.8</td>\n",
       "      <td>2924.9</td>\n",
       "      <td>2726.3</td>\n",
       "      <td>1979.9</td>\n",
       "      <td>1930.9</td>\n",
       "      <td>2083.4</td>\n",
       "      <td>1889.2</td>\n",
       "      <td>1695.4</td>\n",
       "      <td>1911.7</td>\n",
       "      <td>...</td>\n",
       "      <td>0.138340</td>\n",
       "      <td>0.38266</td>\n",
       "      <td>0.079402</td>\n",
       "      <td>0.063495</td>\n",
       "      <td>0.053717</td>\n",
       "      <td>0.086750</td>\n",
       "      <td>0.062090</td>\n",
       "      <td>0.048999</td>\n",
       "      <td>0.033159</td>\n",
       "      <td>0.070813</td>\n",
       "    </tr>\n",
       "  </tbody>\n",
       "</table>\n",
       "<p>5 rows × 264 columns</p>\n",
       "</div>"
      ],
      "text/plain": [
       "      0       1       2       3       4       5       6       7       8    \\\n",
       "0  1040.7  2315.6  2839.1  2552.2  2290.4  1913.8  2152.6  1930.3  2079.3   \n",
       "1  2309.4  4780.4  4055.7  3120.5  1979.9  2343.6  2634.2  3208.5  3078.0   \n",
       "2  2331.9  4607.0  4732.3  5007.0  3164.9  3171.9  2915.7  3282.3  2400.0   \n",
       "3  3350.9  6274.4  5037.0  4609.7  3438.8  3925.8  3746.4  3539.4  3053.7   \n",
       "4  2017.6  3351.8  2924.9  2726.3  1979.9  1930.9  2083.4  1889.2  1695.4   \n",
       "\n",
       "      9      ...          254      255       256       257       258  \\\n",
       "0  1706.7    ...     0.216490  0.36548  0.093584  0.166870  0.083426   \n",
       "1  3374.7    ...     0.100670  0.14739  0.102560  0.213040  0.082041   \n",
       "2  1895.2    ...     0.126760  0.36321  0.114200  0.223780  0.100770   \n",
       "3  3075.4    ...     0.096479  0.28950  0.074124  0.201580  0.049032   \n",
       "4  1911.7    ...     0.138340  0.38266  0.079402  0.063495  0.053717   \n",
       "\n",
       "        259       260       261       262       263  \n",
       "0  0.118090  0.089792  0.074371  0.073162  0.059463  \n",
       "1  0.080967  0.076450  0.052523  0.052357  0.055297  \n",
       "2  0.186910  0.067270  0.061138  0.085509  0.049422  \n",
       "3  0.130210  0.045800  0.080885  0.148910  0.042027  \n",
       "4  0.086750  0.062090  0.048999  0.033159  0.070813  \n",
       "\n",
       "[5 rows x 264 columns]"
      ]
     },
     "execution_count": 4,
     "metadata": {},
     "output_type": "execute_result"
    }
   ],
   "source": [
    "train_data = pd.read_csv(\"./data/train_data.csv\", header=None)\n",
    "print(train_data.shape)\n",
    "train_data.head()"
   ]
  },
  {
   "cell_type": "code",
   "execution_count": 5,
   "metadata": {},
   "outputs": [
    {
     "data": {
      "text/plain": [
       "array([ 1,  5,  4,  2,  6, 10,  3,  7,  9,  8])"
      ]
     },
     "execution_count": 5,
     "metadata": {},
     "output_type": "execute_result"
    }
   ],
   "source": [
    "train_labels[0].unique()"
   ]
  },
  {
   "cell_type": "markdown",
   "metadata": {},
   "source": [
    "### data preprocessing"
   ]
  },
  {
   "cell_type": "markdown",
   "metadata": {},
   "source": [
    "we know that \n",
    "\n",
    "1) 1 to 168: Rhythm pattern\n",
    "- mean\n",
    "- median\n",
    "- variance\n",
    "- kurtosis\n",
    "- skewness\n",
    "- min\n",
    "- max\n",
    "\n",
    "2) 169 to 216: Chroma\n",
    "- mean\n",
    "- std\n",
    "- min\n",
    "- max\n",
    "\n",
    "3)  217 to 264: MFCCs (Mel Frequency Cepstral Coefficients)\n",
    "- mean\n",
    "- std\n",
    "- min\n",
    "- max\n"
   ]
  },
  {
   "cell_type": "code",
   "execution_count": 6,
   "metadata": {},
   "outputs": [],
   "source": [
    "rhythm_feature_set = train_data.iloc[:,0:168]\n",
    "chroma_feature_set = train_data.iloc[:,168:216]\n",
    "mfcc_feature_set = train_data.iloc[:,216:]"
   ]
  },
  {
   "cell_type": "code",
   "execution_count": 7,
   "metadata": {},
   "outputs": [],
   "source": [
    "features = pd.DataFrame()\n",
    "features[\"rhythm_mean\"] = rhythm_feature_set.apply(np.mean, axis=1)\n",
    "features[\"rhythm_median\"] = rhythm_feature_set.apply(np.median, axis=1)\n",
    "features[\"rhythm_variance\"] = rhythm_feature_set.apply(np.var, axis=1)\n",
    "\n",
    "features[\"rhythm_kurtosis\"] = rhythm_feature_set.apply(stats.kurtosis, axis=1)\n",
    "features[\"rhythm_skewness\"] = rhythm_feature_set.apply(stats.skew, axis=1)\n",
    "\n",
    "features[\"rhythm_min\"] = rhythm_feature_set.apply(np.min, axis=1)\n",
    "features[\"rhythm_max\"] = rhythm_feature_set.apply(np.max, axis=1)\n",
    "\n",
    "features[\"chroma_mean\"] = chroma_feature_set.apply(np.mean, axis=1)\n",
    "features[\"chroma_std\"] = chroma_feature_set.apply(np.std, axis=1)\n",
    "features[\"chroma_min\"] = chroma_feature_set.apply(np.min, axis=1)\n",
    "features[\"chroma_max\"] = chroma_feature_set.apply(np.max, axis=1)\n",
    "\n",
    "features[\"mfcc_mean\"] = mfcc_feature_set.apply(np.mean, axis=1)\n",
    "features[\"mfcc_std\"] = mfcc_feature_set.apply(np.std, axis=1)\n",
    "features[\"mfcc_min\"] = mfcc_feature_set.apply(np.min, axis=1)\n",
    "features[\"mfcc_max\"] = mfcc_feature_set.apply(np.max, axis=1)"
   ]
  },
  {
   "cell_type": "code",
   "execution_count": 8,
   "metadata": {},
   "outputs": [
    {
     "data": {
      "text/html": [
       "<div>\n",
       "<style scoped>\n",
       "    .dataframe tbody tr th:only-of-type {\n",
       "        vertical-align: middle;\n",
       "    }\n",
       "\n",
       "    .dataframe tbody tr th {\n",
       "        vertical-align: top;\n",
       "    }\n",
       "\n",
       "    .dataframe thead th {\n",
       "        text-align: right;\n",
       "    }\n",
       "</style>\n",
       "<table border=\"1\" class=\"dataframe\">\n",
       "  <thead>\n",
       "    <tr style=\"text-align: right;\">\n",
       "      <th></th>\n",
       "      <th>rhythm_mean</th>\n",
       "      <th>rhythm_median</th>\n",
       "      <th>rhythm_variance</th>\n",
       "      <th>rhythm_kurtosis</th>\n",
       "      <th>rhythm_skewness</th>\n",
       "      <th>rhythm_min</th>\n",
       "      <th>rhythm_max</th>\n",
       "      <th>chroma_mean</th>\n",
       "      <th>chroma_std</th>\n",
       "      <th>chroma_min</th>\n",
       "      <th>chroma_max</th>\n",
       "      <th>mfcc_mean</th>\n",
       "      <th>mfcc_std</th>\n",
       "      <th>mfcc_min</th>\n",
       "      <th>mfcc_max</th>\n",
       "    </tr>\n",
       "  </thead>\n",
       "  <tbody>\n",
       "    <tr>\n",
       "      <th>0</th>\n",
       "      <td>3186.884054</td>\n",
       "      <td>1520.45</td>\n",
       "      <td>1.355423e+08</td>\n",
       "      <td>149.134782</td>\n",
       "      <td>12.035399</td>\n",
       "      <td>0.016</td>\n",
       "      <td>150390.0</td>\n",
       "      <td>0.347344</td>\n",
       "      <td>0.396084</td>\n",
       "      <td>0.002</td>\n",
       "      <td>1.0</td>\n",
       "      <td>83333.576956</td>\n",
       "      <td>276385.325742</td>\n",
       "      <td>-0.19229</td>\n",
       "      <td>1000000.0</td>\n",
       "    </tr>\n",
       "    <tr>\n",
       "      <th>1</th>\n",
       "      <td>2721.480839</td>\n",
       "      <td>2254.05</td>\n",
       "      <td>6.356003e+06</td>\n",
       "      <td>1.394458</td>\n",
       "      <td>1.370253</td>\n",
       "      <td>0.000</td>\n",
       "      <td>11090.0</td>\n",
       "      <td>0.371001</td>\n",
       "      <td>0.399262</td>\n",
       "      <td>0.002</td>\n",
       "      <td>1.0</td>\n",
       "      <td>83333.445326</td>\n",
       "      <td>276385.365429</td>\n",
       "      <td>-0.23789</td>\n",
       "      <td>1000000.0</td>\n",
       "    </tr>\n",
       "    <tr>\n",
       "      <th>2</th>\n",
       "      <td>3063.031202</td>\n",
       "      <td>2144.65</td>\n",
       "      <td>9.463125e+06</td>\n",
       "      <td>1.005046</td>\n",
       "      <td>1.351375</td>\n",
       "      <td>-45.887</td>\n",
       "      <td>12707.0</td>\n",
       "      <td>0.337415</td>\n",
       "      <td>0.397231</td>\n",
       "      <td>0.002</td>\n",
       "      <td>1.0</td>\n",
       "      <td>83333.624873</td>\n",
       "      <td>276385.311295</td>\n",
       "      <td>-0.23153</td>\n",
       "      <td>1000000.0</td>\n",
       "    </tr>\n",
       "    <tr>\n",
       "      <th>3</th>\n",
       "      <td>3576.968470</td>\n",
       "      <td>3064.55</td>\n",
       "      <td>9.182377e+06</td>\n",
       "      <td>1.559031</td>\n",
       "      <td>1.354329</td>\n",
       "      <td>0.000</td>\n",
       "      <td>13815.0</td>\n",
       "      <td>0.358995</td>\n",
       "      <td>0.389015</td>\n",
       "      <td>0.012</td>\n",
       "      <td>1.0</td>\n",
       "      <td>83333.421559</td>\n",
       "      <td>276385.372595</td>\n",
       "      <td>-0.11490</td>\n",
       "      <td>1000000.0</td>\n",
       "    </tr>\n",
       "    <tr>\n",
       "      <th>4</th>\n",
       "      <td>2476.953321</td>\n",
       "      <td>1897.95</td>\n",
       "      <td>4.677566e+06</td>\n",
       "      <td>1.502884</td>\n",
       "      <td>1.231454</td>\n",
       "      <td>0.000</td>\n",
       "      <td>10880.0</td>\n",
       "      <td>0.406539</td>\n",
       "      <td>0.387381</td>\n",
       "      <td>0.033</td>\n",
       "      <td>1.0</td>\n",
       "      <td>83333.455130</td>\n",
       "      <td>276385.362473</td>\n",
       "      <td>-0.13230</td>\n",
       "      <td>1000000.0</td>\n",
       "    </tr>\n",
       "    <tr>\n",
       "      <th>5</th>\n",
       "      <td>2670.196917</td>\n",
       "      <td>1949.05</td>\n",
       "      <td>6.091830e+06</td>\n",
       "      <td>1.782056</td>\n",
       "      <td>1.414759</td>\n",
       "      <td>0.000</td>\n",
       "      <td>12233.0</td>\n",
       "      <td>0.375086</td>\n",
       "      <td>0.395581</td>\n",
       "      <td>0.011</td>\n",
       "      <td>1.0</td>\n",
       "      <td>83333.426332</td>\n",
       "      <td>276385.371156</td>\n",
       "      <td>-0.25169</td>\n",
       "      <td>1000000.0</td>\n",
       "    </tr>\n",
       "    <tr>\n",
       "      <th>6</th>\n",
       "      <td>3990.292643</td>\n",
       "      <td>3480.05</td>\n",
       "      <td>1.087766e+07</td>\n",
       "      <td>1.671772</td>\n",
       "      <td>1.333714</td>\n",
       "      <td>0.000</td>\n",
       "      <td>15833.0</td>\n",
       "      <td>0.376399</td>\n",
       "      <td>0.392857</td>\n",
       "      <td>0.019</td>\n",
       "      <td>1.0</td>\n",
       "      <td>83333.406828</td>\n",
       "      <td>276385.377037</td>\n",
       "      <td>-0.38725</td>\n",
       "      <td>1000000.0</td>\n",
       "    </tr>\n",
       "  </tbody>\n",
       "</table>\n",
       "</div>"
      ],
      "text/plain": [
       "   rhythm_mean  rhythm_median  rhythm_variance  rhythm_kurtosis  \\\n",
       "0  3186.884054        1520.45     1.355423e+08       149.134782   \n",
       "1  2721.480839        2254.05     6.356003e+06         1.394458   \n",
       "2  3063.031202        2144.65     9.463125e+06         1.005046   \n",
       "3  3576.968470        3064.55     9.182377e+06         1.559031   \n",
       "4  2476.953321        1897.95     4.677566e+06         1.502884   \n",
       "5  2670.196917        1949.05     6.091830e+06         1.782056   \n",
       "6  3990.292643        3480.05     1.087766e+07         1.671772   \n",
       "\n",
       "   rhythm_skewness  rhythm_min  rhythm_max  chroma_mean  chroma_std  \\\n",
       "0        12.035399       0.016    150390.0     0.347344    0.396084   \n",
       "1         1.370253       0.000     11090.0     0.371001    0.399262   \n",
       "2         1.351375     -45.887     12707.0     0.337415    0.397231   \n",
       "3         1.354329       0.000     13815.0     0.358995    0.389015   \n",
       "4         1.231454       0.000     10880.0     0.406539    0.387381   \n",
       "5         1.414759       0.000     12233.0     0.375086    0.395581   \n",
       "6         1.333714       0.000     15833.0     0.376399    0.392857   \n",
       "\n",
       "   chroma_min  chroma_max     mfcc_mean       mfcc_std  mfcc_min   mfcc_max  \n",
       "0       0.002         1.0  83333.576956  276385.325742  -0.19229  1000000.0  \n",
       "1       0.002         1.0  83333.445326  276385.365429  -0.23789  1000000.0  \n",
       "2       0.002         1.0  83333.624873  276385.311295  -0.23153  1000000.0  \n",
       "3       0.012         1.0  83333.421559  276385.372595  -0.11490  1000000.0  \n",
       "4       0.033         1.0  83333.455130  276385.362473  -0.13230  1000000.0  \n",
       "5       0.011         1.0  83333.426332  276385.371156  -0.25169  1000000.0  \n",
       "6       0.019         1.0  83333.406828  276385.377037  -0.38725  1000000.0  "
      ]
     },
     "execution_count": 8,
     "metadata": {},
     "output_type": "execute_result"
    }
   ],
   "source": [
    "features.head(7)"
   ]
  },
  {
   "cell_type": "markdown",
   "metadata": {},
   "source": [
    "### drop non-unique columns"
   ]
  },
  {
   "cell_type": "code",
   "execution_count": 9,
   "metadata": {},
   "outputs": [
    {
     "name": "stdout",
     "output_type": "stream",
     "text": [
      "chroma_max 1\n",
      "mfcc_max 1\n"
     ]
    }
   ],
   "source": [
    "for header in features.columns:\n",
    "    n_unique = features[header].nunique()\n",
    "    if  n_unique < 20:\n",
    "        print(header, n_unique)\n",
    "        features.drop([header], axis=1, inplace=True)\n",
    "        \n",
    "# we can drop these"
   ]
  },
  {
   "cell_type": "code",
   "execution_count": 10,
   "metadata": {},
   "outputs": [
    {
     "data": {
      "text/html": [
       "<div>\n",
       "<style scoped>\n",
       "    .dataframe tbody tr th:only-of-type {\n",
       "        vertical-align: middle;\n",
       "    }\n",
       "\n",
       "    .dataframe tbody tr th {\n",
       "        vertical-align: top;\n",
       "    }\n",
       "\n",
       "    .dataframe thead th {\n",
       "        text-align: right;\n",
       "    }\n",
       "</style>\n",
       "<table border=\"1\" class=\"dataframe\">\n",
       "  <thead>\n",
       "    <tr style=\"text-align: right;\">\n",
       "      <th></th>\n",
       "      <th>rhythm_mean</th>\n",
       "      <th>rhythm_median</th>\n",
       "      <th>rhythm_variance</th>\n",
       "      <th>rhythm_kurtosis</th>\n",
       "      <th>rhythm_skewness</th>\n",
       "      <th>rhythm_min</th>\n",
       "      <th>rhythm_max</th>\n",
       "      <th>chroma_mean</th>\n",
       "      <th>chroma_std</th>\n",
       "      <th>chroma_min</th>\n",
       "      <th>mfcc_mean</th>\n",
       "      <th>mfcc_std</th>\n",
       "      <th>mfcc_min</th>\n",
       "    </tr>\n",
       "  </thead>\n",
       "  <tbody>\n",
       "    <tr>\n",
       "      <th>0</th>\n",
       "      <td>3186.884054</td>\n",
       "      <td>1520.45</td>\n",
       "      <td>1.355423e+08</td>\n",
       "      <td>149.134782</td>\n",
       "      <td>12.035399</td>\n",
       "      <td>0.016</td>\n",
       "      <td>150390.0</td>\n",
       "      <td>0.347344</td>\n",
       "      <td>0.396084</td>\n",
       "      <td>0.002</td>\n",
       "      <td>83333.576956</td>\n",
       "      <td>276385.325742</td>\n",
       "      <td>-0.19229</td>\n",
       "    </tr>\n",
       "    <tr>\n",
       "      <th>1</th>\n",
       "      <td>2721.480839</td>\n",
       "      <td>2254.05</td>\n",
       "      <td>6.356003e+06</td>\n",
       "      <td>1.394458</td>\n",
       "      <td>1.370253</td>\n",
       "      <td>0.000</td>\n",
       "      <td>11090.0</td>\n",
       "      <td>0.371001</td>\n",
       "      <td>0.399262</td>\n",
       "      <td>0.002</td>\n",
       "      <td>83333.445326</td>\n",
       "      <td>276385.365429</td>\n",
       "      <td>-0.23789</td>\n",
       "    </tr>\n",
       "    <tr>\n",
       "      <th>2</th>\n",
       "      <td>3063.031202</td>\n",
       "      <td>2144.65</td>\n",
       "      <td>9.463125e+06</td>\n",
       "      <td>1.005046</td>\n",
       "      <td>1.351375</td>\n",
       "      <td>-45.887</td>\n",
       "      <td>12707.0</td>\n",
       "      <td>0.337415</td>\n",
       "      <td>0.397231</td>\n",
       "      <td>0.002</td>\n",
       "      <td>83333.624873</td>\n",
       "      <td>276385.311295</td>\n",
       "      <td>-0.23153</td>\n",
       "    </tr>\n",
       "    <tr>\n",
       "      <th>3</th>\n",
       "      <td>3576.968470</td>\n",
       "      <td>3064.55</td>\n",
       "      <td>9.182377e+06</td>\n",
       "      <td>1.559031</td>\n",
       "      <td>1.354329</td>\n",
       "      <td>0.000</td>\n",
       "      <td>13815.0</td>\n",
       "      <td>0.358995</td>\n",
       "      <td>0.389015</td>\n",
       "      <td>0.012</td>\n",
       "      <td>83333.421559</td>\n",
       "      <td>276385.372595</td>\n",
       "      <td>-0.11490</td>\n",
       "    </tr>\n",
       "    <tr>\n",
       "      <th>4</th>\n",
       "      <td>2476.953321</td>\n",
       "      <td>1897.95</td>\n",
       "      <td>4.677566e+06</td>\n",
       "      <td>1.502884</td>\n",
       "      <td>1.231454</td>\n",
       "      <td>0.000</td>\n",
       "      <td>10880.0</td>\n",
       "      <td>0.406539</td>\n",
       "      <td>0.387381</td>\n",
       "      <td>0.033</td>\n",
       "      <td>83333.455130</td>\n",
       "      <td>276385.362473</td>\n",
       "      <td>-0.13230</td>\n",
       "    </tr>\n",
       "    <tr>\n",
       "      <th>5</th>\n",
       "      <td>2670.196917</td>\n",
       "      <td>1949.05</td>\n",
       "      <td>6.091830e+06</td>\n",
       "      <td>1.782056</td>\n",
       "      <td>1.414759</td>\n",
       "      <td>0.000</td>\n",
       "      <td>12233.0</td>\n",
       "      <td>0.375086</td>\n",
       "      <td>0.395581</td>\n",
       "      <td>0.011</td>\n",
       "      <td>83333.426332</td>\n",
       "      <td>276385.371156</td>\n",
       "      <td>-0.25169</td>\n",
       "    </tr>\n",
       "    <tr>\n",
       "      <th>6</th>\n",
       "      <td>3990.292643</td>\n",
       "      <td>3480.05</td>\n",
       "      <td>1.087766e+07</td>\n",
       "      <td>1.671772</td>\n",
       "      <td>1.333714</td>\n",
       "      <td>0.000</td>\n",
       "      <td>15833.0</td>\n",
       "      <td>0.376399</td>\n",
       "      <td>0.392857</td>\n",
       "      <td>0.019</td>\n",
       "      <td>83333.406828</td>\n",
       "      <td>276385.377037</td>\n",
       "      <td>-0.38725</td>\n",
       "    </tr>\n",
       "  </tbody>\n",
       "</table>\n",
       "</div>"
      ],
      "text/plain": [
       "   rhythm_mean  rhythm_median  rhythm_variance  rhythm_kurtosis  \\\n",
       "0  3186.884054        1520.45     1.355423e+08       149.134782   \n",
       "1  2721.480839        2254.05     6.356003e+06         1.394458   \n",
       "2  3063.031202        2144.65     9.463125e+06         1.005046   \n",
       "3  3576.968470        3064.55     9.182377e+06         1.559031   \n",
       "4  2476.953321        1897.95     4.677566e+06         1.502884   \n",
       "5  2670.196917        1949.05     6.091830e+06         1.782056   \n",
       "6  3990.292643        3480.05     1.087766e+07         1.671772   \n",
       "\n",
       "   rhythm_skewness  rhythm_min  rhythm_max  chroma_mean  chroma_std  \\\n",
       "0        12.035399       0.016    150390.0     0.347344    0.396084   \n",
       "1         1.370253       0.000     11090.0     0.371001    0.399262   \n",
       "2         1.351375     -45.887     12707.0     0.337415    0.397231   \n",
       "3         1.354329       0.000     13815.0     0.358995    0.389015   \n",
       "4         1.231454       0.000     10880.0     0.406539    0.387381   \n",
       "5         1.414759       0.000     12233.0     0.375086    0.395581   \n",
       "6         1.333714       0.000     15833.0     0.376399    0.392857   \n",
       "\n",
       "   chroma_min     mfcc_mean       mfcc_std  mfcc_min  \n",
       "0       0.002  83333.576956  276385.325742  -0.19229  \n",
       "1       0.002  83333.445326  276385.365429  -0.23789  \n",
       "2       0.002  83333.624873  276385.311295  -0.23153  \n",
       "3       0.012  83333.421559  276385.372595  -0.11490  \n",
       "4       0.033  83333.455130  276385.362473  -0.13230  \n",
       "5       0.011  83333.426332  276385.371156  -0.25169  \n",
       "6       0.019  83333.406828  276385.377037  -0.38725  "
      ]
     },
     "execution_count": 10,
     "metadata": {},
     "output_type": "execute_result"
    }
   ],
   "source": [
    "features.head(7)"
   ]
  },
  {
   "cell_type": "code",
   "execution_count": 11,
   "metadata": {},
   "outputs": [
    {
     "data": {
      "text/html": [
       "<div>\n",
       "<style scoped>\n",
       "    .dataframe tbody tr th:only-of-type {\n",
       "        vertical-align: middle;\n",
       "    }\n",
       "\n",
       "    .dataframe tbody tr th {\n",
       "        vertical-align: top;\n",
       "    }\n",
       "\n",
       "    .dataframe thead th {\n",
       "        text-align: right;\n",
       "    }\n",
       "</style>\n",
       "<table border=\"1\" class=\"dataframe\">\n",
       "  <thead>\n",
       "    <tr style=\"text-align: right;\">\n",
       "      <th></th>\n",
       "      <th>rhythm_mean</th>\n",
       "      <th>rhythm_median</th>\n",
       "      <th>rhythm_variance</th>\n",
       "      <th>rhythm_kurtosis</th>\n",
       "      <th>rhythm_skewness</th>\n",
       "      <th>rhythm_min</th>\n",
       "      <th>rhythm_max</th>\n",
       "      <th>chroma_mean</th>\n",
       "      <th>chroma_std</th>\n",
       "      <th>chroma_min</th>\n",
       "      <th>mfcc_mean</th>\n",
       "      <th>mfcc_std</th>\n",
       "      <th>mfcc_min</th>\n",
       "      <th>labels</th>\n",
       "    </tr>\n",
       "  </thead>\n",
       "  <tbody>\n",
       "    <tr>\n",
       "      <th>0</th>\n",
       "      <td>3186.884054</td>\n",
       "      <td>1520.45</td>\n",
       "      <td>1.355423e+08</td>\n",
       "      <td>149.134782</td>\n",
       "      <td>12.035399</td>\n",
       "      <td>0.016</td>\n",
       "      <td>150390.0</td>\n",
       "      <td>0.347344</td>\n",
       "      <td>0.396084</td>\n",
       "      <td>0.002</td>\n",
       "      <td>83333.576956</td>\n",
       "      <td>276385.325742</td>\n",
       "      <td>-0.19229</td>\n",
       "      <td>1</td>\n",
       "    </tr>\n",
       "    <tr>\n",
       "      <th>1</th>\n",
       "      <td>2721.480839</td>\n",
       "      <td>2254.05</td>\n",
       "      <td>6.356003e+06</td>\n",
       "      <td>1.394458</td>\n",
       "      <td>1.370253</td>\n",
       "      <td>0.000</td>\n",
       "      <td>11090.0</td>\n",
       "      <td>0.371001</td>\n",
       "      <td>0.399262</td>\n",
       "      <td>0.002</td>\n",
       "      <td>83333.445326</td>\n",
       "      <td>276385.365429</td>\n",
       "      <td>-0.23789</td>\n",
       "      <td>1</td>\n",
       "    </tr>\n",
       "    <tr>\n",
       "      <th>2</th>\n",
       "      <td>3063.031202</td>\n",
       "      <td>2144.65</td>\n",
       "      <td>9.463125e+06</td>\n",
       "      <td>1.005046</td>\n",
       "      <td>1.351375</td>\n",
       "      <td>-45.887</td>\n",
       "      <td>12707.0</td>\n",
       "      <td>0.337415</td>\n",
       "      <td>0.397231</td>\n",
       "      <td>0.002</td>\n",
       "      <td>83333.624873</td>\n",
       "      <td>276385.311295</td>\n",
       "      <td>-0.23153</td>\n",
       "      <td>1</td>\n",
       "    </tr>\n",
       "    <tr>\n",
       "      <th>3</th>\n",
       "      <td>3576.968470</td>\n",
       "      <td>3064.55</td>\n",
       "      <td>9.182377e+06</td>\n",
       "      <td>1.559031</td>\n",
       "      <td>1.354329</td>\n",
       "      <td>0.000</td>\n",
       "      <td>13815.0</td>\n",
       "      <td>0.358995</td>\n",
       "      <td>0.389015</td>\n",
       "      <td>0.012</td>\n",
       "      <td>83333.421559</td>\n",
       "      <td>276385.372595</td>\n",
       "      <td>-0.11490</td>\n",
       "      <td>1</td>\n",
       "    </tr>\n",
       "    <tr>\n",
       "      <th>4</th>\n",
       "      <td>2476.953321</td>\n",
       "      <td>1897.95</td>\n",
       "      <td>4.677566e+06</td>\n",
       "      <td>1.502884</td>\n",
       "      <td>1.231454</td>\n",
       "      <td>0.000</td>\n",
       "      <td>10880.0</td>\n",
       "      <td>0.406539</td>\n",
       "      <td>0.387381</td>\n",
       "      <td>0.033</td>\n",
       "      <td>83333.455130</td>\n",
       "      <td>276385.362473</td>\n",
       "      <td>-0.13230</td>\n",
       "      <td>1</td>\n",
       "    </tr>\n",
       "  </tbody>\n",
       "</table>\n",
       "</div>"
      ],
      "text/plain": [
       "   rhythm_mean  rhythm_median  rhythm_variance  rhythm_kurtosis  \\\n",
       "0  3186.884054        1520.45     1.355423e+08       149.134782   \n",
       "1  2721.480839        2254.05     6.356003e+06         1.394458   \n",
       "2  3063.031202        2144.65     9.463125e+06         1.005046   \n",
       "3  3576.968470        3064.55     9.182377e+06         1.559031   \n",
       "4  2476.953321        1897.95     4.677566e+06         1.502884   \n",
       "\n",
       "   rhythm_skewness  rhythm_min  rhythm_max  chroma_mean  chroma_std  \\\n",
       "0        12.035399       0.016    150390.0     0.347344    0.396084   \n",
       "1         1.370253       0.000     11090.0     0.371001    0.399262   \n",
       "2         1.351375     -45.887     12707.0     0.337415    0.397231   \n",
       "3         1.354329       0.000     13815.0     0.358995    0.389015   \n",
       "4         1.231454       0.000     10880.0     0.406539    0.387381   \n",
       "\n",
       "   chroma_min     mfcc_mean       mfcc_std  mfcc_min  labels  \n",
       "0       0.002  83333.576956  276385.325742  -0.19229       1  \n",
       "1       0.002  83333.445326  276385.365429  -0.23789       1  \n",
       "2       0.002  83333.624873  276385.311295  -0.23153       1  \n",
       "3       0.012  83333.421559  276385.372595  -0.11490       1  \n",
       "4       0.033  83333.455130  276385.362473  -0.13230       1  "
      ]
     },
     "execution_count": 11,
     "metadata": {},
     "output_type": "execute_result"
    }
   ],
   "source": [
    "explore = features.copy()\n",
    "explore[\"labels\"] = train_labels[0]\n",
    "explore.head()"
   ]
  },
  {
   "cell_type": "code",
   "execution_count": 12,
   "metadata": {},
   "outputs": [],
   "source": [
    "import seaborn as sns"
   ]
  },
  {
   "cell_type": "code",
   "execution_count": 13,
   "metadata": {},
   "outputs": [
    {
     "data": {
      "text/plain": [
       "<matplotlib.axes._subplots.AxesSubplot at 0x7fcb607a96a0>"
      ]
     },
     "execution_count": 13,
     "metadata": {},
     "output_type": "execute_result"
    },
    {
     "data": {
      "image/png": "[encoded data removed]",
      "text/plain": [
       "<Figure size 432x288 with 1 Axes>"
      ]
     },
     "metadata": {},
     "output_type": "display_data"
    }
   ],
   "source": [
    "sns.countplot(x='labels',data=explore)"
   ]
  },
  {
   "cell_type": "code",
   "execution_count": 14,
   "metadata": {},
   "outputs": [
    {
     "data": {
      "image/png": "[encoded data removed]",
      "text/plain": [
       "<Figure size 1152x360 with 10 Axes>"
      ]
     },
     "metadata": {},
     "output_type": "display_data"
    },
    {
     "data": {
      "image/png": "[encoded data removed]",
      "text/plain": [
       "<Figure size 1152x360 with 10 Axes>"
      ]
     },
     "metadata": {},
     "output_type": "display_data"
    },
    {
     "data": {
      "image/png": "[encoded data removed]",
      "text/plain": [
       "<Figure size 1152x360 with 10 Axes>"
      ]
     },
     "metadata": {},
     "output_type": "display_data"
    },
    {
     "data": {
      "image/png": "[encoded data removed]",
      "text/plain": [
       "<Figure size 1152x360 with 10 Axes>"
      ]
     },
     "metadata": {},
     "output_type": "display_data"
    },
    {
     "data": {
      "image/png": "[encoded data removed]",
      "text/plain": [
       "<Figure size 1152x360 with 10 Axes>"
      ]
     },
     "metadata": {},
     "output_type": "display_data"
    },
    {
     "data": {
      "image/png": "[encoded data removed]",
      "text/plain": [
       "<Figure size 1152x360 with 10 Axes>"
      ]
     },
     "metadata": {},
     "output_type": "display_data"
    },
    {
     "data": {
      "image/png": "[encoded data removed]",
      "text/plain": [
       "<Figure size 1152x360 with 10 Axes>"
      ]
     },
     "metadata": {},
     "output_type": "display_data"
    },
    {
     "data": {
      "image/png": "[encoded data removed]",
      "text/plain": [
       "<Figure size 1152x360 with 10 Axes>"
      ]
     },
     "metadata": {},
     "output_type": "display_data"
    },
    {
     "data": {
      "image/png": "[encoded data removed]",
      "text/plain": [
       "<Figure size 1152x360 with 10 Axes>"
      ]
     },
     "metadata": {},
     "output_type": "display_data"
    },
    {
     "data": {
      "image/png": "[encoded data removed]",
      "text/plain": [
       "<Figure size 1152x360 with 10 Axes>"
      ]
     },
     "metadata": {},
     "output_type": "display_data"
    },
    {
     "data": {
      "image/png": "[encoded data removed]",
      "text/plain": [
       "<Figure size 1152x360 with 10 Axes>"
      ]
     },
     "metadata": {},
     "output_type": "display_data"
    },
    {
     "data": {
      "image/png": "[encoded data removed]",
      "text/plain": [
       "<Figure size 1152x360 with 10 Axes>"
      ]
     },
     "metadata": {},
     "output_type": "display_data"
    },
    {
     "data": {
      "image/png": "[encoded data removed]",
      "text/plain": [
       "<Figure size 1152x360 with 10 Axes>"
      ]
     },
     "metadata": {},
     "output_type": "display_data"
    }
   ],
   "source": [
    "genre = ['Pop_Rock','Electronic','Rap','Jazz','Latin','RnB','International','Country','Reggae','Blues']\n",
    "\n",
    "for feature in explore.columns:\n",
    "    if feature == 'labels':\n",
    "        continue\n",
    "\n",
    "    fig, axes = plt.subplots(nrows=2, ncols=5, figsize=(16,5), sharex=True, sharey=True)\n",
    "\n",
    "    plt.suptitle(feature, fontsize=16)\n",
    "    for i in range(10):\n",
    "        plot = axes[int(i/5)][i%5]\n",
    "        plot.hist(explore[explore['labels']==i+1][feature], bins=30)\n",
    "        plot.set_title(genre[i])\n",
    "\n",
    "    plt.show()"
   ]
  },
  {
   "cell_type": "markdown",
   "metadata": {},
   "source": [
    "\n",
    "|label|1|2|3|4|5|6|7|8|9|10|\n",
    "|-|-|\n",
    "|genre|'Pop_Rock'|'Electronic'|'Rap'|'Jazz'|'Latin'|'RnB'|'International'|'Country'|'Reggae'|'Blues'|"
   ]
  },
  {
   "cell_type": "code",
   "execution_count": 15,
   "metadata": {},
   "outputs": [
    {
     "data": {
      "text/html": [
       "<div>\n",
       "<style scoped>\n",
       "    .dataframe tbody tr th:only-of-type {\n",
       "        vertical-align: middle;\n",
       "    }\n",
       "\n",
       "    .dataframe tbody tr th {\n",
       "        vertical-align: top;\n",
       "    }\n",
       "\n",
       "    .dataframe thead th {\n",
       "        text-align: right;\n",
       "    }\n",
       "</style>\n",
       "<table border=\"1\" class=\"dataframe\">\n",
       "  <thead>\n",
       "    <tr style=\"text-align: right;\">\n",
       "      <th></th>\n",
       "      <th>0</th>\n",
       "      <th>1</th>\n",
       "      <th>2</th>\n",
       "      <th>3</th>\n",
       "      <th>4</th>\n",
       "      <th>5</th>\n",
       "      <th>6</th>\n",
       "      <th>7</th>\n",
       "      <th>8</th>\n",
       "      <th>9</th>\n",
       "      <th>10</th>\n",
       "      <th>11</th>\n",
       "      <th>12</th>\n",
       "    </tr>\n",
       "  </thead>\n",
       "  <tbody>\n",
       "    <tr>\n",
       "      <th>0</th>\n",
       "      <td>-0.052428</td>\n",
       "      <td>-1.074996</td>\n",
       "      <td>1.562325</td>\n",
       "      <td>5.008887</td>\n",
       "      <td>4.629586</td>\n",
       "      <td>0.301845</td>\n",
       "      <td>3.681648</td>\n",
       "      <td>-0.670846</td>\n",
       "      <td>0.146959</td>\n",
       "      <td>-0.549161</td>\n",
       "      <td>0.257063</td>\n",
       "      <td>-0.257073</td>\n",
       "      <td>0.340391</td>\n",
       "    </tr>\n",
       "    <tr>\n",
       "      <th>1</th>\n",
       "      <td>-0.699543</td>\n",
       "      <td>-0.102663</td>\n",
       "      <td>-0.185238</td>\n",
       "      <td>-0.312025</td>\n",
       "      <td>-0.358710</td>\n",
       "      <td>0.301724</td>\n",
       "      <td>-0.346156</td>\n",
       "      <td>0.507465</td>\n",
       "      <td>0.781391</td>\n",
       "      <td>-0.549161</td>\n",
       "      <td>-1.021037</td>\n",
       "      <td>1.021045</td>\n",
       "      <td>-0.351700</td>\n",
       "    </tr>\n",
       "    <tr>\n",
       "      <th>2</th>\n",
       "      <td>-0.224638</td>\n",
       "      <td>-0.247665</td>\n",
       "      <td>-0.143207</td>\n",
       "      <td>-0.326050</td>\n",
       "      <td>-0.367539</td>\n",
       "      <td>-0.046628</td>\n",
       "      <td>-0.299401</td>\n",
       "      <td>-1.165373</td>\n",
       "      <td>0.375861</td>\n",
       "      <td>-0.549161</td>\n",
       "      <td>0.722337</td>\n",
       "      <td>-0.722350</td>\n",
       "      <td>-0.255172</td>\n",
       "    </tr>\n",
       "    <tr>\n",
       "      <th>3</th>\n",
       "      <td>0.489961</td>\n",
       "      <td>0.971595</td>\n",
       "      <td>-0.147005</td>\n",
       "      <td>-0.306098</td>\n",
       "      <td>-0.366158</td>\n",
       "      <td>0.301724</td>\n",
       "      <td>-0.267364</td>\n",
       "      <td>-0.090516</td>\n",
       "      <td>-1.264223</td>\n",
       "      <td>1.055773</td>\n",
       "      <td>-1.251812</td>\n",
       "      <td>1.251824</td>\n",
       "      <td>1.514972</td>\n",
       "    </tr>\n",
       "    <tr>\n",
       "      <th>4</th>\n",
       "      <td>-1.039543</td>\n",
       "      <td>-0.574648</td>\n",
       "      <td>-0.207943</td>\n",
       "      <td>-0.308120</td>\n",
       "      <td>-0.423629</td>\n",
       "      <td>0.301724</td>\n",
       "      <td>-0.352228</td>\n",
       "      <td>2.277548</td>\n",
       "      <td>-1.590448</td>\n",
       "      <td>4.426134</td>\n",
       "      <td>-0.925839</td>\n",
       "      <td>0.925846</td>\n",
       "      <td>1.250884</td>\n",
       "    </tr>\n",
       "  </tbody>\n",
       "</table>\n",
       "</div>"
      ],
      "text/plain": [
       "         0         1         2         3         4         5         6   \\\n",
       "0 -0.052428 -1.074996  1.562325  5.008887  4.629586  0.301845  3.681648   \n",
       "1 -0.699543 -0.102663 -0.185238 -0.312025 -0.358710  0.301724 -0.346156   \n",
       "2 -0.224638 -0.247665 -0.143207 -0.326050 -0.367539 -0.046628 -0.299401   \n",
       "3  0.489961  0.971595 -0.147005 -0.306098 -0.366158  0.301724 -0.267364   \n",
       "4 -1.039543 -0.574648 -0.207943 -0.308120 -0.423629  0.301724 -0.352228   \n",
       "\n",
       "         7         8         9         10        11        12  \n",
       "0 -0.670846  0.146959 -0.549161  0.257063 -0.257073  0.340391  \n",
       "1  0.507465  0.781391 -0.549161 -1.021037  1.021045 -0.351700  \n",
       "2 -1.165373  0.375861 -0.549161  0.722337 -0.722350 -0.255172  \n",
       "3 -0.090516 -1.264223  1.055773 -1.251812  1.251824  1.514972  \n",
       "4  2.277548 -1.590448  4.426134 -0.925839  0.925846  1.250884  "
      ]
     },
     "execution_count": 15,
     "metadata": {},
     "output_type": "execute_result"
    }
   ],
   "source": [
    "norm_features = preprocessing.scale(features)\n",
    "pd.DataFrame(norm_features).head()"
   ]
  },
  {
   "cell_type": "code",
   "execution_count": 16,
   "metadata": {},
   "outputs": [],
   "source": [
    "X_train, X_test, y_train, y_test = train_test_split(norm_features, train_labels[0], test_size=0.33)"
   ]
  },
  {
   "cell_type": "code",
   "execution_count": 17,
   "metadata": {},
   "outputs": [],
   "source": [
    "from sklearn.linear_model import LogisticRegressionCV"
   ]
  },
  {
   "cell_type": "code",
   "execution_count": 18,
   "metadata": {},
   "outputs": [
    {
     "data": {
      "text/plain": [
       "LogisticRegressionCV(Cs=10, class_weight=None, cv=5, dual=False,\n",
       "           fit_intercept=True, intercept_scaling=1.0, max_iter=1000000,\n",
       "           multi_class='ovr', n_jobs=1, penalty='l2', random_state=None,\n",
       "           refit=True, scoring=None, solver='lbfgs', tol=0.0001, verbose=0)"
      ]
     },
     "execution_count": 18,
     "metadata": {},
     "output_type": "execute_result"
    }
   ],
   "source": [
    "initialModel = LogisticRegressionCV(solver='lbfgs', max_iter=10**6, cv=5)\n",
    "initialModel.fit(X_train,y_train)"
   ]
  },
  {
   "cell_type": "code",
   "execution_count": 19,
   "metadata": {},
   "outputs": [
    {
     "data": {
      "text/plain": [
       "(1440,)"
      ]
     },
     "execution_count": 19,
     "metadata": {},
     "output_type": "execute_result"
    }
   ],
   "source": [
    "predictions = initialModel.predict(X_test)\n",
    "predictions.shape"
   ]
  },
  {
   "cell_type": "code",
   "execution_count": 20,
   "metadata": {},
   "outputs": [
    {
     "data": {
      "text/plain": [
       "array([1, 2])"
      ]
     },
     "execution_count": 20,
     "metadata": {},
     "output_type": "execute_result"
    }
   ],
   "source": [
    "np.unique(predictions)"
   ]
  },
  {
   "cell_type": "markdown",
   "metadata": {},
   "source": [
    "### Calculate accuracy by comparing $y_{pred}$ with $y_{true}$"
   ]
  },
  {
   "cell_type": "code",
   "execution_count": 21,
   "metadata": {},
   "outputs": [
    {
     "data": {
      "text/plain": [
       "0.5305555555555556"
      ]
     },
     "execution_count": 21,
     "metadata": {},
     "output_type": "execute_result"
    }
   ],
   "source": [
    "from sklearn.metrics import accuracy_score\n",
    "\n",
    "accuracy_score(y_test, predictions)"
   ]
  },
  {
   "cell_type": "markdown",
   "metadata": {},
   "source": [
    "# Using SVM"
   ]
  },
  {
   "cell_type": "code",
   "execution_count": 22,
   "metadata": {},
   "outputs": [],
   "source": [
    "from sklearn.svm import SVC"
   ]
  },
  {
   "cell_type": "code",
   "execution_count": 23,
   "metadata": {},
   "outputs": [
    {
     "data": {
      "text/plain": [
       "SVC(C=1.0, cache_size=200, class_weight=None, coef0=0.0,\n",
       "  decision_function_shape='ovr', degree=3, gamma='auto', kernel='rbf',\n",
       "  max_iter=-1, probability=False, random_state=None, shrinking=True,\n",
       "  tol=0.001, verbose=False)"
      ]
     },
     "execution_count": 23,
     "metadata": {},
     "output_type": "execute_result"
    }
   ],
   "source": [
    "svc_model = SVC()\n",
    "svc_model.fit(X_train,y_train)"
   ]
  },
  {
   "cell_type": "code",
   "execution_count": 24,
   "metadata": {},
   "outputs": [
    {
     "data": {
      "text/plain": [
       "0.5472222222222223"
      ]
     },
     "execution_count": 24,
     "metadata": {},
     "output_type": "execute_result"
    }
   ],
   "source": [
    "predictions = svc_model.predict(X_test)\n",
    "accuracy_score(y_true=y_test, y_pred=predictions)"
   ]
  },
  {
   "cell_type": "code",
   "execution_count": 25,
   "metadata": {},
   "outputs": [],
   "source": [
    "from sklearn.model_selection import GridSearchCV"
   ]
  },
  {
   "cell_type": "code",
   "execution_count": 26,
   "metadata": {},
   "outputs": [],
   "source": [
    "param_grid = {'C': [0.1,1, 10, 100], 'gamma': [1,0.1,0.01,0.001]} "
   ]
  },
  {
   "cell_type": "code",
   "execution_count": 27,
   "metadata": {},
   "outputs": [
    {
     "name": "stdout",
     "output_type": "stream",
     "text": [
      "Fitting 3 folds for each of 16 candidates, totalling 48 fits\n",
      "[CV] C=0.1, gamma=1 ..................................................\n",
      "[CV] ................................... C=0.1, gamma=1, total=   0.5s\n",
      "[CV] C=0.1, gamma=1 ..................................................\n"
     ]
    },
    {
     "name": "stderr",
     "output_type": "stream",
     "text": [
      "[Parallel(n_jobs=1)]: Done   1 out of   1 | elapsed:    0.7s remaining:    0.0s\n"
     ]
    },
    {
     "name": "stdout",
     "output_type": "stream",
     "text": [
      "[CV] ................................... C=0.1, gamma=1, total=   0.5s\n",
      "[CV] C=0.1, gamma=1 ..................................................\n",
      "[CV] ................................... C=0.1, gamma=1, total=   0.5s\n",
      "[CV] C=0.1, gamma=0.1 ................................................\n",
      "[CV] ................................. C=0.1, gamma=0.1, total=   0.3s\n",
      "[CV] C=0.1, gamma=0.1 ................................................\n",
      "[CV] ................................. C=0.1, gamma=0.1, total=   0.3s\n",
      "[CV] C=0.1, gamma=0.1 ................................................\n",
      "[CV] ................................. C=0.1, gamma=0.1, total=   0.3s\n",
      "[CV] C=0.1, gamma=0.01 ...............................................\n",
      "[CV] ................................ C=0.1, gamma=0.01, total=   0.3s\n",
      "[CV] C=0.1, gamma=0.01 ...............................................\n",
      "[CV] ................................ C=0.1, gamma=0.01, total=   0.3s\n",
      "[CV] C=0.1, gamma=0.01 ...............................................\n",
      "[CV] ................................ C=0.1, gamma=0.01, total=   0.3s\n",
      "[CV] C=0.1, gamma=0.001 ..............................................\n",
      "[CV] ............................... C=0.1, gamma=0.001, total=   0.2s\n",
      "[CV] C=0.1, gamma=0.001 ..............................................\n",
      "[CV] ............................... C=0.1, gamma=0.001, total=   0.2s\n",
      "[CV] C=0.1, gamma=0.001 ..............................................\n",
      "[CV] ............................... C=0.1, gamma=0.001, total=   0.2s\n",
      "[CV] C=1, gamma=1 ....................................................\n",
      "[CV] ..................................... C=1, gamma=1, total=   0.6s\n",
      "[CV] C=1, gamma=1 ....................................................\n",
      "[CV] ..................................... C=1, gamma=1, total=   0.7s\n",
      "[CV] C=1, gamma=1 ....................................................\n",
      "[CV] ..................................... C=1, gamma=1, total=   0.6s\n",
      "[CV] C=1, gamma=0.1 ..................................................\n",
      "[CV] ................................... C=1, gamma=0.1, total=   0.3s\n",
      "[CV] C=1, gamma=0.1 ..................................................\n",
      "[CV] ................................... C=1, gamma=0.1, total=   0.3s\n",
      "[CV] C=1, gamma=0.1 ..................................................\n",
      "[CV] ................................... C=1, gamma=0.1, total=   0.3s\n",
      "[CV] C=1, gamma=0.01 .................................................\n",
      "[CV] .................................. C=1, gamma=0.01, total=   0.3s\n",
      "[CV] C=1, gamma=0.01 .................................................\n",
      "[CV] .................................. C=1, gamma=0.01, total=   0.3s\n",
      "[CV] C=1, gamma=0.01 .................................................\n",
      "[CV] .................................. C=1, gamma=0.01, total=   0.3s\n",
      "[CV] C=1, gamma=0.001 ................................................\n",
      "[CV] ................................. C=1, gamma=0.001, total=   0.3s\n",
      "[CV] C=1, gamma=0.001 ................................................\n",
      "[CV] ................................. C=1, gamma=0.001, total=   0.3s\n",
      "[CV] C=1, gamma=0.001 ................................................\n",
      "[CV] ................................. C=1, gamma=0.001, total=   0.3s\n",
      "[CV] C=10, gamma=1 ...................................................\n",
      "[CV] .................................... C=10, gamma=1, total=   0.7s\n",
      "[CV] C=10, gamma=1 ...................................................\n",
      "[CV] .................................... C=10, gamma=1, total=   0.7s\n",
      "[CV] C=10, gamma=1 ...................................................\n",
      "[CV] .................................... C=10, gamma=1, total=   0.6s\n",
      "[CV] C=10, gamma=0.1 .................................................\n",
      "[CV] .................................. C=10, gamma=0.1, total=   0.4s\n",
      "[CV] C=10, gamma=0.1 .................................................\n",
      "[CV] .................................. C=10, gamma=0.1, total=   0.4s\n",
      "[CV] C=10, gamma=0.1 .................................................\n",
      "[CV] .................................. C=10, gamma=0.1, total=   0.4s\n",
      "[CV] C=10, gamma=0.01 ................................................\n",
      "[CV] ................................. C=10, gamma=0.01, total=   0.4s\n",
      "[CV] C=10, gamma=0.01 ................................................\n",
      "[CV] ................................. C=10, gamma=0.01, total=   0.4s\n",
      "[CV] C=10, gamma=0.01 ................................................\n",
      "[CV] ................................. C=10, gamma=0.01, total=   0.4s\n",
      "[CV] C=10, gamma=0.001 ...............................................\n",
      "[CV] ................................ C=10, gamma=0.001, total=   0.4s\n",
      "[CV] C=10, gamma=0.001 ...............................................\n",
      "[CV] ................................ C=10, gamma=0.001, total=   0.4s\n",
      "[CV] C=10, gamma=0.001 ...............................................\n",
      "[CV] ................................ C=10, gamma=0.001, total=   0.4s\n",
      "[CV] C=100, gamma=1 ..................................................\n",
      "[CV] ................................... C=100, gamma=1, total=   0.6s\n",
      "[CV] C=100, gamma=1 ..................................................\n",
      "[CV] ................................... C=100, gamma=1, total=   0.7s\n",
      "[CV] C=100, gamma=1 ..................................................\n",
      "[CV] ................................... C=100, gamma=1, total=   0.6s\n",
      "[CV] C=100, gamma=0.1 ................................................\n",
      "[CV] ................................. C=100, gamma=0.1, total=   0.6s\n",
      "[CV] C=100, gamma=0.1 ................................................\n",
      "[CV] ................................. C=100, gamma=0.1, total=   0.6s\n",
      "[CV] C=100, gamma=0.1 ................................................\n",
      "[CV] ................................. C=100, gamma=0.1, total=   0.6s\n",
      "[CV] C=100, gamma=0.01 ...............................................\n",
      "[CV] ................................ C=100, gamma=0.01, total=   0.6s\n",
      "[CV] C=100, gamma=0.01 ...............................................\n",
      "[CV] ................................ C=100, gamma=0.01, total=   0.6s\n",
      "[CV] C=100, gamma=0.01 ...............................................\n",
      "[CV] ................................ C=100, gamma=0.01, total=   0.6s\n",
      "[CV] C=100, gamma=0.001 ..............................................\n",
      "[CV] ............................... C=100, gamma=0.001, total=   0.5s\n",
      "[CV] C=100, gamma=0.001 ..............................................\n",
      "[CV] ............................... C=100, gamma=0.001, total=   0.6s\n",
      "[CV] C=100, gamma=0.001 ..............................................\n",
      "[CV] ............................... C=100, gamma=0.001, total=   0.6s\n"
     ]
    },
    {
     "name": "stderr",
     "output_type": "stream",
     "text": [
      "[Parallel(n_jobs=1)]: Done  48 out of  48 | elapsed:   29.1s finished\n"
     ]
    },
    {
     "data": {
      "text/plain": [
       "GridSearchCV(cv=None, error_score='raise',\n",
       "       estimator=SVC(C=1.0, cache_size=200, class_weight=None, coef0=0.0,\n",
       "  decision_function_shape='ovr', degree=3, gamma='auto', kernel='rbf',\n",
       "  max_iter=-1, probability=False, random_state=None, shrinking=True,\n",
       "  tol=0.001, verbose=False),\n",
       "       fit_params=None, iid=True, n_jobs=1,\n",
       "       param_grid={'C': [0.1, 1, 10, 100], 'gamma': [1, 0.1, 0.01, 0.001]},\n",
       "       pre_dispatch='2*n_jobs', refit=True, return_train_score='warn',\n",
       "       scoring=None, verbose=2)"
      ]
     },
     "execution_count": 27,
     "metadata": {},
     "output_type": "execute_result"
    }
   ],
   "source": [
    "grid = GridSearchCV(SVC(),param_grid,refit=True,verbose=2)\n",
    "grid.fit(X_train,y_train)"
   ]
  },
  {
   "cell_type": "code",
   "execution_count": 28,
   "metadata": {},
   "outputs": [
    {
     "data": {
      "text/plain": [
       "0.5416666666666666"
      ]
     },
     "execution_count": 28,
     "metadata": {},
     "output_type": "execute_result"
    }
   ],
   "source": [
    "grid_predictions = grid.predict(X_test)\n",
    "accuracy_score(y_true=y_test, y_pred=grid_predictions)"
   ]
  },
  {
   "cell_type": "markdown",
   "metadata": {},
   "source": [
    "# test data set\n",
    "\n",
    "### build model using all train data"
   ]
  },
  {
   "cell_type": "code",
   "execution_count": null,
   "metadata": {},
   "outputs": [],
   "source": [
    "# build model using all data\n",
    "\n",
    "mainModel = LogisticRegressionCV(solver='lbfgs', max_iter=10**6, cv=5)\n",
    "mainModel.fit(norm_features,train_labels[0])"
   ]
  },
  {
   "cell_type": "markdown",
   "metadata": {},
   "source": [
    "### submission data"
   ]
  },
  {
   "cell_type": "code",
   "execution_count": null,
   "metadata": {},
   "outputs": [],
   "source": [
    "test_data = pd.read_csv(\"./data/test_data.csv\", header=None)\n",
    "\n",
    "# extract feature\n",
    "rhythm_feature_set = test_data.iloc[:,0:168]\n",
    "chroma_feature_set = test_data.iloc[:,168:216]\n",
    "mfcc_feature_set = test_data.iloc[:,216:]\n",
    "\n",
    "features = pd.DataFrame()\n",
    "features[\"rhythm_mean\"] = rhythm_feature_set.apply(np.mean, axis=1)\n",
    "features[\"rhythm_median\"] = rhythm_feature_set.apply(np.median, axis=1)\n",
    "features[\"rhythm_variance\"] = rhythm_feature_set.apply(np.var, axis=1)\n",
    "\n",
    "features[\"rhythm_kurtosis\"] = rhythm_feature_set.apply(stats.kurtosis, axis=1)\n",
    "features[\"rhythm_skewness\"] = rhythm_feature_set.apply(stats.skew, axis=1)\n",
    "\n",
    "features[\"rhythm_min\"] = rhythm_feature_set.apply(np.min, axis=1)\n",
    "features[\"rhythm_max\"] = rhythm_feature_set.apply(np.max, axis=1)\n",
    "\n",
    "features[\"chroma_mean\"] = chroma_feature_set.apply(np.mean, axis=1)\n",
    "features[\"chroma_std\"] = chroma_feature_set.apply(np.std, axis=1)\n",
    "features[\"chroma_min\"] = chroma_feature_set.apply(np.min, axis=1)\n",
    "features[\"chroma_max\"] = chroma_feature_set.apply(np.max, axis=1)\n",
    "\n",
    "features[\"mfcc_mean\"] = mfcc_feature_set.apply(np.mean, axis=1)\n",
    "features[\"mfcc_std\"] = mfcc_feature_set.apply(np.std, axis=1)\n",
    "features[\"mfcc_min\"] = mfcc_feature_set.apply(np.min, axis=1)\n",
    "features[\"mfcc_max\"] = mfcc_feature_set.apply(np.max, axis=1)\n",
    "\n",
    "print(features.shape)\n",
    "features.head()"
   ]
  },
  {
   "cell_type": "code",
   "execution_count": null,
   "metadata": {},
   "outputs": [],
   "source": [
    "for header in features.columns:\n",
    "    n_unique = features[header].nunique()\n",
    "    if  n_unique < 20:\n",
    "        print(header, n_unique)\n",
    "        features.drop([header], axis=1, inplace=True)\n",
    "        \n",
    "# we can drop these"
   ]
  },
  {
   "cell_type": "code",
   "execution_count": null,
   "metadata": {},
   "outputs": [],
   "source": [
    "norm_features = preprocessing.scale(features)\n",
    "pd.DataFrame(norm_features).head()"
   ]
  },
  {
   "cell_type": "code",
   "execution_count": null,
   "metadata": {},
   "outputs": [],
   "source": [
    "predictions = mainModel.predict(norm_features)"
   ]
  },
  {
   "cell_type": "code",
   "execution_count": null,
   "metadata": {},
   "outputs": [],
   "source": [
    "np.unique(predictions)"
   ]
  },
  {
   "cell_type": "code",
   "execution_count": null,
   "metadata": {},
   "outputs": [],
   "source": [
    "predictions.shape"
   ]
  },
  {
   "cell_type": "code",
   "execution_count": null,
   "metadata": {},
   "outputs": [],
   "source": []
  },
  {
   "cell_type": "markdown",
   "metadata": {},
   "source": [
    "### submissionthings"
   ]
  },
  {
   "cell_type": "code",
   "execution_count": null,
   "metadata": {},
   "outputs": [],
   "source": [
    "dummy = pd.read_csv(\"./data/dummy_solution_accuracy.csv\")\n",
    "print(dummy.shape)\n",
    "dummy.head()"
   ]
  },
  {
   "cell_type": "code",
   "execution_count": null,
   "metadata": {},
   "outputs": [],
   "source": [
    "submission = dummy.copy()\n",
    "submission[\"Sample_label\"] = predictions"
   ]
  },
  {
   "cell_type": "code",
   "execution_count": null,
   "metadata": {},
   "outputs": [],
   "source": []
  }
 ],
 "metadata": {
  "kernelspec": {
   "display_name": "Python 3",
   "language": "python",
   "name": "python3"
  },
  "language_info": {
   "codemirror_mode": {
    "name": "ipython",
    "version": 3
   },
   "file_extension": ".py",
   "mimetype": "text/x-python",
   "name": "python",
   "nbconvert_exporter": "python",
   "pygments_lexer": "ipython3",
   "version": "3.6.5"
  }
 },
 "nbformat": 4,
 "nbformat_minor": 2
}
