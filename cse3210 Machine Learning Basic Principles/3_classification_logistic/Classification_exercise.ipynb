{
 "cells": [
  {
   "cell_type": "code",
   "execution_count": 1,
   "metadata": {},
   "outputs": [],
   "source": [
    "from PIL import Image\n",
    "import numpy as np\n",
    "import matplotlib.pyplot as plt\n",
    "import pandas as pd"
   ]
  },
  {
   "cell_type": "code",
   "execution_count": 2,
   "metadata": {},
   "outputs": [],
   "source": [
    "def get_feature_matrix(N = 55):\n",
    "    \n",
    "    #initialize the feature vector with zeros. \n",
    "    x_vec = np.zeros((N,3))\n",
    "\n",
    "    x = []\n",
    "    ## Loop through each picture and each pixel and sum the RGB values into the feature vector matrix.\n",
    "    ## At last, remember to divide each R, G and B sum with the total pixel count to get the average value.\n",
    "    ## Hint: Most of the commands required for this task are in the 2.Dataset-section.\n",
    "    # Read in an image from a jpg-file and store it in the variable im   \n",
    "    for i in range(N):\n",
    "        im = Image.open(\"images/image_\" + str(i+1)+\".jpg\")\n",
    "        # Determine the size of the image\n",
    "        width, height = im.size;\n",
    "        # Convert the image to RGB\n",
    "        rgb_im = im.convert('RGB');\n",
    "        # Determine the rgb values of the pixel at location (row,col) where both row and col are 0\n",
    "        for j in range (width):\n",
    "            for k in range (height):\n",
    "                pixel = rgb_im.getpixel((j,k))\n",
    "                for l in range(3):\n",
    "                    x_vec[i,l] += pixel[l]\n",
    "        x_vec[i] = x_vec[i]/(width*height)\n",
    "    \n",
    "    return x_vec;\n",
    "\n",
    "def get_labels():\n",
    "    \"\"\"\n",
    "    0 to 19: Grass (class 1)\n",
    "    20 to 39: Soil (class 2)\n",
    "    40 to 55: Tiles (class 3)\n",
    "    \"\"\"\n",
    "    return np.array([0 if i in range(20) else 1 if i in range(20,40) else 2 for i in range(55)])\n",
    "\n",
    "import os\n",
    "if not os.path.isfile('feature.csv'):\n",
    "    print('generating features')\n",
    "    X = get_feature_matrix()\n",
    "    y = get_labels()\n",
    "    df = pd.DataFrame(X, columns=['red', 'green', 'blue'])\n",
    "    df['class'] = y\n",
    "    df.to_csv('feature.csv', index=False)\n",
    "else:\n",
    "    df = pd.read_csv('feature.csv')"
   ]
  },
  {
   "cell_type": "code",
   "execution_count": 3,
   "metadata": {},
   "outputs": [
    {
     "data": {
      "text/html": [
       "<div>\n",
       "<style scoped>\n",
       "    .dataframe tbody tr th:only-of-type {\n",
       "        vertical-align: middle;\n",
       "    }\n",
       "\n",
       "    .dataframe tbody tr th {\n",
       "        vertical-align: top;\n",
       "    }\n",
       "\n",
       "    .dataframe thead th {\n",
       "        text-align: right;\n",
       "    }\n",
       "</style>\n",
       "<table border=\"1\" class=\"dataframe\">\n",
       "  <thead>\n",
       "    <tr style=\"text-align: right;\">\n",
       "      <th></th>\n",
       "      <th>red</th>\n",
       "      <th>green</th>\n",
       "      <th>blue</th>\n",
       "      <th>class</th>\n",
       "    </tr>\n",
       "  </thead>\n",
       "  <tbody>\n",
       "    <tr>\n",
       "      <th>0</th>\n",
       "      <td>137.601168</td>\n",
       "      <td>164.151861</td>\n",
       "      <td>76.379085</td>\n",
       "      <td>0</td>\n",
       "    </tr>\n",
       "    <tr>\n",
       "      <th>1</th>\n",
       "      <td>87.610809</td>\n",
       "      <td>135.854727</td>\n",
       "      <td>41.928933</td>\n",
       "      <td>0</td>\n",
       "    </tr>\n",
       "    <tr>\n",
       "      <th>2</th>\n",
       "      <td>66.430575</td>\n",
       "      <td>154.891591</td>\n",
       "      <td>40.473052</td>\n",
       "      <td>0</td>\n",
       "    </tr>\n",
       "    <tr>\n",
       "      <th>3</th>\n",
       "      <td>79.411056</td>\n",
       "      <td>121.858225</td>\n",
       "      <td>51.353796</td>\n",
       "      <td>0</td>\n",
       "    </tr>\n",
       "    <tr>\n",
       "      <th>4</th>\n",
       "      <td>147.551549</td>\n",
       "      <td>173.542708</td>\n",
       "      <td>99.561643</td>\n",
       "      <td>0</td>\n",
       "    </tr>\n",
       "  </tbody>\n",
       "</table>\n",
       "</div>"
      ],
      "text/plain": [
       "          red       green       blue  class\n",
       "0  137.601168  164.151861  76.379085      0\n",
       "1   87.610809  135.854727  41.928933      0\n",
       "2   66.430575  154.891591  40.473052      0\n",
       "3   79.411056  121.858225  51.353796      0\n",
       "4  147.551549  173.542708  99.561643      0"
      ]
     },
     "execution_count": 3,
     "metadata": {},
     "output_type": "execute_result"
    }
   ],
   "source": [
    "df.head()"
   ]
  },
  {
   "cell_type": "code",
   "execution_count": 4,
   "metadata": {},
   "outputs": [
    {
     "data": {
      "image/png": "[encoded data removed]",
      "text/plain": [
       "<Figure size 1080x360 with 3 Axes>"
      ]
     },
     "metadata": {},
     "output_type": "display_data"
    }
   ],
   "source": [
    "# Set figure size (width, height)\n",
    "fig, axes = plt.subplots(1, 3,figsize=(15, 5))\n",
    "\n",
    "# PLOT GREENNESS AGAINST REDNESS\n",
    "#Make a scatterplot of the average greenness vs redness. \n",
    "#Indicate Grass images by a cross, and others by a dot.\n",
    "grass = df[df['class'] == 0]\n",
    "others = df[df['class'] != 0]\n",
    "\n",
    "axes[0].scatter(grass['red'], grass['green'], c='g', marker ='x', label='Grass')\n",
    "axes[0].scatter(others['red'], others['green'], c='r', marker ='o', label='Soil+Tiles')\n",
    "\n",
    "axes[0].set_xlabel('Greenness of Images')\n",
    "axes[0].set_ylabel('Redness of Images')\n",
    "axes[0].legend()\n",
    "axes[0].set_title(r'$\\bf{Figure\\ 1.}$Green vs Red')\n",
    "\n",
    "# PLOT GREENNESS AGAINST BLUENESS\n",
    "#The same as above but now greenness vs blueness.\n",
    "axes[1].scatter(grass['blue'], grass['green'], c='g', marker ='x', label='Grass')\n",
    "axes[1].scatter(others['blue'], others['green'],c='b', marker ='o', label='Soil+Tiles')\n",
    "axes[1].set_xlabel('Blueness of Images')\n",
    "axes[1].set_ylabel('Greenness of Images')\n",
    "axes[1].legend()\n",
    "axes[1].set_title(r'$\\bf{Figure\\ 2.}$Green vs Blue')\n",
    "\n",
    "# PLOT REDNESS AGAINST BLUENESS\n",
    "#The same as above but now redness vs blueness.\n",
    "axes[2].scatter(grass['blue'], grass['red'], c='r', marker ='x', label='Grass')\n",
    "axes[2].scatter(others['blue'], others['red'], c='b', marker ='o', label='Soil+Tiles')\n",
    "axes[2].set_xlabel('Blueness of Images')\n",
    "axes[2].set_ylabel('Redness of Images')\n",
    "axes[2].legend()\n",
    "axes[2].set_title(r'$\\bf{Figure\\ 3.}$Red vs Blue')\n",
    "plt.tight_layout()"
   ]
  },
  {
   "cell_type": "code",
   "execution_count": 6,
   "metadata": {},
   "outputs": [],
   "source": [
    "df.loc[:, df.columns!='class'] = df.loc[:, df.columns!='class']/255"
   ]
  },
  {
   "cell_type": "code",
   "execution_count": 7,
   "metadata": {},
   "outputs": [
    {
     "data": {
      "text/html": [
       "<div>\n",
       "<style scoped>\n",
       "    .dataframe tbody tr th:only-of-type {\n",
       "        vertical-align: middle;\n",
       "    }\n",
       "\n",
       "    .dataframe tbody tr th {\n",
       "        vertical-align: top;\n",
       "    }\n",
       "\n",
       "    .dataframe thead th {\n",
       "        text-align: right;\n",
       "    }\n",
       "</style>\n",
       "<table border=\"1\" class=\"dataframe\">\n",
       "  <thead>\n",
       "    <tr style=\"text-align: right;\">\n",
       "      <th></th>\n",
       "      <th>red</th>\n",
       "      <th>green</th>\n",
       "      <th>blue</th>\n",
       "      <th>class</th>\n",
       "    </tr>\n",
       "  </thead>\n",
       "  <tbody>\n",
       "    <tr>\n",
       "      <th>0</th>\n",
       "      <td>0.539612</td>\n",
       "      <td>0.643733</td>\n",
       "      <td>0.299526</td>\n",
       "      <td>0</td>\n",
       "    </tr>\n",
       "    <tr>\n",
       "      <th>1</th>\n",
       "      <td>0.343572</td>\n",
       "      <td>0.532764</td>\n",
       "      <td>0.164427</td>\n",
       "      <td>0</td>\n",
       "    </tr>\n",
       "    <tr>\n",
       "      <th>2</th>\n",
       "      <td>0.260512</td>\n",
       "      <td>0.607418</td>\n",
       "      <td>0.158718</td>\n",
       "      <td>0</td>\n",
       "    </tr>\n",
       "    <tr>\n",
       "      <th>3</th>\n",
       "      <td>0.311416</td>\n",
       "      <td>0.477875</td>\n",
       "      <td>0.201387</td>\n",
       "      <td>0</td>\n",
       "    </tr>\n",
       "    <tr>\n",
       "      <th>4</th>\n",
       "      <td>0.578634</td>\n",
       "      <td>0.680560</td>\n",
       "      <td>0.390438</td>\n",
       "      <td>0</td>\n",
       "    </tr>\n",
       "  </tbody>\n",
       "</table>\n",
       "</div>"
      ],
      "text/plain": [
       "        red     green      blue  class\n",
       "0  0.539612  0.643733  0.299526      0\n",
       "1  0.343572  0.532764  0.164427      0\n",
       "2  0.260512  0.607418  0.158718      0\n",
       "3  0.311416  0.477875  0.201387      0\n",
       "4  0.578634  0.680560  0.390438      0"
      ]
     },
     "execution_count": 7,
     "metadata": {},
     "output_type": "execute_result"
    }
   ],
   "source": [
    "df.head()"
   ]
  },
  {
   "cell_type": "code",
   "execution_count": 58,
   "metadata": {},
   "outputs": [
    {
     "data": {
      "text/html": [
       "<div>\n",
       "<style scoped>\n",
       "    .dataframe tbody tr th:only-of-type {\n",
       "        vertical-align: middle;\n",
       "    }\n",
       "\n",
       "    .dataframe tbody tr th {\n",
       "        vertical-align: top;\n",
       "    }\n",
       "\n",
       "    .dataframe thead th {\n",
       "        text-align: right;\n",
       "    }\n",
       "</style>\n",
       "<table border=\"1\" class=\"dataframe\">\n",
       "  <thead>\n",
       "    <tr style=\"text-align: right;\">\n",
       "      <th></th>\n",
       "      <th>red</th>\n",
       "      <th>green</th>\n",
       "      <th>blue</th>\n",
       "      <th>class</th>\n",
       "    </tr>\n",
       "  </thead>\n",
       "  <tbody>\n",
       "    <tr>\n",
       "      <th>0</th>\n",
       "      <td>0.488557</td>\n",
       "      <td>0.793989</td>\n",
       "      <td>0.293286</td>\n",
       "      <td>0</td>\n",
       "    </tr>\n",
       "    <tr>\n",
       "      <th>1</th>\n",
       "      <td>0.202410</td>\n",
       "      <td>0.617048</td>\n",
       "      <td>0.085682</td>\n",
       "      <td>0</td>\n",
       "    </tr>\n",
       "    <tr>\n",
       "      <th>2</th>\n",
       "      <td>0.081173</td>\n",
       "      <td>0.736085</td>\n",
       "      <td>0.076909</td>\n",
       "      <td>0</td>\n",
       "    </tr>\n",
       "    <tr>\n",
       "      <th>3</th>\n",
       "      <td>0.155474</td>\n",
       "      <td>0.529529</td>\n",
       "      <td>0.142478</td>\n",
       "      <td>0</td>\n",
       "    </tr>\n",
       "    <tr>\n",
       "      <th>4</th>\n",
       "      <td>0.545513</td>\n",
       "      <td>0.852710</td>\n",
       "      <td>0.432988</td>\n",
       "      <td>0</td>\n",
       "    </tr>\n",
       "  </tbody>\n",
       "</table>\n",
       "</div>"
      ],
      "text/plain": [
       "        red     green      blue  class\n",
       "0  0.488557  0.793989  0.293286      0\n",
       "1  0.202410  0.617048  0.085682      0\n",
       "2  0.081173  0.736085  0.076909      0\n",
       "3  0.155474  0.529529  0.142478      0\n",
       "4  0.545513  0.852710  0.432988      0"
      ]
     },
     "execution_count": 58,
     "metadata": {},
     "output_type": "execute_result"
    }
   ],
   "source": [
    "for colour in df.columns:\n",
    "    if colour != 'class':\n",
    "        df[colour] = df[colour].apply(lambda x: (x-df[colour].min())/(df[colour].max()-df[colour].min()))\n",
    "        \n",
    "df.head()"
   ]
  },
  {
   "cell_type": "code",
   "execution_count": 67,
   "metadata": {},
   "outputs": [],
   "source": [
    "def sigmoid_func(z):\n",
    "    return 1/(1+np.exp(-z))\n",
    "\n",
    "def gradient(X,y,w):\n",
    "    N, d = X.shape\n",
    "    grad=np.zeros((1,d))\n",
    "    for i in range(N):\n",
    "        grad=grad+(sigmoid_func(np.dot(X[i,:],np.transpose(w)))-y[i])*X[i,:]\n",
    "        \n",
    "    grad=np.dot(1/55,grad)\n",
    "    return grad\n",
    "\n",
    "def logisticRegression_func(X,y,step_size, K=2000):\n",
    "    \"\"\"\n",
    "    K: no. of iteration\n",
    "    \"\"\"\n",
    "    N, d = X.shape\n",
    "    # Initialize w as 1xd array.\n",
    "    w = np.zeros((1,d))\n",
    "    loss = float('inf')\n",
    "    loss_list = []\n",
    "    for i in range(K):\n",
    "        grad=gradient(X,y,w)\n",
    "        w = w-step_size * grad\n",
    "        l = sigmoid_func(np.dot(X,np.transpose(w)))\n",
    "        loss = -np.dot(np.squeeze(np.asarray(y)),np.log(l))-np.dot(1-np.squeeze(np.asarray(y)),np.log(1-l))\n",
    "        loss_list.append(loss/N)\n",
    "    return loss_list, w\n",
    "\n",
    "def predict_output(X,w):\n",
    "    N = X.shape[0]\n",
    "    y_pred = np.zeros(N)\n",
    "    for i in range(N):\n",
    "        if sigmoid_func(np.dot(X[i,:],np.transpose(w))) >= 0.5:\n",
    "            y_pred[i] = 1\n",
    "        else:\n",
    "            y_pred[i] = 0\n",
    "    return y_pred\n",
    "\n",
    "def get_labels_k(y, k):\n",
    "    \"\"\"\n",
    "    Generate the label vector which has value 1 \n",
    "    for the pictures of the category we are currently looking at (indicated by k) \n",
    "    and 0 for all other categories. \n",
    "    \"\"\"\n",
    "    return np.array([1 if label == k else 0 for label in y])"
   ]
  },
  {
   "cell_type": "code",
   "execution_count": 68,
   "metadata": {},
   "outputs": [
    {
     "name": "stdout",
     "output_type": "stream",
     "text": [
      "[1 1 1 1 1 1 1 1 1 1 1 1 1 1 1 1 1 1 1 1 0 0 0 0 0 0 0 0 0 0 0 0 0 0 0 0 0\n",
      " 0 0 0 0 0 0 0 0 0 0 0 0 0 0 0 0 0 0]\n"
     ]
    }
   ],
   "source": [
    "X = df.loc[:, df.columns != 'class'].values\n",
    "y = df['class']\n",
    "y_prime = get_labels_k(y, 0)\n",
    "print(y_prime)"
   ]
  },
  {
   "cell_type": "code",
   "execution_count": 11,
   "metadata": {},
   "outputs": [
    {
     "data": {
      "text/plain": [
       "<Figure size 864x288 with 0 Axes>"
      ]
     },
     "metadata": {},
     "output_type": "display_data"
    },
    {
     "data": {
      "image/png": "[encoded data removed]",
      "text/plain": [
       "<Figure size 864x288 with 2 Axes>"
      ]
     },
     "metadata": {},
     "output_type": "display_data"
    }
   ],
   "source": [
    "def visualize_error(X, y, step_sizes, best = None, num_iter = 2000):\n",
    "    plt.figure(figsize=(12, 4))\n",
    "    fig, axes = plt.subplots(1, 2,figsize=(12, 4))\n",
    "    for step in step_sizes:\n",
    "        loss_list, w_opt=logisticRegression_func(X,y,step, num_iter)\n",
    "        n = len(loss_list) # Size of list remains the same.\n",
    "        x_axes = np.linspace(0,n,n,endpoint=False)\n",
    "        axes[0].plot(x_axes, loss_list, label=step)\n",
    "    axes[0].set_xlabel('Number of Iterations')\n",
    "    axes[0].set_ylabel('Loss Function')\n",
    "    axes[0].legend()\n",
    "    axes[0].set_title(r'$\\bf{Figure\\ 4.}$Converge of GD')\n",
    "    \n",
    "    for step in step_sizes:\n",
    "\n",
    "        loss_list, w_opt=logisticRegression_func(X,y,step, num_iter)\n",
    "        \n",
    "        n = len(loss_list) # Size of list remains the same.\n",
    "        x_axes = np.linspace(0,n,n,endpoint=False)\n",
    "        if step == best:\n",
    "            axes[1].plot(x_axes, loss_list, label=step, color=\"red\")\n",
    "        else:\n",
    "            axes[1].plot(x_axes, loss_list, label=step, color=\"blue\")\n",
    "    \n",
    "    axes[1].set_xlabel('Number of Iterations')\n",
    "    axes[1].set_ylabel('Loss Function')\n",
    "    axes[1].legend()\n",
    "    axes[1].set_title(r'$\\bf{Figure\\ 5.}$Converge of GD')\n",
    "    plt.tight_layout()\n",
    "    return best, axes\n",
    "\n",
    "# Change best=None into step size from the list that provides the fastest converge. e.g best=1\n",
    "res0_1, axes = visualize_error(X, y_prime, best=16, step_sizes=[0.1,0.5,1,5,10,16])"
   ]
  },
  {
   "cell_type": "code",
   "execution_count": 69,
   "metadata": {},
   "outputs": [],
   "source": [
    "weights = []\n",
    "\n",
    "k = len(np.unique(y)) # no. of classes\n",
    "N = X.shape[0]\n",
    "\n",
    "y_predict = np.zeros((N,k))\n",
    "step_size = 20\n",
    "num_iter = 3000\n",
    "for i in range(k):\n",
    "    y_prime = get_labels_k(y, i)\n",
    "    loss_list, w = logisticRegression_func(X, y_prime, step_size, num_iter)\n",
    "    y_predict[:,i] = predict_output(X, w)\n",
    "    \n",
    "    weights.append(w)"
   ]
  },
  {
   "cell_type": "code",
   "execution_count": 70,
   "metadata": {},
   "outputs": [
    {
     "name": "stdout",
     "output_type": "stream",
     "text": [
      "0.8181818181818182 0.18181818181818177\n"
     ]
    }
   ],
   "source": [
    "def final_class(row):\n",
    "    classes = np.where(row == 1)[0]\n",
    "    if classes.size == 0:\n",
    "        return 0\n",
    "    else:\n",
    "        return classes[0]\n",
    "\n",
    "predictions = np.apply_along_axis(final_class, 1, y_predict)\n",
    "\n",
    "accuracy = np.mean(y == predictions)\n",
    "error = 1 - accuracy\n",
    "print(accuracy, error)"
   ]
  },
  {
   "cell_type": "code",
   "execution_count": 71,
   "metadata": {},
   "outputs": [
    {
     "data": {
      "text/plain": [
       "[array([[-21.03647444,  52.45277179, -44.45312934]]),\n",
       " array([[ 33.45461809, -46.78985017,  10.13636069]]),\n",
       " array([[-10.82325458,  -7.44787749,  22.33107928]])]"
      ]
     },
     "execution_count": 71,
     "metadata": {},
     "output_type": "execute_result"
    }
   ],
   "source": [
    "weights"
   ]
  },
  {
   "cell_type": "code",
   "execution_count": null,
   "metadata": {},
   "outputs": [],
   "source": []
  },
  {
   "cell_type": "code",
   "execution_count": null,
   "metadata": {},
   "outputs": [],
   "source": []
  },
  {
   "cell_type": "code",
   "execution_count": null,
   "metadata": {},
   "outputs": [],
   "source": []
  },
  {
   "cell_type": "code",
   "execution_count": 45,
   "metadata": {},
   "outputs": [],
   "source": [
    "from sklearn.model_selection import train_test_split\n",
    "from sklearn.linear_model import LogisticRegression, LogisticRegressionCV"
   ]
  },
  {
   "cell_type": "code",
   "execution_count": 50,
   "metadata": {},
   "outputs": [
    {
     "data": {
      "text/plain": [
       "0.2545454545454545"
      ]
     },
     "execution_count": 50,
     "metadata": {},
     "output_type": "execute_result"
    }
   ],
   "source": [
    "logmodel = LogisticRegression()\n",
    "logmodel.fit(X,y)\n",
    "predictions = logmodel.predict(X)\n",
    "error = np.mean(predictions != y)\n",
    "error"
   ]
  },
  {
   "cell_type": "code",
   "execution_count": 51,
   "metadata": {},
   "outputs": [
    {
     "data": {
      "text/plain": [
       "array([0, 0, 0, 0, 0, 1, 1, 0, 0, 0, 0, 0, 0, 0, 1, 0, 0, 0, 0, 0, 1, 1,\n",
       "       2, 1, 0, 1, 1, 1, 1, 0, 1, 1, 1, 1, 1, 1, 0, 1, 1, 0, 2, 1, 2, 2,\n",
       "       2, 2, 1, 1, 2, 2, 2, 2, 0, 0, 0])"
      ]
     },
     "execution_count": 51,
     "metadata": {},
     "output_type": "execute_result"
    }
   ],
   "source": [
    "predictions"
   ]
  }
 ],
 "metadata": {
  "kernelspec": {
   "display_name": "Python 3",
   "language": "python",
   "name": "python3"
  },
  "language_info": {
   "codemirror_mode": {
    "name": "ipython",
    "version": 3
   },
   "file_extension": ".py",
   "mimetype": "text/x-python",
   "name": "python",
   "nbconvert_exporter": "python",
   "pygments_lexer": "ipython3",
   "version": "3.6.5"
  }
 },
 "nbformat": 4,
 "nbformat_minor": 2
}
