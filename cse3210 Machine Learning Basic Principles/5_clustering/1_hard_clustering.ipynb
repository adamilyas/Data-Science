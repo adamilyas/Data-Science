{
 "cells": [
  {
   "cell_type": "markdown",
   "metadata": {},
   "source": [
    "# Machine Learning: Basic Principles 2018\n",
    "# Clustering\n",
    "\n",
    "Organize a large number of data points into coherent groups (clusters) using clustering methods using:\n",
    "- the hard clustering method __k-means__\n",
    "- soft clustering method which is motivated by probabilistic __Gaussian mixture models__."
   ]
  },
  {
   "cell_type": "markdown",
   "metadata": {},
   "source": [
    "On a high level, clustering is the task of dividing a (unlabeled) dataset $\\mathbf{X} = \\{ \\mathbf{x}^{(i)} \\}_{i=1}^{N}$, with $N$ data points $\\mathbf{x}^{(i)} \\in \\mathbb{R}^{d}$, into a small number of groups or \"clusters\" $\\mathcal{C}_{1},\\ldots,\\mathcal{C}_{k}$. \n",
    "\n",
    "Each cluster represents a subset of data points such that data points belonging to the same cluster are more similar to each other than to data points from another cluster. \n",
    "\n",
    "In contrast to regression and classification problems considered in earlier exercises, clustering methods do not require labeled data and can be applied to datasets whose data points $\\mathbf{z}^{(i)}$ are characterized solely by its features $\\mathbf{x}^{(i)}$. \n",
    "\n",
    "Therefore clustering methods are referred to as **unsupervised** machine learning methods.\n",
    "\n",
    "There are two main flavors of clustering methods: \n",
    "* __hard clustering methods__  - assign each data point to one and only one cluster.\n",
    "\n",
    "* __soft clustering methods__ - soft-clustering methods assign each data point to several different clusters with varying probabilities."
   ]
  },
  {
   "cell_type": "code",
   "execution_count": 1,
   "metadata": {},
   "outputs": [],
   "source": [
    "import pandas as pd\n",
    "import numpy as np\n",
    "import matplotlib.pyplot as plt\n",
    "\n",
    "from IPython.display import display\n",
    "from ipywidgets import IntProgress\n",
    "\n",
    "## Choosing nice colors for plot\n",
    "#if you want to plot for k>3, extend these lists of colors\n",
    "cmpd = ['orangered','dodgerblue','springgreen']"
   ]
  },
  {
   "cell_type": "code",
   "execution_count": 2,
   "metadata": {},
   "outputs": [
    {
     "data": {
      "text/html": [
       "<div>\n",
       "<style scoped>\n",
       "    .dataframe tbody tr th:only-of-type {\n",
       "        vertical-align: middle;\n",
       "    }\n",
       "\n",
       "    .dataframe tbody tr th {\n",
       "        vertical-align: top;\n",
       "    }\n",
       "\n",
       "    .dataframe thead th {\n",
       "        text-align: right;\n",
       "    }\n",
       "</style>\n",
       "<table border=\"1\" class=\"dataframe\">\n",
       "  <thead>\n",
       "    <tr style=\"text-align: right;\">\n",
       "      <th></th>\n",
       "      <th>Age</th>\n",
       "      <th>Spending</th>\n",
       "    </tr>\n",
       "  </thead>\n",
       "  <tbody>\n",
       "    <tr>\n",
       "      <th>0</th>\n",
       "      <td>28.018868</td>\n",
       "      <td>5.263333</td>\n",
       "    </tr>\n",
       "    <tr>\n",
       "      <th>1</th>\n",
       "      <td>27.897623</td>\n",
       "      <td>5.276452</td>\n",
       "    </tr>\n",
       "    <tr>\n",
       "      <th>2</th>\n",
       "      <td>29.042011</td>\n",
       "      <td>4.794357</td>\n",
       "    </tr>\n",
       "    <tr>\n",
       "      <th>3</th>\n",
       "      <td>29.669165</td>\n",
       "      <td>5.207227</td>\n",
       "    </tr>\n",
       "    <tr>\n",
       "      <th>4</th>\n",
       "      <td>29.494291</td>\n",
       "      <td>6.351539</td>\n",
       "    </tr>\n",
       "  </tbody>\n",
       "</table>\n",
       "</div>"
      ],
      "text/plain": [
       "         Age  Spending\n",
       "0  28.018868  5.263333\n",
       "1  27.897623  5.276452\n",
       "2  29.042011  4.794357\n",
       "3  29.669165  5.207227\n",
       "4  29.494291  6.351539"
      ]
     },
     "metadata": {},
     "output_type": "display_data"
    },
    {
     "name": "stdout",
     "output_type": "stream",
     "text": [
      "(400, 2)\n"
     ]
    }
   ],
   "source": [
    "#read in data from the csv file\n",
    "df = pd.read_csv(\"data.csv\")\n",
    "data=df.values\n",
    "\n",
    "#display first 5 rows, to get a feeling for the data\n",
    "display(df.head(5))\n",
    "print(data.shape)"
   ]
  },
  {
   "cell_type": "code",
   "execution_count": 3,
   "metadata": {},
   "outputs": [
    {
     "data": {
      "image/png": "[encoded data removed]",
      "text/plain": [
       "<Figure size 414x378 with 1 Axes>"
      ]
     },
     "metadata": {},
     "output_type": "display_data"
    }
   ],
   "source": [
    "def plotting(data, centroids=None, clusters=None):\n",
    "    #this function will later on be used for plotting the clusters and centroids. But now we use it to just make a scatter plot of the data\n",
    "    #Input: the data as an array, cluster means (centroids), cluster assignemnts in {0,1,...,k-1}   \n",
    "    #Output: a scatter plot of the data in the clusters with cluster means\n",
    "    plt.figure(figsize=(5.75,5.25))\n",
    "    plt.style.use('ggplot')\n",
    "    plt.title(\"Data\")\n",
    "    plt.xlabel(\"feature $x_1$: customers' age\")\n",
    "    plt.ylabel(\"feature $x_2$: money spent during visit\")\n",
    "\n",
    "    alp = 0.5             #data alpha\n",
    "    dt_sz = 20            #data point size\n",
    "    cent_sz = 130         #centroid sz\n",
    "    \n",
    "    if centroids is None and clusters is None:\n",
    "        plt.scatter(data[:,0], data[:,1],s=dt_sz,alpha=alp ,c=cmpd[0])\n",
    "    if centroids is not None and clusters is None:\n",
    "        plt.scatter(data[:,0], data[:,1],s=dt_sz,alpha=alp, c=cmpd[0])\n",
    "        plt.scatter(centroids[:,0], centroids[:,1], marker=\"x\", s=cent_sz, c=cmpcent)\n",
    "    if centroids is not None and clusters is not None:\n",
    "        plt.scatter(data[:,0], data[:,1], c=[cmpd[i] for i in clusters], s=dt_sz, alpha=alp)\n",
    "        plt.scatter(centroids[:,0], centroids[:,1], marker=\"x\", c=cmpcent, s=cent_sz)\n",
    "    if centroids is None and clusters is not None:\n",
    "        plt.scatter(data[:,0], data[:,1], c=[cmpd[i] for i in clusters], s=dt_sz, alpha=alp)\n",
    "    \n",
    "    plt.show()\n",
    "\n",
    "#plot the data\n",
    "plotting(data)   "
   ]
  },
  {
   "cell_type": "markdown",
   "metadata": {},
   "source": [
    "## 3. Exercise\n",
    "The actual exercise starts from here and it has been divided in 3 tasks:\n",
    "* 3.1 **Hard clustering with k-means** \n",
    "* 3.2 **Handling local minima with k-means**\n",
    "* 3.3 **Soft clustering with Gaussian mixture models (GMMs)**\n",
    "\n",
    "## 3.1 Hard clustering with k-means\n",
    "<a id=\"kmeans\"></a>\n",
    "\n",
    "A popular method for hard clustering is the k-means algorithm which takes as input a list of data points $\\mathbf{x}^{(1)},...,\\mathbf{x}^{(N)} \\in \\mathbb{R}^{d}$ and groups them into $k$ non-overlapping clusters $\\mathcal{C}_{¡},\\ldots,\\mathcal{C}_{k}$. Each cluster $\\mathcal{C}_{c}$ is characterized by its cluster mean $\\mathbf{m}^{(c)} \\in \\mathbb{R}^{d}$. As a hard-clustering method, k-means assigns each data point $\\mathbf{x}^{(i)}$ to exactly one cluster whose index we denote as $y^{(i)} \\in 1,...,k$. We can interpret the cluster assignments $y^{(i)}$ as (hidden) labels of the data points. However, we do not have access to the cluster assignment of any data point but rather have to estimate them based on the internal or intrinsic structure of the data set $\\mathbf{x}^\n",
    "{(1)}, \\ldots, \\mathbf{x}^{(N)}$.\n",
    "\n",
    "\n",
    "K-means can be summarized as follows:\n",
    "\n",
    "* Choose initial cluster means $ \\mathbf{m}^{(1)},...,\\mathbf{m}^{(k)}$\n",
    "\n",
    "* Repeat until stopping condition is reached:  \n",
    "\n",
    "    * Assign each datapoint to the cluster whose mean is nearest. \n",
    "    \n",
    "    I.e. for all $i=1,...,N$, do  $$ y^{(i)} = \\underset{c'}{\\operatorname{argmin}} \\|\\mathbf{x}^{(i)} - \\mathbf{m}^{(c')}\\|^2 $$\n",
    "    \n",
    "    * Update the new cluster means by calculating the average of the points in the cluster. \n",
    "    \n",
    "    I.e. for all $c=1,...,k$, set \n",
    "    \\begin{equation*}\n",
    "    \\mathbf{m}^{(c)} = \\frac{1}{\\mid\\{i: y^{(i)}= c\\}\\mid}{\\sum_{i: y^{(i)}= c}\\mathbf{x}^{(i)}}     \\label{mean}\n",
    "    \\tag{1}\n",
    "    \\end{equation*}\n",
    "    where $\\{i: y^{(i)}= c\\}$ represents the set of datapoints belonging to cluster c and $\\mid\\{i: y^{(i)}= c\\}\\mid$ the number of datapoints belonging to cluster c.  \n",
    "    \n",
    "    Note: Do this only for the clusters with at least one member, those with no members keep the old mean. \n",
    "\n",
    "\n",
    "Thus, k-means consists of 4 simple steps:\n",
    "\n",
    "* __Step 1 - Initialize cluster means.__\n",
    "* __Step 2 - Update the cluster assignments: assign datapoints to the nearest cluster means.__\n",
    "* __Step 3 - Update the cluster means by computing the mean (average) of the data points assigned to a particular cluster.__\n",
    "* __Step 4 - If not finished go to step 2.__\n",
    "\n",
    "The working of $k$-means is best understood by walking through an example. To this end, we apply $k$-means to the Café customer data. \n",
    "\n",
    "\n",
    "### Step 1: Initialize cluster means\n",
    "\n",
    "We first initialize the cluster means, also called centroids. The most common way is to do this by randomly choosing points between the minimum and maximum values of the data. However, here we select predefined data points, in order to have no randomness. "
   ]
  },
  {
   "cell_type": "code",
   "execution_count": 4,
   "metadata": {},
   "outputs": [],
   "source": [
    "def select_centroids(data, k, random_seed=1): \n",
    "    \"\"\"\n",
    "    data: N x d data array \n",
    "    k: number of clusters\n",
    "    \n",
    "    Returns\n",
    "        k x d array of k randomly assigned mean vectors with d dimensions.\n",
    "    \"\"\"\n",
    "    # Random seed will generate exactly same \"random\" values for each execution.\n",
    "    np.random.seed(seed=random_seed)\n",
    "    \n",
    "    n_features = data.shape[1]\n",
    "    centroids = np.zeros((k, n_features))\n",
    "    for i in range(n_features):\n",
    "\n",
    "        centroids[:,i] = np.random.uniform(np.min(data[:,i]), \n",
    "                                           np.max(data[:,i]), \n",
    "                                           size = (k))\n",
    "    return centroids"
   ]
  },
  {
   "cell_type": "code",
   "execution_count": 5,
   "metadata": {},
   "outputs": [
    {
     "name": "stdout",
     "output_type": "stream",
     "text": [
      "[[26.32009513  1.74924226]\n",
      " [29.7021882   4.52106838]]\n"
     ]
    },
    {
     "ename": "NameError",
     "evalue": "name 'cmpcent' is not defined",
     "output_type": "error",
     "traceback": [
      "\u001b[0;31m---------------------------------------------------------------------------\u001b[0m",
      "\u001b[0;31mNameError\u001b[0m                                 Traceback (most recent call last)",
      "\u001b[0;32m<ipython-input-5-4e61401acee0>\u001b[0m in \u001b[0;36m<module>\u001b[0;34m()\u001b[0m\n\u001b[1;32m      3\u001b[0m \u001b[0;31m# each col is feature,\u001b[0m\u001b[0;34m\u001b[0m\u001b[0;34m\u001b[0m\u001b[0m\n\u001b[1;32m      4\u001b[0m \u001b[0;31m# each row is a centroid\u001b[0m\u001b[0;34m\u001b[0m\u001b[0;34m\u001b[0m\u001b[0m\n\u001b[0;32m----> 5\u001b[0;31m \u001b[0mplotting\u001b[0m\u001b[0;34m(\u001b[0m\u001b[0mdata\u001b[0m\u001b[0;34m,\u001b[0m \u001b[0mcentroids\u001b[0m\u001b[0;34m)\u001b[0m\u001b[0;34m\u001b[0m\u001b[0m\n\u001b[0m",
      "\u001b[0;32m<ipython-input-3-2e5b6a25eea3>\u001b[0m in \u001b[0;36mplotting\u001b[0;34m(data, centroids, clusters)\u001b[0m\n\u001b[1;32m     17\u001b[0m     \u001b[0;32mif\u001b[0m \u001b[0mcentroids\u001b[0m \u001b[0;32mis\u001b[0m \u001b[0;32mnot\u001b[0m \u001b[0;32mNone\u001b[0m \u001b[0;32mand\u001b[0m \u001b[0mclusters\u001b[0m \u001b[0;32mis\u001b[0m \u001b[0;32mNone\u001b[0m\u001b[0;34m:\u001b[0m\u001b[0;34m\u001b[0m\u001b[0m\n\u001b[1;32m     18\u001b[0m         \u001b[0mplt\u001b[0m\u001b[0;34m.\u001b[0m\u001b[0mscatter\u001b[0m\u001b[0;34m(\u001b[0m\u001b[0mdata\u001b[0m\u001b[0;34m[\u001b[0m\u001b[0;34m:\u001b[0m\u001b[0;34m,\u001b[0m\u001b[0;36m0\u001b[0m\u001b[0;34m]\u001b[0m\u001b[0;34m,\u001b[0m \u001b[0mdata\u001b[0m\u001b[0;34m[\u001b[0m\u001b[0;34m:\u001b[0m\u001b[0;34m,\u001b[0m\u001b[0;36m1\u001b[0m\u001b[0;34m]\u001b[0m\u001b[0;34m,\u001b[0m\u001b[0ms\u001b[0m\u001b[0;34m=\u001b[0m\u001b[0mdt_sz\u001b[0m\u001b[0;34m,\u001b[0m\u001b[0malpha\u001b[0m\u001b[0;34m=\u001b[0m\u001b[0malp\u001b[0m\u001b[0;34m,\u001b[0m \u001b[0mc\u001b[0m\u001b[0;34m=\u001b[0m\u001b[0mcmpd\u001b[0m\u001b[0;34m[\u001b[0m\u001b[0;36m0\u001b[0m\u001b[0;34m]\u001b[0m\u001b[0;34m)\u001b[0m\u001b[0;34m\u001b[0m\u001b[0m\n\u001b[0;32m---> 19\u001b[0;31m         \u001b[0mplt\u001b[0m\u001b[0;34m.\u001b[0m\u001b[0mscatter\u001b[0m\u001b[0;34m(\u001b[0m\u001b[0mcentroids\u001b[0m\u001b[0;34m[\u001b[0m\u001b[0;34m:\u001b[0m\u001b[0;34m,\u001b[0m\u001b[0;36m0\u001b[0m\u001b[0;34m]\u001b[0m\u001b[0;34m,\u001b[0m \u001b[0mcentroids\u001b[0m\u001b[0;34m[\u001b[0m\u001b[0;34m:\u001b[0m\u001b[0;34m,\u001b[0m\u001b[0;36m1\u001b[0m\u001b[0;34m]\u001b[0m\u001b[0;34m,\u001b[0m \u001b[0mmarker\u001b[0m\u001b[0;34m=\u001b[0m\u001b[0;34m\"x\"\u001b[0m\u001b[0;34m,\u001b[0m \u001b[0ms\u001b[0m\u001b[0;34m=\u001b[0m\u001b[0mcent_sz\u001b[0m\u001b[0;34m,\u001b[0m \u001b[0mc\u001b[0m\u001b[0;34m=\u001b[0m\u001b[0mcmpcent\u001b[0m\u001b[0;34m)\u001b[0m\u001b[0;34m\u001b[0m\u001b[0m\n\u001b[0m\u001b[1;32m     20\u001b[0m     \u001b[0;32mif\u001b[0m \u001b[0mcentroids\u001b[0m \u001b[0;32mis\u001b[0m \u001b[0;32mnot\u001b[0m \u001b[0;32mNone\u001b[0m \u001b[0;32mand\u001b[0m \u001b[0mclusters\u001b[0m \u001b[0;32mis\u001b[0m \u001b[0;32mnot\u001b[0m \u001b[0;32mNone\u001b[0m\u001b[0;34m:\u001b[0m\u001b[0;34m\u001b[0m\u001b[0m\n\u001b[1;32m     21\u001b[0m         \u001b[0mplt\u001b[0m\u001b[0;34m.\u001b[0m\u001b[0mscatter\u001b[0m\u001b[0;34m(\u001b[0m\u001b[0mdata\u001b[0m\u001b[0;34m[\u001b[0m\u001b[0;34m:\u001b[0m\u001b[0;34m,\u001b[0m\u001b[0;36m0\u001b[0m\u001b[0;34m]\u001b[0m\u001b[0;34m,\u001b[0m \u001b[0mdata\u001b[0m\u001b[0;34m[\u001b[0m\u001b[0;34m:\u001b[0m\u001b[0;34m,\u001b[0m\u001b[0;36m1\u001b[0m\u001b[0;34m]\u001b[0m\u001b[0;34m,\u001b[0m \u001b[0mc\u001b[0m\u001b[0;34m=\u001b[0m\u001b[0;34m[\u001b[0m\u001b[0mcmpd\u001b[0m\u001b[0;34m[\u001b[0m\u001b[0mi\u001b[0m\u001b[0;34m]\u001b[0m \u001b[0;32mfor\u001b[0m \u001b[0mi\u001b[0m \u001b[0;32min\u001b[0m \u001b[0mclusters\u001b[0m\u001b[0;34m]\u001b[0m\u001b[0;34m,\u001b[0m \u001b[0ms\u001b[0m\u001b[0;34m=\u001b[0m\u001b[0mdt_sz\u001b[0m\u001b[0;34m,\u001b[0m \u001b[0malpha\u001b[0m\u001b[0;34m=\u001b[0m\u001b[0malp\u001b[0m\u001b[0;34m)\u001b[0m\u001b[0;34m\u001b[0m\u001b[0m\n",
      "\u001b[0;31mNameError\u001b[0m: name 'cmpcent' is not defined"
     ]
    },
    {
     "data": {
      "image/png": "[encoded data removed]",
      "text/plain": [
       "<Figure size 414x378 with 1 Axes>"
      ]
     },
     "metadata": {},
     "output_type": "display_data"
    }
   ],
   "source": [
    "centroids = select_centroids(data=data, k=2)\n",
    "print(centroids)\n",
    "# each col is feature, \n",
    "# each row is a centroid\n",
    "plotting(data, centroids)"
   ]
  },
  {
   "cell_type": "markdown",
   "metadata": {},
   "source": [
    "### Step 2: Cluster assignment update: Assign each datapoint to the cluster of nearest cluster mean\n",
    "\n",
    "In this step your task is to assign each data point $\\mathbf{x}^{(i)}$ to the cluster $c$ with the nearest cluster mean $\\mathbf{m}^{(c)}$. This distance is measured by the Euclidean distance $\\| \\mathbf{x}^{(i)} - \\mathbf{m}^{(c)} \\|$. This will result in a vector of length $N$ whose entries are the cluster assignments $y^{(i)}$ for each point.\n",
    "\n",
    "#### Tasks\n",
    "- Implement a Python function `assign_points()` which takes as inputs the data and centroids (cluster means). It should return a vector, named _clusters_, whose entries are the cluster assignments $y^{(i)}$ for each point. \n",
    "    - You can use `np.linalg.norm()` to get the Euclidean distance. \n",
    "    - You can use `np.argmin()` to get the indices of the minimum values along an axis in an array.\n",
    "    - Note: Remember that indexing in Python starts from 0, hence it might be easier to number the clusters from 0...k-1, but it is up to you to decide :)  "
   ]
  },
  {
   "cell_type": "code",
   "execution_count": null,
   "metadata": {},
   "outputs": [],
   "source": [
    "print(centroids)\n",
    "print(centroids.shape)"
   ]
  },
  {
   "cell_type": "code",
   "execution_count": null,
   "metadata": {},
   "outputs": [],
   "source": [
    "def assign_points(data, centroids):\n",
    "    \"\"\"\n",
    "    data: N x d data\n",
    "    centroids: k x d\n",
    "    \n",
    "    Returns:\n",
    "        N x 1 array of cluster assignments in {0,...,k-1}.    \n",
    "    \"\"\"\n",
    "    N, d = data.shape\n",
    "    clusters = np.zeros(N,dtype=np.int32)\n",
    "    \n",
    "    for i in range(N):\n",
    "        point = data[i]\n",
    "        minDistance = np.float('inf')\n",
    "        current_centroid = 0\n",
    "        \n",
    "        for c_ix in range(len(centroids)):\n",
    "            cent = centroids[c_ix]\n",
    "            distance = np.sqrt(np.sum(np.power(np.subtract(point, cent), 2)))\n",
    "            if distance < minDistance:\n",
    "                minDistance = distance\n",
    "                current_centroid = c_ix\n",
    "                \n",
    "        clusters[i] = current_centroid\n",
    "    return clusters"
   ]
  },
  {
   "cell_type": "code",
   "execution_count": null,
   "metadata": {},
   "outputs": [],
   "source": [
    "clusters = assign_points(data, centroids)\n",
    "plotting(data, centroids, clusters)"
   ]
  },
  {
   "cell_type": "markdown",
   "metadata": {},
   "source": [
    "### Step 3: update cluster means\n",
    "\n",
    "We now want to update the cluster means $\\mathbf{m}^{(c)}$ of the data points that were assigned to cluster c during the previous step."
   ]
  },
  {
   "cell_type": "code",
   "execution_count": null,
   "metadata": {},
   "outputs": [],
   "source": [
    "c1 = [data[i] for i in range(len(clusters)) if clusters[i] == 0]\n",
    "c2 = [data[i] for i in range(len(clusters)) if clusters[i] == 1]\n",
    "plt.scatter(*np.transpose(c1),c=\"r\")\n",
    "plt.scatter(*np.transpose(c2),c=\"b\")\n",
    "plt.scatter(*np.mean(c1, axis=0), marker=\"x\")"
   ]
  },
  {
   "cell_type": "markdown",
   "metadata": {},
   "source": [
    "- Implement the Python function `move_centroids()` which takes as input the data, old centroids and cluster assignments. It should return the new centroids. \n",
    "    - You can use `np.mean()` to compute the mean (see Eq. (1)) of all points belonging to one cluster. \n",
    "    - You need to keep in mind that there might be a situation when none of the points were assigned to a cluster. If this is the case, you should assign the old centroid as new centroid."
   ]
  },
  {
   "cell_type": "code",
   "execution_count": null,
   "metadata": {},
   "outputs": [],
   "source": [
    "clusters[250:270]"
   ]
  },
  {
   "cell_type": "code",
   "execution_count": null,
   "metadata": {},
   "outputs": [],
   "source": [
    "def move_centroids(data, old_centroids, clusters):\n",
    "    \"\"\"\n",
    "    data array: N x d\n",
    "    old_centroids array: k x d \n",
    "    clusters: N x 1\n",
    "    \n",
    "    Returns\n",
    "        k x d array of relocated centroids\n",
    "    \"\"\"    \n",
    "    new_centroids = np.zeros(old_centroids.shape)\n",
    "    N, d = data.shape\n",
    "    k, _ = centroids.shape\n",
    "    \n",
    "    for c_ix in range(k):\n",
    "        cluster_of_points = [data[i] for i in range(N) if clusters[i] == c_ix]\n",
    "        cluster_mean = np.mean(cluster_of_points, axis=0)\n",
    "        new_centroids[c_ix] = cluster_mean\n",
    "    \n",
    "    return new_centroids"
   ]
  },
  {
   "cell_type": "code",
   "execution_count": null,
   "metadata": {},
   "outputs": [],
   "source": [
    "move_centroids(data, centroids,clusters)"
   ]
  },
  {
   "cell_type": "code",
   "execution_count": null,
   "metadata": {},
   "outputs": [],
   "source": [
    "new_centroids = move_centroids(data, centroids,clusters)\n",
    "plotting(data, new_centroids, clusters)"
   ]
  },
  {
   "cell_type": "code",
   "execution_count": null,
   "metadata": {},
   "outputs": [],
   "source": []
  },
  {
   "cell_type": "code",
   "execution_count": null,
   "metadata": {},
   "outputs": [],
   "source": [
    "k = 3\n",
    "\n",
    "centroids = select_centroids(data, k, random_seed=1) \n",
    "\n",
    "print(centroids)\n",
    "\n",
    "clusters = assign_points(data, centroids)\n",
    "\n",
    "print(f'Clusters {np.unique(clusters)}')\n",
    "\n",
    "plotting(data, centroids, clusters)"
   ]
  },
  {
   "cell_type": "code",
   "execution_count": null,
   "metadata": {},
   "outputs": [],
   "source": [
    "k = 3\n",
    "\n",
    "centroids = select_centroids(data, k, random_seed=1) \n",
    "\n",
    "print(centroids)\n",
    "\n",
    "clusters = assign_points(data, centroids)\n",
    "\n",
    "for _ in range(10):\n",
    "    new_centroids = move_centroids(data, centroids,clusters)\n",
    "    new_clusters = assign_points(data, new_centroids)\n",
    "    plotting(data, new_centroids, new_clusters)\n",
    "    \n",
    "print(new_centroids)"
   ]
  },
  {
   "cell_type": "code",
   "execution_count": null,
   "metadata": {},
   "outputs": [],
   "source": [
    "k = 3\n",
    "random_seed = 1\n",
    "data = data\n",
    "plot = True\n",
    "num_iters = 10\n",
    "\n",
    "centroids = select_centroids(data, k, random_seed) \n",
    "for i in range(num_iters):\n",
    "    clusters = assign_points(data, centroids)\n",
    "    #plotting\n",
    "    if plot==True:\n",
    "        plotting(data,centroids,clusters)\n",
    "\n",
    "    centroids = move_centroids(data, centroids,clusters)\n",
    "    \n",
    "print(centroids)"
   ]
  },
  {
   "cell_type": "code",
   "execution_count": null,
   "metadata": {},
   "outputs": [],
   "source": [
    "def k_means(data, k, random_seed=1, num_iters=10,plot=True):\n",
    "    \"\"\"\n",
    "    #INPUT: \n",
    "    N x d data array, \n",
    "    k number of clusters, \n",
    "    number of iterations, \n",
    "    boolean plot.\n",
    "    \n",
    "    Returns\n",
    "        N x 1 array of cluster assignments.     \n",
    "    \"\"\"\n",
    "    centroids = select_centroids(data, k, random_seed) \n",
    "    for i in range(num_iters):\n",
    "        clusters = assign_points(data, centroids)\n",
    "        #plotting\n",
    "        if plot==True and i<3:\n",
    "            plotting(data,centroids,clusters)\n",
    "\n",
    "        centroids = move_centroids(data, centroids,clusters)\n",
    "\n",
    "    return centroids, clusters\n",
    "\n",
    "\n",
    "centroids,clusters = k_means(data, 3)\n",
    "print(\"The final cluster mean values are:\",centroids)"
   ]
  },
  {
   "cell_type": "markdown",
   "metadata": {},
   "source": [
    "## 3.2. Handling local minima in k-means\n",
    "<a id=\"local\"></a>\n",
    "\n",
    "As introduced in the course book, the k-means algorithm aims at minimizing the __empirical risk__: \n",
    "\n",
    "$$\\mathcal{E}  ( \\{\\mathbf{m}^{(c)}\\}_{c=1}^{k},\\{y^{(i)}\\}_{i=1}^{N} \\mid \\{\\mathbf{x}^{(i)}\\}_{i=1}^{N} )\n",
    "=\\frac{1}{N} \\sum_{i=1}^{N} {\\left\\|\\mathbf{x}^{(i)}-\\mathbf{m}^{(y^{(i)})}\\right\\|^2}\n",
    "$$\n",
    "\n",
    "Since the empirical risk is a highly non-convex function of the cluster means and assignments, the k-means method will sometimes get trapped in a local minimum.\n",
    "\n",
    "It is therefore useful to run k-means several times with different initializations for the cluster means and choose the cluster assignment that yields the smallest empirical risk. "
   ]
  },
  {
   "cell_type": "code",
   "execution_count": null,
   "metadata": {},
   "outputs": [],
   "source": [
    "def empirical_risk(data, clusters, centroids):   \n",
    "    #INPUT: N x d data array, k x d array of k mean vectors (centroids),  \n",
    "    #       N x 1 array of cluster assignments. \n",
    "    #OUTPUT: value of empirical risk \n",
    "     \n",
    "    ### STUDENT TASK ### \n",
    "    # YOUR CODE HERE \n",
    "    count_0=0 \n",
    "    count_1=0 \n",
    "    count_2=0 \n",
    "    for i in range (data.shape[0]): \n",
    "        if clusters[i]==0: \n",
    "            count_0=count_0+1 \n",
    "        if clusters[i]==1: \n",
    "            count_1=count_1+1 \n",
    "        count_2=data.shape[0]-count_0-count_1 \n",
    "    cluster_0=np.zeros((count_0,2)) \n",
    "    cluster_1=np.zeros((count_1,2)) \n",
    "    cluster_2=np.zeros((count_2,2)) \n",
    "    n=0 \n",
    "    m=0 \n",
    "    l=0 \n",
    "    for i in range (data.shape[0]): \n",
    "        if clusters[i]==0: \n",
    "            cluster_0[n,:]=data[i,:] \n",
    "            n=n+1 \n",
    "        if clusters[i]==1: \n",
    "            cluster_1[m,:]=data[i,:] \n",
    "            m=m+1 \n",
    "        if clusters[i]==2: \n",
    "            cluster_2[l,:]=data[i,:] \n",
    "            l=l+1 \n",
    "    #risk=0 \n",
    "    #for i in range (cluster_0.shape[0]): \n",
    "    #    risk=risk+np.sqrt(pow(centroids[0,0]-cluster_0[i,0],2)+pow(centroids[0,1]-cluster_0[i,1],2)) \n",
    "    #for i in range (cluster_1.shape[0]): \n",
    "    #    risk=risk+np.sqrt(pow(centroids[1,0]-cluster_1[i,0],2)+pow(centroids[1,1]-cluster_1[i,1],2)) \n",
    "    #for i in range (cluster_2.shape[0]): \n",
    "     #   risk=risk+np.sqrt(pow(centroids[2,0]-cluster_2[i,0],2)+pow(centroids[2,1]-cluster_2[i,1],2)) \n",
    "         \n",
    "     \n",
    "    risk = pow(np.linalg.norm(cluster_0 - centroids[0,:]),2) \n",
    "    risk += pow(np.linalg.norm(cluster_1 - centroids[1,:]),2) \n",
    "    risk += pow(np.linalg.norm(cluster_2 - centroids[2,:]),2) \n",
    "    risk=risk/data.shape[0] \n",
    "     \n",
    "    return risk "
   ]
  },
  {
   "cell_type": "code",
   "execution_count": null,
   "metadata": {},
   "outputs": [],
   "source": [
    "def new_k_means(data, k, plot=True):  \n",
    "    # This will display a progress bar during k-mean execution\n",
    "    f = IntProgress(description=f'KM (k={k}):',min=0, max=50)\n",
    "    display(f)\n",
    "    \n",
    "    # initializing the array where we collect all cluster assignments  \n",
    "    cluster_collection = np.zeros((50, data.shape[0]),dtype=np.int32)\n",
    "    # initializing the array where we collect all risk values \n",
    "    risk_collection = np.zeros(50)\n",
    "    \n",
    "    for i in range(50):\n",
    "        f.value +=1\n",
    "        centroids,clusters=k_means(data,k,random_seed=i,plot=False)\n",
    "        risk_collection[i] = empirical_risk(data, clusters, centroids)\n",
    "        cluster_collection[i,:] = clusters\n",
    "        \n",
    "    #find the best cluster assignment and print the lowest found empirical risk\n",
    "    min_ind = np.argmin(risk_collection)\n",
    "    max_ind=np.argmax(risk_collection)\n",
    "    if plot==True:\n",
    "        print(\"Cluster division with lowest empirical risk\")\n",
    "        plotting(data,clusters=cluster_collection[min_ind,:])\n",
    "        print(\"Cluster division with highest empirical risk\")\n",
    "        plotting(data,clusters=cluster_collection[max_ind,:])\n",
    "    \n",
    "        print('min empirical risk is ', np.min(risk_collection))\n",
    "    \n",
    "    #Let's remove progress bar\n",
    "    f.close()\n",
    "    return cluster_collection[min_ind,:],risk_collection"
   ]
  },
  {
   "cell_type": "code",
   "execution_count": null,
   "metadata": {},
   "outputs": [],
   "source": [
    "best_cluster,risk=new_k_means(data,3)"
   ]
  },
  {
   "cell_type": "code",
   "execution_count": null,
   "metadata": {},
   "outputs": [],
   "source": []
  },
  {
   "cell_type": "code",
   "execution_count": null,
   "metadata": {},
   "outputs": [],
   "source": []
  },
  {
   "cell_type": "code",
   "execution_count": null,
   "metadata": {},
   "outputs": [],
   "source": []
  },
  {
   "cell_type": "code",
   "execution_count": null,
   "metadata": {},
   "outputs": [],
   "source": []
  },
  {
   "cell_type": "code",
   "execution_count": null,
   "metadata": {},
   "outputs": [],
   "source": []
  }
 ],
 "metadata": {
  "kernelspec": {
   "display_name": "Python 3",
   "language": "python",
   "name": "python3"
  },
  "language_info": {
   "codemirror_mode": {
    "name": "ipython",
    "version": 3
   },
   "file_extension": ".py",
   "mimetype": "text/x-python",
   "name": "python",
   "nbconvert_exporter": "python",
   "pygments_lexer": "ipython3",
   "version": "3.6.5"
  }
 },
 "nbformat": 4,
 "nbformat_minor": 2
}
